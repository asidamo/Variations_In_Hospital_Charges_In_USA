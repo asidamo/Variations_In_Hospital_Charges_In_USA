{
 "cells": [
  {
   "cell_type": "code",
   "execution_count": 257,
   "metadata": {},
   "outputs": [],
   "source": [
    "import pandas as pd\n",
    "import numpy as np\n",
    "import matplotlib.pyplot as plt\n",
    "from pylab import rcParams\n",
    "from pandas import ExcelWriter\n",
    "from pandas import ExcelFile\n",
    "rcParams['figure.figsize'] = 12, 10"
   ]
  },
  {
   "cell_type": "code",
   "execution_count": 258,
   "metadata": {},
   "outputs": [],
   "source": [
    "Hospital_Information=pd.read_csv('data/Hospital_General_Information.csv')"
   ]
  },
  {
   "cell_type": "code",
   "execution_count": 259,
   "metadata": {},
   "outputs": [
    {
     "data": {
      "text/html": [
       "<div>\n",
       "<style scoped>\n",
       "    .dataframe tbody tr th:only-of-type {\n",
       "        vertical-align: middle;\n",
       "    }\n",
       "\n",
       "    .dataframe tbody tr th {\n",
       "        vertical-align: top;\n",
       "    }\n",
       "\n",
       "    .dataframe thead th {\n",
       "        text-align: right;\n",
       "    }\n",
       "</style>\n",
       "<table border=\"1\" class=\"dataframe\">\n",
       "  <thead>\n",
       "    <tr style=\"text-align: right;\">\n",
       "      <th></th>\n",
       "      <th>Provider ID</th>\n",
       "      <th>Hospital Name</th>\n",
       "      <th>Address</th>\n",
       "      <th>City</th>\n",
       "      <th>State</th>\n",
       "      <th>ZIP Code</th>\n",
       "      <th>County Name</th>\n",
       "      <th>Phone Number</th>\n",
       "      <th>Hospital Type</th>\n",
       "      <th>Hospital Ownership</th>\n",
       "      <th>...</th>\n",
       "      <th>Readmission national comparison footnote</th>\n",
       "      <th>Patient experience national comparison</th>\n",
       "      <th>Patient experience national comparison footnote</th>\n",
       "      <th>Effectiveness of care national comparison</th>\n",
       "      <th>Effectiveness of care national comparison footnote</th>\n",
       "      <th>Timeliness of care national comparison</th>\n",
       "      <th>Timeliness of care national comparison footnote</th>\n",
       "      <th>Efficient use of medical imaging national comparison</th>\n",
       "      <th>Efficient use of medical imaging national comparison footnote</th>\n",
       "      <th>Location</th>\n",
       "    </tr>\n",
       "  </thead>\n",
       "  <tbody>\n",
       "    <tr>\n",
       "      <th>0</th>\n",
       "      <td>10005</td>\n",
       "      <td>MARSHALL MEDICAL CENTER SOUTH</td>\n",
       "      <td>2505 U S HIGHWAY 431 NORTH</td>\n",
       "      <td>BOAZ</td>\n",
       "      <td>AL</td>\n",
       "      <td>35957</td>\n",
       "      <td>MARSHALL</td>\n",
       "      <td>2565938310</td>\n",
       "      <td>Acute Care Hospitals</td>\n",
       "      <td>Government - Hospital District or Authority</td>\n",
       "      <td>...</td>\n",
       "      <td>NaN</td>\n",
       "      <td>Same as the national average</td>\n",
       "      <td>NaN</td>\n",
       "      <td>Above the national average</td>\n",
       "      <td>NaN</td>\n",
       "      <td>Above the national average</td>\n",
       "      <td>NaN</td>\n",
       "      <td>Below the national average</td>\n",
       "      <td>NaN</td>\n",
       "      <td>2505 U S HIGHWAY 431 NORTH BOAZ, AL 35957</td>\n",
       "    </tr>\n",
       "    <tr>\n",
       "      <th>1</th>\n",
       "      <td>10012</td>\n",
       "      <td>DEKALB REGIONAL MEDICAL CENTER</td>\n",
       "      <td>200 MED CENTER DRIVE</td>\n",
       "      <td>FORT PAYNE</td>\n",
       "      <td>AL</td>\n",
       "      <td>35968</td>\n",
       "      <td>DE KALB</td>\n",
       "      <td>2568453150</td>\n",
       "      <td>Acute Care Hospitals</td>\n",
       "      <td>Proprietary</td>\n",
       "      <td>...</td>\n",
       "      <td>NaN</td>\n",
       "      <td>Below the national average</td>\n",
       "      <td>NaN</td>\n",
       "      <td>Same as the national average</td>\n",
       "      <td>NaN</td>\n",
       "      <td>Above the national average</td>\n",
       "      <td>NaN</td>\n",
       "      <td>Same as the national average</td>\n",
       "      <td>NaN</td>\n",
       "      <td>200 MED CENTER DRIVE FORT PAYNE, AL 35968</td>\n",
       "    </tr>\n",
       "    <tr>\n",
       "      <th>2</th>\n",
       "      <td>10131</td>\n",
       "      <td>CRESTWOOD MEDICAL CENTER</td>\n",
       "      <td>ONE HOSPITAL DR SE</td>\n",
       "      <td>HUNTSVILLE</td>\n",
       "      <td>AL</td>\n",
       "      <td>35801</td>\n",
       "      <td>MADISON</td>\n",
       "      <td>2568823100</td>\n",
       "      <td>Acute Care Hospitals</td>\n",
       "      <td>Proprietary</td>\n",
       "      <td>...</td>\n",
       "      <td>NaN</td>\n",
       "      <td>Below the national average</td>\n",
       "      <td>NaN</td>\n",
       "      <td>Same as the national average</td>\n",
       "      <td>NaN</td>\n",
       "      <td>Below the national average</td>\n",
       "      <td>NaN</td>\n",
       "      <td>Same as the national average</td>\n",
       "      <td>NaN</td>\n",
       "      <td>ONE HOSPITAL DR SE HUNTSVILLE, AL 35801</td>\n",
       "    </tr>\n",
       "    <tr>\n",
       "      <th>3</th>\n",
       "      <td>11304</td>\n",
       "      <td>CHOCTAW GENERAL HOSPITAL</td>\n",
       "      <td>401 VANITY FAIR LANE, PO BOX 618</td>\n",
       "      <td>BUTLER</td>\n",
       "      <td>AL</td>\n",
       "      <td>36904</td>\n",
       "      <td>CHOCTAW</td>\n",
       "      <td>2054599100</td>\n",
       "      <td>Critical Access Hospitals</td>\n",
       "      <td>Voluntary non-profit - Private</td>\n",
       "      <td>...</td>\n",
       "      <td>Results are not available for this reporting p...</td>\n",
       "      <td>Not Available</td>\n",
       "      <td>There are too few measures or measure groups r...</td>\n",
       "      <td>Same as the national average</td>\n",
       "      <td>NaN</td>\n",
       "      <td>Same as the national average</td>\n",
       "      <td>NaN</td>\n",
       "      <td>Not Available</td>\n",
       "      <td>Results are not available for this reporting p...</td>\n",
       "      <td>401 VANITY FAIR LANE, PO BOX 618 BUTLER, AL 36904</td>\n",
       "    </tr>\n",
       "    <tr>\n",
       "      <th>4</th>\n",
       "      <td>21301</td>\n",
       "      <td>PROVIDENCE VALDEZ MEDICAL CENTER</td>\n",
       "      <td>PO BOX 550</td>\n",
       "      <td>VALDEZ</td>\n",
       "      <td>AK</td>\n",
       "      <td>99686</td>\n",
       "      <td>NaN</td>\n",
       "      <td>9078352249</td>\n",
       "      <td>Critical Access Hospitals</td>\n",
       "      <td>Government - Local</td>\n",
       "      <td>...</td>\n",
       "      <td>There are too few measures or measure groups r...</td>\n",
       "      <td>Not Available</td>\n",
       "      <td>There are too few measures or measure groups r...</td>\n",
       "      <td>Not Available</td>\n",
       "      <td>Results are not available for this reporting p...</td>\n",
       "      <td>Not Available</td>\n",
       "      <td>Results are not available for this reporting p...</td>\n",
       "      <td>Not Available</td>\n",
       "      <td>There are too few measures or measure groups r...</td>\n",
       "      <td>PO BOX 550 VALDEZ, AK 99686</td>\n",
       "    </tr>\n",
       "  </tbody>\n",
       "</table>\n",
       "<p>5 rows × 29 columns</p>\n",
       "</div>"
      ],
      "text/plain": [
       "   Provider ID                     Hospital Name  \\\n",
       "0        10005     MARSHALL MEDICAL CENTER SOUTH   \n",
       "1        10012    DEKALB REGIONAL MEDICAL CENTER   \n",
       "2        10131          CRESTWOOD MEDICAL CENTER   \n",
       "3        11304          CHOCTAW GENERAL HOSPITAL   \n",
       "4        21301  PROVIDENCE VALDEZ MEDICAL CENTER   \n",
       "\n",
       "                            Address        City State  ZIP Code County Name  \\\n",
       "0        2505 U S HIGHWAY 431 NORTH        BOAZ    AL     35957    MARSHALL   \n",
       "1              200 MED CENTER DRIVE  FORT PAYNE    AL     35968     DE KALB   \n",
       "2                ONE HOSPITAL DR SE  HUNTSVILLE    AL     35801     MADISON   \n",
       "3  401 VANITY FAIR LANE, PO BOX 618      BUTLER    AL     36904     CHOCTAW   \n",
       "4                        PO BOX 550      VALDEZ    AK     99686         NaN   \n",
       "\n",
       "   Phone Number              Hospital Type  \\\n",
       "0    2565938310       Acute Care Hospitals   \n",
       "1    2568453150       Acute Care Hospitals   \n",
       "2    2568823100       Acute Care Hospitals   \n",
       "3    2054599100  Critical Access Hospitals   \n",
       "4    9078352249  Critical Access Hospitals   \n",
       "\n",
       "                            Hospital Ownership  \\\n",
       "0  Government - Hospital District or Authority   \n",
       "1                                  Proprietary   \n",
       "2                                  Proprietary   \n",
       "3               Voluntary non-profit - Private   \n",
       "4                           Government - Local   \n",
       "\n",
       "                         ...                          \\\n",
       "0                        ...                           \n",
       "1                        ...                           \n",
       "2                        ...                           \n",
       "3                        ...                           \n",
       "4                        ...                           \n",
       "\n",
       "            Readmission national comparison footnote  \\\n",
       "0                                                NaN   \n",
       "1                                                NaN   \n",
       "2                                                NaN   \n",
       "3  Results are not available for this reporting p...   \n",
       "4  There are too few measures or measure groups r...   \n",
       "\n",
       "  Patient experience national comparison  \\\n",
       "0           Same as the national average   \n",
       "1             Below the national average   \n",
       "2             Below the national average   \n",
       "3                          Not Available   \n",
       "4                          Not Available   \n",
       "\n",
       "     Patient experience national comparison footnote  \\\n",
       "0                                                NaN   \n",
       "1                                                NaN   \n",
       "2                                                NaN   \n",
       "3  There are too few measures or measure groups r...   \n",
       "4  There are too few measures or measure groups r...   \n",
       "\n",
       "  Effectiveness of care national comparison  \\\n",
       "0                Above the national average   \n",
       "1              Same as the national average   \n",
       "2              Same as the national average   \n",
       "3              Same as the national average   \n",
       "4                             Not Available   \n",
       "\n",
       "  Effectiveness of care national comparison footnote  \\\n",
       "0                                                NaN   \n",
       "1                                                NaN   \n",
       "2                                                NaN   \n",
       "3                                                NaN   \n",
       "4  Results are not available for this reporting p...   \n",
       "\n",
       "  Timeliness of care national comparison  \\\n",
       "0             Above the national average   \n",
       "1             Above the national average   \n",
       "2             Below the national average   \n",
       "3           Same as the national average   \n",
       "4                          Not Available   \n",
       "\n",
       "     Timeliness of care national comparison footnote  \\\n",
       "0                                                NaN   \n",
       "1                                                NaN   \n",
       "2                                                NaN   \n",
       "3                                                NaN   \n",
       "4  Results are not available for this reporting p...   \n",
       "\n",
       "  Efficient use of medical imaging national comparison  \\\n",
       "0                         Below the national average     \n",
       "1                       Same as the national average     \n",
       "2                       Same as the national average     \n",
       "3                                      Not Available     \n",
       "4                                      Not Available     \n",
       "\n",
       "  Efficient use of medical imaging national comparison footnote  \\\n",
       "0                                                NaN              \n",
       "1                                                NaN              \n",
       "2                                                NaN              \n",
       "3  Results are not available for this reporting p...              \n",
       "4  There are too few measures or measure groups r...              \n",
       "\n",
       "                                            Location  \n",
       "0          2505 U S HIGHWAY 431 NORTH BOAZ, AL 35957  \n",
       "1          200 MED CENTER DRIVE FORT PAYNE, AL 35968  \n",
       "2            ONE HOSPITAL DR SE HUNTSVILLE, AL 35801  \n",
       "3  401 VANITY FAIR LANE, PO BOX 618 BUTLER, AL 36904  \n",
       "4                        PO BOX 550 VALDEZ, AK 99686  \n",
       "\n",
       "[5 rows x 29 columns]"
      ]
     },
     "execution_count": 259,
     "metadata": {},
     "output_type": "execute_result"
    }
   ],
   "source": [
    "Hospital_Information.head()"
   ]
  },
  {
   "cell_type": "code",
   "execution_count": 260,
   "metadata": {},
   "outputs": [],
   "source": [
    "Hospital_Information=Hospital_Information[['Provider ID', 'Hospital Name', 'Address', 'City', 'State', 'ZIP Code',\n",
    "       'County Name', 'Phone Number', 'Hospital Type', 'Hospital Ownership',\n",
    "       'Emergency Services', 'Meets criteria for meaningful use of EHRs',\n",
    "       'Hospital overall rating','Location']]"
   ]
  },
  {
   "cell_type": "code",
   "execution_count": 261,
   "metadata": {},
   "outputs": [
    {
     "data": {
      "text/html": [
       "<div>\n",
       "<style scoped>\n",
       "    .dataframe tbody tr th:only-of-type {\n",
       "        vertical-align: middle;\n",
       "    }\n",
       "\n",
       "    .dataframe tbody tr th {\n",
       "        vertical-align: top;\n",
       "    }\n",
       "\n",
       "    .dataframe thead th {\n",
       "        text-align: right;\n",
       "    }\n",
       "</style>\n",
       "<table border=\"1\" class=\"dataframe\">\n",
       "  <thead>\n",
       "    <tr style=\"text-align: right;\">\n",
       "      <th></th>\n",
       "      <th>Provider ID</th>\n",
       "      <th>Hospital Name</th>\n",
       "      <th>Address</th>\n",
       "      <th>City</th>\n",
       "      <th>State</th>\n",
       "      <th>ZIP Code</th>\n",
       "      <th>County Name</th>\n",
       "      <th>Phone Number</th>\n",
       "      <th>Hospital Type</th>\n",
       "      <th>Hospital Ownership</th>\n",
       "      <th>Emergency Services</th>\n",
       "      <th>Meets criteria for meaningful use of EHRs</th>\n",
       "      <th>Hospital overall rating</th>\n",
       "      <th>Location</th>\n",
       "    </tr>\n",
       "  </thead>\n",
       "  <tbody>\n",
       "    <tr>\n",
       "      <th>0</th>\n",
       "      <td>10005</td>\n",
       "      <td>MARSHALL MEDICAL CENTER SOUTH</td>\n",
       "      <td>2505 U S HIGHWAY 431 NORTH</td>\n",
       "      <td>BOAZ</td>\n",
       "      <td>AL</td>\n",
       "      <td>35957</td>\n",
       "      <td>MARSHALL</td>\n",
       "      <td>2565938310</td>\n",
       "      <td>Acute Care Hospitals</td>\n",
       "      <td>Government - Hospital District or Authority</td>\n",
       "      <td>True</td>\n",
       "      <td>True</td>\n",
       "      <td>1</td>\n",
       "      <td>2505 U S HIGHWAY 431 NORTH BOAZ, AL 35957</td>\n",
       "    </tr>\n",
       "    <tr>\n",
       "      <th>1</th>\n",
       "      <td>10012</td>\n",
       "      <td>DEKALB REGIONAL MEDICAL CENTER</td>\n",
       "      <td>200 MED CENTER DRIVE</td>\n",
       "      <td>FORT PAYNE</td>\n",
       "      <td>AL</td>\n",
       "      <td>35968</td>\n",
       "      <td>DE KALB</td>\n",
       "      <td>2568453150</td>\n",
       "      <td>Acute Care Hospitals</td>\n",
       "      <td>Proprietary</td>\n",
       "      <td>True</td>\n",
       "      <td>True</td>\n",
       "      <td>2</td>\n",
       "      <td>200 MED CENTER DRIVE FORT PAYNE, AL 35968</td>\n",
       "    </tr>\n",
       "    <tr>\n",
       "      <th>2</th>\n",
       "      <td>10131</td>\n",
       "      <td>CRESTWOOD MEDICAL CENTER</td>\n",
       "      <td>ONE HOSPITAL DR SE</td>\n",
       "      <td>HUNTSVILLE</td>\n",
       "      <td>AL</td>\n",
       "      <td>35801</td>\n",
       "      <td>MADISON</td>\n",
       "      <td>2568823100</td>\n",
       "      <td>Acute Care Hospitals</td>\n",
       "      <td>Proprietary</td>\n",
       "      <td>True</td>\n",
       "      <td>True</td>\n",
       "      <td>2</td>\n",
       "      <td>ONE HOSPITAL DR SE HUNTSVILLE, AL 35801</td>\n",
       "    </tr>\n",
       "    <tr>\n",
       "      <th>3</th>\n",
       "      <td>11304</td>\n",
       "      <td>CHOCTAW GENERAL HOSPITAL</td>\n",
       "      <td>401 VANITY FAIR LANE, PO BOX 618</td>\n",
       "      <td>BUTLER</td>\n",
       "      <td>AL</td>\n",
       "      <td>36904</td>\n",
       "      <td>CHOCTAW</td>\n",
       "      <td>2054599100</td>\n",
       "      <td>Critical Access Hospitals</td>\n",
       "      <td>Voluntary non-profit - Private</td>\n",
       "      <td>True</td>\n",
       "      <td>True</td>\n",
       "      <td>Not Available</td>\n",
       "      <td>401 VANITY FAIR LANE, PO BOX 618 BUTLER, AL 36904</td>\n",
       "    </tr>\n",
       "    <tr>\n",
       "      <th>4</th>\n",
       "      <td>21301</td>\n",
       "      <td>PROVIDENCE VALDEZ MEDICAL CENTER</td>\n",
       "      <td>PO BOX 550</td>\n",
       "      <td>VALDEZ</td>\n",
       "      <td>AK</td>\n",
       "      <td>99686</td>\n",
       "      <td>NaN</td>\n",
       "      <td>9078352249</td>\n",
       "      <td>Critical Access Hospitals</td>\n",
       "      <td>Government - Local</td>\n",
       "      <td>True</td>\n",
       "      <td>True</td>\n",
       "      <td>Not Available</td>\n",
       "      <td>PO BOX 550 VALDEZ, AK 99686</td>\n",
       "    </tr>\n",
       "  </tbody>\n",
       "</table>\n",
       "</div>"
      ],
      "text/plain": [
       "   Provider ID                     Hospital Name  \\\n",
       "0        10005     MARSHALL MEDICAL CENTER SOUTH   \n",
       "1        10012    DEKALB REGIONAL MEDICAL CENTER   \n",
       "2        10131          CRESTWOOD MEDICAL CENTER   \n",
       "3        11304          CHOCTAW GENERAL HOSPITAL   \n",
       "4        21301  PROVIDENCE VALDEZ MEDICAL CENTER   \n",
       "\n",
       "                            Address        City State  ZIP Code County Name  \\\n",
       "0        2505 U S HIGHWAY 431 NORTH        BOAZ    AL     35957    MARSHALL   \n",
       "1              200 MED CENTER DRIVE  FORT PAYNE    AL     35968     DE KALB   \n",
       "2                ONE HOSPITAL DR SE  HUNTSVILLE    AL     35801     MADISON   \n",
       "3  401 VANITY FAIR LANE, PO BOX 618      BUTLER    AL     36904     CHOCTAW   \n",
       "4                        PO BOX 550      VALDEZ    AK     99686         NaN   \n",
       "\n",
       "   Phone Number              Hospital Type  \\\n",
       "0    2565938310       Acute Care Hospitals   \n",
       "1    2568453150       Acute Care Hospitals   \n",
       "2    2568823100       Acute Care Hospitals   \n",
       "3    2054599100  Critical Access Hospitals   \n",
       "4    9078352249  Critical Access Hospitals   \n",
       "\n",
       "                            Hospital Ownership  Emergency Services  \\\n",
       "0  Government - Hospital District or Authority                True   \n",
       "1                                  Proprietary                True   \n",
       "2                                  Proprietary                True   \n",
       "3               Voluntary non-profit - Private                True   \n",
       "4                           Government - Local                True   \n",
       "\n",
       "  Meets criteria for meaningful use of EHRs Hospital overall rating  \\\n",
       "0                                      True                       1   \n",
       "1                                      True                       2   \n",
       "2                                      True                       2   \n",
       "3                                      True           Not Available   \n",
       "4                                      True           Not Available   \n",
       "\n",
       "                                            Location  \n",
       "0          2505 U S HIGHWAY 431 NORTH BOAZ, AL 35957  \n",
       "1          200 MED CENTER DRIVE FORT PAYNE, AL 35968  \n",
       "2            ONE HOSPITAL DR SE HUNTSVILLE, AL 35801  \n",
       "3  401 VANITY FAIR LANE, PO BOX 618 BUTLER, AL 36904  \n",
       "4                        PO BOX 550 VALDEZ, AK 99686  "
      ]
     },
     "execution_count": 261,
     "metadata": {},
     "output_type": "execute_result"
    }
   ],
   "source": [
    "Hospital_Information.head()"
   ]
  },
  {
   "cell_type": "code",
   "execution_count": 262,
   "metadata": {},
   "outputs": [
    {
     "data": {
      "text/html": [
       "<div>\n",
       "<style scoped>\n",
       "    .dataframe tbody tr th:only-of-type {\n",
       "        vertical-align: middle;\n",
       "    }\n",
       "\n",
       "    .dataframe tbody tr th {\n",
       "        vertical-align: top;\n",
       "    }\n",
       "\n",
       "    .dataframe thead th {\n",
       "        text-align: right;\n",
       "    }\n",
       "</style>\n",
       "<table border=\"1\" class=\"dataframe\">\n",
       "  <thead>\n",
       "    <tr style=\"text-align: right;\">\n",
       "      <th></th>\n",
       "      <th>Provider ID</th>\n",
       "      <th>Provider Name</th>\n",
       "      <th>Provider Street Address</th>\n",
       "      <th>Provider City</th>\n",
       "      <th>Provider State</th>\n",
       "      <th>Provider Zip Code</th>\n",
       "      <th>Provider HRR</th>\n",
       "      <th>APC</th>\n",
       "      <th>APC Description</th>\n",
       "      <th>Comprehensive APC Services</th>\n",
       "      <th>Average Estimated Total Submitted Charges</th>\n",
       "      <th>Average Medicare Allowed Amount</th>\n",
       "      <th>Average Medicare Payment Amount</th>\n",
       "      <th>Outlier Comprehensive APC Services</th>\n",
       "      <th>Average Medicare Outlier Amount</th>\n",
       "    </tr>\n",
       "  </thead>\n",
       "  <tbody>\n",
       "    <tr>\n",
       "      <th>0</th>\n",
       "      <td>10001</td>\n",
       "      <td>Southeast Alabama Medical Center</td>\n",
       "      <td>1108 Ross Clark Circle</td>\n",
       "      <td>Dothan</td>\n",
       "      <td>AL</td>\n",
       "      <td>36301</td>\n",
       "      <td>AL - Dothan</td>\n",
       "      <td>61</td>\n",
       "      <td>Level II Neurostimulator &amp; Related Procedures</td>\n",
       "      <td>11</td>\n",
       "      <td>14376.875455</td>\n",
       "      <td>4391.821818</td>\n",
       "      <td>3499.090000</td>\n",
       "      <td>0.0</td>\n",
       "      <td>NaN</td>\n",
       "    </tr>\n",
       "    <tr>\n",
       "      <th>1</th>\n",
       "      <td>10001</td>\n",
       "      <td>Southeast Alabama Medical Center</td>\n",
       "      <td>1108 Ross Clark Circle</td>\n",
       "      <td>Dothan</td>\n",
       "      <td>AL</td>\n",
       "      <td>36301</td>\n",
       "      <td>AL - Dothan</td>\n",
       "      <td>67</td>\n",
       "      <td>Single Session Cranial Stereotactic Radiosurgery</td>\n",
       "      <td>16</td>\n",
       "      <td>48732.947500</td>\n",
       "      <td>8065.520000</td>\n",
       "      <td>6805.520000</td>\n",
       "      <td>0.0</td>\n",
       "      <td>NaN</td>\n",
       "    </tr>\n",
       "    <tr>\n",
       "      <th>2</th>\n",
       "      <td>10001</td>\n",
       "      <td>Southeast Alabama Medical Center</td>\n",
       "      <td>1108 Ross Clark Circle</td>\n",
       "      <td>Dothan</td>\n",
       "      <td>AL</td>\n",
       "      <td>36301</td>\n",
       "      <td>AL - Dothan</td>\n",
       "      <td>83</td>\n",
       "      <td>Level I Endovascular Procedures</td>\n",
       "      <td>166</td>\n",
       "      <td>28203.660843</td>\n",
       "      <td>3772.706265</td>\n",
       "      <td>3005.188133</td>\n",
       "      <td>17.0</td>\n",
       "      <td>609.050976</td>\n",
       "    </tr>\n",
       "    <tr>\n",
       "      <th>3</th>\n",
       "      <td>10001</td>\n",
       "      <td>Southeast Alabama Medical Center</td>\n",
       "      <td>1108 Ross Clark Circle</td>\n",
       "      <td>Dothan</td>\n",
       "      <td>AL</td>\n",
       "      <td>36301</td>\n",
       "      <td>AL - Dothan</td>\n",
       "      <td>89</td>\n",
       "      <td>Level III Pacemaker and Similar Procedures</td>\n",
       "      <td>95</td>\n",
       "      <td>51839.553474</td>\n",
       "      <td>7841.411158</td>\n",
       "      <td>6579.950105</td>\n",
       "      <td>0.0</td>\n",
       "      <td>NaN</td>\n",
       "    </tr>\n",
       "    <tr>\n",
       "      <th>4</th>\n",
       "      <td>10001</td>\n",
       "      <td>Southeast Alabama Medical Center</td>\n",
       "      <td>1108 Ross Clark Circle</td>\n",
       "      <td>Dothan</td>\n",
       "      <td>AL</td>\n",
       "      <td>36301</td>\n",
       "      <td>AL - Dothan</td>\n",
       "      <td>90</td>\n",
       "      <td>Level II Pacemaker and Similar Procedures</td>\n",
       "      <td>36</td>\n",
       "      <td>41511.477222</td>\n",
       "      <td>5415.845833</td>\n",
       "      <td>4315.065833</td>\n",
       "      <td>NaN</td>\n",
       "      <td>NaN</td>\n",
       "    </tr>\n",
       "  </tbody>\n",
       "</table>\n",
       "</div>"
      ],
      "text/plain": [
       "   Provider ID                     Provider Name Provider Street Address  \\\n",
       "0        10001  Southeast Alabama Medical Center  1108 Ross Clark Circle   \n",
       "1        10001  Southeast Alabama Medical Center  1108 Ross Clark Circle   \n",
       "2        10001  Southeast Alabama Medical Center  1108 Ross Clark Circle   \n",
       "3        10001  Southeast Alabama Medical Center  1108 Ross Clark Circle   \n",
       "4        10001  Southeast Alabama Medical Center  1108 Ross Clark Circle   \n",
       "\n",
       "  Provider City Provider State  Provider Zip Code Provider HRR  APC  \\\n",
       "0        Dothan             AL              36301  AL - Dothan   61   \n",
       "1        Dothan             AL              36301  AL - Dothan   67   \n",
       "2        Dothan             AL              36301  AL - Dothan   83   \n",
       "3        Dothan             AL              36301  AL - Dothan   89   \n",
       "4        Dothan             AL              36301  AL - Dothan   90   \n",
       "\n",
       "                                    APC Description  \\\n",
       "0     Level II Neurostimulator & Related Procedures   \n",
       "1  Single Session Cranial Stereotactic Radiosurgery   \n",
       "2                   Level I Endovascular Procedures   \n",
       "3        Level III Pacemaker and Similar Procedures   \n",
       "4         Level II Pacemaker and Similar Procedures   \n",
       "\n",
       "   Comprehensive APC Services  Average Estimated Total Submitted Charges  \\\n",
       "0                          11                               14376.875455   \n",
       "1                          16                               48732.947500   \n",
       "2                         166                               28203.660843   \n",
       "3                          95                               51839.553474   \n",
       "4                          36                               41511.477222   \n",
       "\n",
       "   Average Medicare Allowed Amount  Average Medicare Payment Amount  \\\n",
       "0                      4391.821818                      3499.090000   \n",
       "1                      8065.520000                      6805.520000   \n",
       "2                      3772.706265                      3005.188133   \n",
       "3                      7841.411158                      6579.950105   \n",
       "4                      5415.845833                      4315.065833   \n",
       "\n",
       "   Outlier Comprehensive APC Services  Average Medicare Outlier Amount  \n",
       "0                                 0.0                              NaN  \n",
       "1                                 0.0                              NaN  \n",
       "2                                17.0                       609.050976  \n",
       "3                                 0.0                              NaN  \n",
       "4                                 NaN                              NaN  "
      ]
     },
     "execution_count": 262,
     "metadata": {},
     "output_type": "execute_result"
    }
   ],
   "source": [
    "# OutPatmedicarecharge=pd.read_csv('data/Provider_Outpatient_Hospital_Charge_Data_by_APC__CY2016.csv')\n",
    "#OutPatmedicarecharge.head()\n",
    "OutPatmedicarecharge=pd.read_csv('data/Provider_Outpatient_Hospital_Charge_Data_by_APC__CY2015.csv')\n",
    "OutPatmedicarecharge.head()\n"
   ]
  },
  {
   "cell_type": "code",
   "execution_count": 263,
   "metadata": {},
   "outputs": [
    {
     "data": {
      "text/plain": [
       "array(['AL', 'CA', 'AK', 'AZ', 'CT', 'AR', 'FL', 'CO', 'DE', 'DC', 'IL',\n",
       "       'GA', 'HI', 'ID', 'IN', 'IA', 'KS', 'KY', 'LA', 'MT', 'ME', 'MA',\n",
       "       'MI', 'MN', 'MS', 'MO', 'NE', 'NV', 'NH', 'NJ', 'NM', 'NY', 'OH',\n",
       "       'PA', 'NC', 'ND', 'OK', 'OR', 'RI', 'SC', 'SD', 'TN', 'TX', 'UT',\n",
       "       'VA', 'VT', 'WA', 'WV', 'WI', 'WY'], dtype=object)"
      ]
     },
     "execution_count": 263,
     "metadata": {},
     "output_type": "execute_result"
    }
   ],
   "source": [
    "OutPatmedicarecharge['Provider State'].unique()"
   ]
  },
  {
   "cell_type": "code",
   "execution_count": 264,
   "metadata": {},
   "outputs": [],
   "source": [
    "us_state_abbrev = {\n",
    "    'Alabama': 'AL',\n",
    "    'Alaska': 'AK',\n",
    "    'Arizona': 'AZ',\n",
    "    'Arkansas': 'AR',\n",
    "    'California': 'CA',\n",
    "    'Colorado': 'CO',\n",
    "    'Connecticut': 'CT',\n",
    "    'Delaware': 'DE',\n",
    "    'Florida': 'FL',\n",
    "    'Georgia': 'GA',\n",
    "    'Hawaii': 'HI',\n",
    "    'Idaho': 'ID',\n",
    "    'Illinois': 'IL',\n",
    "    'Indiana': 'IN',\n",
    "    'Iowa': 'IA',\n",
    "    'Kansas': 'KS',\n",
    "    'Kentucky': 'KY',\n",
    "    'Louisiana': 'LA',\n",
    "    'Maine': 'ME',\n",
    "    'Maryland': 'MD',\n",
    "    'Massachusetts': 'MA',\n",
    "    'Michigan': 'MI',\n",
    "    'Minnesota': 'MN',\n",
    "    'Mississippi': 'MS',\n",
    "    'Missouri': 'MO',\n",
    "    'Montana': 'MT',\n",
    "    'Nebraska': 'NE',\n",
    "    'Nevada': 'NV',\n",
    "    'New Hampshire': 'NH',\n",
    "    'New Jersey': 'NJ',\n",
    "    'New Mexico': 'NM',\n",
    "    'New York': 'NY',\n",
    "    'North Carolina': 'NC',\n",
    "    'North Dakota': 'ND',\n",
    "    'Ohio': 'OH',\n",
    "    'Oklahoma': 'OK',\n",
    "    'Oregon': 'OR',\n",
    "    'Pennsylvania': 'PA',\n",
    "    'Rhode Island': 'RI',\n",
    "    'South Carolina': 'SC',\n",
    "    'South Dakota': 'SD',\n",
    "    'Tennessee': 'TN',\n",
    "    'Texas': 'TX',\n",
    "    'Utah': 'UT',\n",
    "    'Vermont': 'VT',\n",
    "    'Virginia': 'VA',\n",
    "    'Washington': 'WA',\n",
    "    'West Virginia': 'WV',\n",
    "    'Wisconsin': 'WI',\n",
    "    'Wyoming': 'WY',\n",
    "}"
   ]
  },
  {
   "cell_type": "code",
   "execution_count": 265,
   "metadata": {},
   "outputs": [],
   "source": [
    "# convert from State dictionary to data frame \n",
    "state_df=pd.DataFrame.from_dict(us_state_abbrev, orient='index')\n",
    "state_df=state_df.reset_index()\n",
    "state_df.columns=['State','Provider State']\n"
   ]
  },
  {
   "cell_type": "code",
   "execution_count": 266,
   "metadata": {},
   "outputs": [
    {
     "name": "stdout",
     "output_type": "stream",
     "text": [
      "     ZIP      COUNTYNAME STATE  STCOUNTYFP CLASSFP\n",
      "0  36003  Autauga County    AL        1001      H1\n",
      "1  36006  Autauga County    AL        1001      H1\n",
      "2  36067  Autauga County    AL        1001      H1\n",
      "3  36066  Autauga County    AL        1001      H1\n",
      "4  36703  Autauga County    AL        1001      H1\n"
     ]
    },
    {
     "data": {
      "text/html": [
       "<div>\n",
       "<style scoped>\n",
       "    .dataframe tbody tr th:only-of-type {\n",
       "        vertical-align: middle;\n",
       "    }\n",
       "\n",
       "    .dataframe tbody tr th {\n",
       "        vertical-align: top;\n",
       "    }\n",
       "\n",
       "    .dataframe thead th {\n",
       "        text-align: right;\n",
       "    }\n",
       "</style>\n",
       "<table border=\"1\" class=\"dataframe\">\n",
       "  <thead>\n",
       "    <tr style=\"text-align: right;\">\n",
       "      <th></th>\n",
       "      <th>State</th>\n",
       "      <th>Provider State</th>\n",
       "      <th>Provider Zip Code</th>\n",
       "      <th>County</th>\n",
       "    </tr>\n",
       "  </thead>\n",
       "  <tbody>\n",
       "    <tr>\n",
       "      <th>0</th>\n",
       "      <td>Alabama</td>\n",
       "      <td>AL</td>\n",
       "      <td>36003</td>\n",
       "      <td>Autauga</td>\n",
       "    </tr>\n",
       "    <tr>\n",
       "      <th>1</th>\n",
       "      <td>Alabama</td>\n",
       "      <td>AL</td>\n",
       "      <td>36006</td>\n",
       "      <td>Autauga</td>\n",
       "    </tr>\n",
       "    <tr>\n",
       "      <th>2</th>\n",
       "      <td>Alabama</td>\n",
       "      <td>AL</td>\n",
       "      <td>36067</td>\n",
       "      <td>Autauga</td>\n",
       "    </tr>\n",
       "    <tr>\n",
       "      <th>3</th>\n",
       "      <td>Alabama</td>\n",
       "      <td>AL</td>\n",
       "      <td>36066</td>\n",
       "      <td>Autauga</td>\n",
       "    </tr>\n",
       "    <tr>\n",
       "      <th>4</th>\n",
       "      <td>Alabama</td>\n",
       "      <td>AL</td>\n",
       "      <td>36703</td>\n",
       "      <td>Autauga</td>\n",
       "    </tr>\n",
       "  </tbody>\n",
       "</table>\n",
       "</div>"
      ],
      "text/plain": [
       "     State Provider State  Provider Zip Code    County\n",
       "0  Alabama             AL              36003  Autauga \n",
       "1  Alabama             AL              36006  Autauga \n",
       "2  Alabama             AL              36067  Autauga \n",
       "3  Alabama             AL              36066  Autauga \n",
       "4  Alabama             AL              36703  Autauga "
      ]
     },
     "execution_count": 266,
     "metadata": {},
     "output_type": "execute_result"
    }
   ],
   "source": [
    "# import zipcodes by state and county data\n",
    "zipcodes=pd.read_csv('data/ZIP-COUNTY-FIPS_2017-06.csv')\n",
    "print(zipcodes.head())\n",
    "\n",
    "# create a county column by replace County from COUNTYNAME column\n",
    "zipcodes['County']=zipcodes.COUNTYNAME.str.replace('(County)','',regex=True)\n",
    "# keep only three columns listed\n",
    "zipcodes=zipcodes[['ZIP','County','STATE']]\n",
    "\n",
    "# rename the columns\n",
    "zipcodes.columns=['Provider Zip Code','County','Provider State']\n",
    "# merge zipcode data with state_df\n",
    "state_data=pd.merge(state_df,zipcodes, how= 'inner', on='Provider State' )\n",
    "state_data.head()"
   ]
  },
  {
   "cell_type": "code",
   "execution_count": 267,
   "metadata": {},
   "outputs": [
    {
     "data": {
      "text/plain": [
       "Index(['Provider ID', 'Provider Name', 'Provider Street Address',\n",
       "       'Provider City', 'Provider State', 'Provider Zip Code', 'Provider HRR',\n",
       "       'APC', 'APC Description', 'Comprehensive APC Services',\n",
       "       'Average Estimated Total Submitted Charges',\n",
       "       'Average Medicare Allowed Amount', 'Average Medicare Payment Amount',\n",
       "       'Outlier Comprehensive APC Services',\n",
       "       'Average Medicare Outlier Amount'],\n",
       "      dtype='object')"
      ]
     },
     "execution_count": 267,
     "metadata": {},
     "output_type": "execute_result"
    }
   ],
   "source": [
    "OutPatmedicarecharge.columns"
   ]
  },
  {
   "cell_type": "code",
   "execution_count": 268,
   "metadata": {},
   "outputs": [
    {
     "data": {
      "text/html": [
       "<div>\n",
       "<style scoped>\n",
       "    .dataframe tbody tr th:only-of-type {\n",
       "        vertical-align: middle;\n",
       "    }\n",
       "\n",
       "    .dataframe tbody tr th {\n",
       "        vertical-align: top;\n",
       "    }\n",
       "\n",
       "    .dataframe thead th {\n",
       "        text-align: right;\n",
       "    }\n",
       "</style>\n",
       "<table border=\"1\" class=\"dataframe\">\n",
       "  <thead>\n",
       "    <tr style=\"text-align: right;\">\n",
       "      <th></th>\n",
       "      <th>State</th>\n",
       "      <th>Provider State</th>\n",
       "      <th>Provider Zip Code</th>\n",
       "      <th>County</th>\n",
       "      <th>Provider ID</th>\n",
       "      <th>Provider Name</th>\n",
       "      <th>Provider Street Address</th>\n",
       "      <th>Provider City</th>\n",
       "      <th>Provider HRR</th>\n",
       "      <th>APC</th>\n",
       "      <th>APC Description</th>\n",
       "      <th>Comprehensive APC Services</th>\n",
       "      <th>Average Estimated Total Submitted Charges</th>\n",
       "      <th>Average Medicare Allowed Amount</th>\n",
       "      <th>Average Medicare Payment Amount</th>\n",
       "      <th>Outlier Comprehensive APC Services</th>\n",
       "      <th>Average Medicare Outlier Amount</th>\n",
       "    </tr>\n",
       "  </thead>\n",
       "  <tbody>\n",
       "    <tr>\n",
       "      <th>0</th>\n",
       "      <td>Alabama</td>\n",
       "      <td>AL</td>\n",
       "      <td>36701</td>\n",
       "      <td>Autauga</td>\n",
       "      <td>10118</td>\n",
       "      <td>Vaughan Regional Medical Center Parkway Campus</td>\n",
       "      <td>1015 Medical Center Parkway</td>\n",
       "      <td>Selma</td>\n",
       "      <td>AL - Birmingham</td>\n",
       "      <td>83</td>\n",
       "      <td>Level I Endovascular Procedures</td>\n",
       "      <td>58</td>\n",
       "      <td>40751.370517</td>\n",
       "      <td>4096.309828</td>\n",
       "      <td>3247.878276</td>\n",
       "      <td>NaN</td>\n",
       "      <td>NaN</td>\n",
       "    </tr>\n",
       "    <tr>\n",
       "      <th>1</th>\n",
       "      <td>Alabama</td>\n",
       "      <td>AL</td>\n",
       "      <td>36701</td>\n",
       "      <td>Autauga</td>\n",
       "      <td>10118</td>\n",
       "      <td>Vaughan Regional Medical Center Parkway Campus</td>\n",
       "      <td>1015 Medical Center Parkway</td>\n",
       "      <td>Selma</td>\n",
       "      <td>AL - Birmingham</td>\n",
       "      <td>229</td>\n",
       "      <td>Level II Endovascular Procedures</td>\n",
       "      <td>19</td>\n",
       "      <td>56610.352632</td>\n",
       "      <td>8954.770000</td>\n",
       "      <td>7694.770000</td>\n",
       "      <td>0.0</td>\n",
       "      <td>NaN</td>\n",
       "    </tr>\n",
       "    <tr>\n",
       "      <th>2</th>\n",
       "      <td>Alabama</td>\n",
       "      <td>AL</td>\n",
       "      <td>36701</td>\n",
       "      <td>Autauga</td>\n",
       "      <td>10118</td>\n",
       "      <td>Vaughan Regional Medical Center Parkway Campus</td>\n",
       "      <td>1015 Medical Center Parkway</td>\n",
       "      <td>Selma</td>\n",
       "      <td>AL - Birmingham</td>\n",
       "      <td>385</td>\n",
       "      <td>Level I Urogenital Procedures</td>\n",
       "      <td>11</td>\n",
       "      <td>32728.518182</td>\n",
       "      <td>6355.210000</td>\n",
       "      <td>5095.210000</td>\n",
       "      <td>0.0</td>\n",
       "      <td>NaN</td>\n",
       "    </tr>\n",
       "    <tr>\n",
       "      <th>3</th>\n",
       "      <td>Alabama</td>\n",
       "      <td>AL</td>\n",
       "      <td>36701</td>\n",
       "      <td>Dallas</td>\n",
       "      <td>10118</td>\n",
       "      <td>Vaughan Regional Medical Center Parkway Campus</td>\n",
       "      <td>1015 Medical Center Parkway</td>\n",
       "      <td>Selma</td>\n",
       "      <td>AL - Birmingham</td>\n",
       "      <td>83</td>\n",
       "      <td>Level I Endovascular Procedures</td>\n",
       "      <td>58</td>\n",
       "      <td>40751.370517</td>\n",
       "      <td>4096.309828</td>\n",
       "      <td>3247.878276</td>\n",
       "      <td>NaN</td>\n",
       "      <td>NaN</td>\n",
       "    </tr>\n",
       "    <tr>\n",
       "      <th>4</th>\n",
       "      <td>Alabama</td>\n",
       "      <td>AL</td>\n",
       "      <td>36701</td>\n",
       "      <td>Dallas</td>\n",
       "      <td>10118</td>\n",
       "      <td>Vaughan Regional Medical Center Parkway Campus</td>\n",
       "      <td>1015 Medical Center Parkway</td>\n",
       "      <td>Selma</td>\n",
       "      <td>AL - Birmingham</td>\n",
       "      <td>229</td>\n",
       "      <td>Level II Endovascular Procedures</td>\n",
       "      <td>19</td>\n",
       "      <td>56610.352632</td>\n",
       "      <td>8954.770000</td>\n",
       "      <td>7694.770000</td>\n",
       "      <td>0.0</td>\n",
       "      <td>NaN</td>\n",
       "    </tr>\n",
       "  </tbody>\n",
       "</table>\n",
       "</div>"
      ],
      "text/plain": [
       "     State Provider State  Provider Zip Code    County  Provider ID  \\\n",
       "0  Alabama             AL              36701  Autauga         10118   \n",
       "1  Alabama             AL              36701  Autauga         10118   \n",
       "2  Alabama             AL              36701  Autauga         10118   \n",
       "3  Alabama             AL              36701   Dallas         10118   \n",
       "4  Alabama             AL              36701   Dallas         10118   \n",
       "\n",
       "                                    Provider Name  \\\n",
       "0  Vaughan Regional Medical Center Parkway Campus   \n",
       "1  Vaughan Regional Medical Center Parkway Campus   \n",
       "2  Vaughan Regional Medical Center Parkway Campus   \n",
       "3  Vaughan Regional Medical Center Parkway Campus   \n",
       "4  Vaughan Regional Medical Center Parkway Campus   \n",
       "\n",
       "       Provider Street Address Provider City     Provider HRR  APC  \\\n",
       "0  1015 Medical Center Parkway         Selma  AL - Birmingham   83   \n",
       "1  1015 Medical Center Parkway         Selma  AL - Birmingham  229   \n",
       "2  1015 Medical Center Parkway         Selma  AL - Birmingham  385   \n",
       "3  1015 Medical Center Parkway         Selma  AL - Birmingham   83   \n",
       "4  1015 Medical Center Parkway         Selma  AL - Birmingham  229   \n",
       "\n",
       "                    APC Description  Comprehensive APC Services  \\\n",
       "0   Level I Endovascular Procedures                          58   \n",
       "1  Level II Endovascular Procedures                          19   \n",
       "2     Level I Urogenital Procedures                          11   \n",
       "3   Level I Endovascular Procedures                          58   \n",
       "4  Level II Endovascular Procedures                          19   \n",
       "\n",
       "   Average Estimated Total Submitted Charges  Average Medicare Allowed Amount  \\\n",
       "0                               40751.370517                      4096.309828   \n",
       "1                               56610.352632                      8954.770000   \n",
       "2                               32728.518182                      6355.210000   \n",
       "3                               40751.370517                      4096.309828   \n",
       "4                               56610.352632                      8954.770000   \n",
       "\n",
       "   Average Medicare Payment Amount  Outlier Comprehensive APC Services  \\\n",
       "0                      3247.878276                                 NaN   \n",
       "1                      7694.770000                                 0.0   \n",
       "2                      5095.210000                                 0.0   \n",
       "3                      3247.878276                                 NaN   \n",
       "4                      7694.770000                                 0.0   \n",
       "\n",
       "   Average Medicare Outlier Amount  \n",
       "0                              NaN  \n",
       "1                              NaN  \n",
       "2                              NaN  \n",
       "3                              NaN  \n",
       "4                              NaN  "
      ]
     },
     "execution_count": 268,
     "metadata": {},
     "output_type": "execute_result"
    }
   ],
   "source": [
    "merged_df=pd.merge(state_data,OutPatmedicarecharge, how='inner', on=['Provider State','Provider Zip Code'])\n",
    "\n",
    "merged_df.head()"
   ]
  },
  {
   "cell_type": "code",
   "execution_count": 269,
   "metadata": {},
   "outputs": [],
   "source": [
    "optional_data=merged_df"
   ]
  },
  {
   "cell_type": "code",
   "execution_count": 270,
   "metadata": {},
   "outputs": [
    {
     "data": {
      "text/plain": [
       "Index(['Provider ID', 'Hospital Name', 'Address', 'City', 'State', 'ZIP Code',\n",
       "       'County Name', 'Phone Number', 'Hospital Type', 'Hospital Ownership',\n",
       "       'Emergency Services', 'Meets criteria for meaningful use of EHRs',\n",
       "       'Hospital overall rating', 'Location'],\n",
       "      dtype='object')"
      ]
     },
     "execution_count": 270,
     "metadata": {},
     "output_type": "execute_result"
    }
   ],
   "source": [
    "Hospital_Information.columns"
   ]
  },
  {
   "cell_type": "code",
   "execution_count": 271,
   "metadata": {},
   "outputs": [],
   "source": [
    "Hospital_Information.columns=['Provider ID', 'Provider Name', 'Provider Street Address', 'Provider City', 'Provider State', 'Provider Zip Code',\n",
    "       'County', 'Phone Number', 'Hospital Type', 'Hospital Ownership',\n",
    "       'Emergency Services', 'Meets criteria for meaningful use of EHRs',\n",
    "       'Hospital overall rating', 'Location']"
   ]
  },
  {
   "cell_type": "code",
   "execution_count": 272,
   "metadata": {},
   "outputs": [
    {
     "data": {
      "text/plain": [
       "Index(['State', 'Provider State', 'Provider Zip Code', 'County', 'Provider ID',\n",
       "       'Provider Name', 'Provider Street Address', 'Provider City',\n",
       "       'Provider HRR', 'APC', 'APC Description', 'Comprehensive APC Services',\n",
       "       'Average Estimated Total Submitted Charges',\n",
       "       'Average Medicare Allowed Amount', 'Average Medicare Payment Amount',\n",
       "       'Outlier Comprehensive APC Services',\n",
       "       'Average Medicare Outlier Amount'],\n",
       "      dtype='object')"
      ]
     },
     "execution_count": 272,
     "metadata": {},
     "output_type": "execute_result"
    }
   ],
   "source": [
    "optional_data.columns"
   ]
  },
  {
   "cell_type": "code",
   "execution_count": 273,
   "metadata": {},
   "outputs": [],
   "source": [
    "Merged_df2=pd.merge(optional_data,Hospital_Information, how='left',on =['Provider ID', 'Provider Street Address', 'Provider City', 'Provider State', 'Provider Zip Code','County'])"
   ]
  },
  {
   "cell_type": "code",
   "execution_count": 274,
   "metadata": {},
   "outputs": [
    {
     "data": {
      "text/html": [
       "<div>\n",
       "<style scoped>\n",
       "    .dataframe tbody tr th:only-of-type {\n",
       "        vertical-align: middle;\n",
       "    }\n",
       "\n",
       "    .dataframe tbody tr th {\n",
       "        vertical-align: top;\n",
       "    }\n",
       "\n",
       "    .dataframe thead th {\n",
       "        text-align: right;\n",
       "    }\n",
       "</style>\n",
       "<table border=\"1\" class=\"dataframe\">\n",
       "  <thead>\n",
       "    <tr style=\"text-align: right;\">\n",
       "      <th></th>\n",
       "      <th>State</th>\n",
       "      <th>Provider State</th>\n",
       "      <th>Provider Zip Code</th>\n",
       "      <th>County</th>\n",
       "      <th>Provider ID</th>\n",
       "      <th>Provider Name_x</th>\n",
       "      <th>Provider Street Address</th>\n",
       "      <th>Provider City</th>\n",
       "      <th>Provider HRR</th>\n",
       "      <th>APC</th>\n",
       "      <th>...</th>\n",
       "      <th>Outlier Comprehensive APC Services</th>\n",
       "      <th>Average Medicare Outlier Amount</th>\n",
       "      <th>Provider Name_y</th>\n",
       "      <th>Phone Number</th>\n",
       "      <th>Hospital Type</th>\n",
       "      <th>Hospital Ownership</th>\n",
       "      <th>Emergency Services</th>\n",
       "      <th>Meets criteria for meaningful use of EHRs</th>\n",
       "      <th>Hospital overall rating</th>\n",
       "      <th>Location</th>\n",
       "    </tr>\n",
       "  </thead>\n",
       "  <tbody>\n",
       "    <tr>\n",
       "      <th>0</th>\n",
       "      <td>Alabama</td>\n",
       "      <td>AL</td>\n",
       "      <td>36701</td>\n",
       "      <td>Autauga</td>\n",
       "      <td>10118</td>\n",
       "      <td>Vaughan Regional Medical Center Parkway Campus</td>\n",
       "      <td>1015 Medical Center Parkway</td>\n",
       "      <td>Selma</td>\n",
       "      <td>AL - Birmingham</td>\n",
       "      <td>83</td>\n",
       "      <td>...</td>\n",
       "      <td>NaN</td>\n",
       "      <td>NaN</td>\n",
       "      <td>NaN</td>\n",
       "      <td>NaN</td>\n",
       "      <td>NaN</td>\n",
       "      <td>NaN</td>\n",
       "      <td>NaN</td>\n",
       "      <td>NaN</td>\n",
       "      <td>NaN</td>\n",
       "      <td>NaN</td>\n",
       "    </tr>\n",
       "    <tr>\n",
       "      <th>1</th>\n",
       "      <td>Alabama</td>\n",
       "      <td>AL</td>\n",
       "      <td>36701</td>\n",
       "      <td>Autauga</td>\n",
       "      <td>10118</td>\n",
       "      <td>Vaughan Regional Medical Center Parkway Campus</td>\n",
       "      <td>1015 Medical Center Parkway</td>\n",
       "      <td>Selma</td>\n",
       "      <td>AL - Birmingham</td>\n",
       "      <td>229</td>\n",
       "      <td>...</td>\n",
       "      <td>0.0</td>\n",
       "      <td>NaN</td>\n",
       "      <td>NaN</td>\n",
       "      <td>NaN</td>\n",
       "      <td>NaN</td>\n",
       "      <td>NaN</td>\n",
       "      <td>NaN</td>\n",
       "      <td>NaN</td>\n",
       "      <td>NaN</td>\n",
       "      <td>NaN</td>\n",
       "    </tr>\n",
       "    <tr>\n",
       "      <th>2</th>\n",
       "      <td>Alabama</td>\n",
       "      <td>AL</td>\n",
       "      <td>36701</td>\n",
       "      <td>Autauga</td>\n",
       "      <td>10118</td>\n",
       "      <td>Vaughan Regional Medical Center Parkway Campus</td>\n",
       "      <td>1015 Medical Center Parkway</td>\n",
       "      <td>Selma</td>\n",
       "      <td>AL - Birmingham</td>\n",
       "      <td>385</td>\n",
       "      <td>...</td>\n",
       "      <td>0.0</td>\n",
       "      <td>NaN</td>\n",
       "      <td>NaN</td>\n",
       "      <td>NaN</td>\n",
       "      <td>NaN</td>\n",
       "      <td>NaN</td>\n",
       "      <td>NaN</td>\n",
       "      <td>NaN</td>\n",
       "      <td>NaN</td>\n",
       "      <td>NaN</td>\n",
       "    </tr>\n",
       "    <tr>\n",
       "      <th>3</th>\n",
       "      <td>Alabama</td>\n",
       "      <td>AL</td>\n",
       "      <td>36701</td>\n",
       "      <td>Dallas</td>\n",
       "      <td>10118</td>\n",
       "      <td>Vaughan Regional Medical Center Parkway Campus</td>\n",
       "      <td>1015 Medical Center Parkway</td>\n",
       "      <td>Selma</td>\n",
       "      <td>AL - Birmingham</td>\n",
       "      <td>83</td>\n",
       "      <td>...</td>\n",
       "      <td>NaN</td>\n",
       "      <td>NaN</td>\n",
       "      <td>NaN</td>\n",
       "      <td>NaN</td>\n",
       "      <td>NaN</td>\n",
       "      <td>NaN</td>\n",
       "      <td>NaN</td>\n",
       "      <td>NaN</td>\n",
       "      <td>NaN</td>\n",
       "      <td>NaN</td>\n",
       "    </tr>\n",
       "    <tr>\n",
       "      <th>4</th>\n",
       "      <td>Alabama</td>\n",
       "      <td>AL</td>\n",
       "      <td>36701</td>\n",
       "      <td>Dallas</td>\n",
       "      <td>10118</td>\n",
       "      <td>Vaughan Regional Medical Center Parkway Campus</td>\n",
       "      <td>1015 Medical Center Parkway</td>\n",
       "      <td>Selma</td>\n",
       "      <td>AL - Birmingham</td>\n",
       "      <td>229</td>\n",
       "      <td>...</td>\n",
       "      <td>0.0</td>\n",
       "      <td>NaN</td>\n",
       "      <td>NaN</td>\n",
       "      <td>NaN</td>\n",
       "      <td>NaN</td>\n",
       "      <td>NaN</td>\n",
       "      <td>NaN</td>\n",
       "      <td>NaN</td>\n",
       "      <td>NaN</td>\n",
       "      <td>NaN</td>\n",
       "    </tr>\n",
       "  </tbody>\n",
       "</table>\n",
       "<p>5 rows × 25 columns</p>\n",
       "</div>"
      ],
      "text/plain": [
       "     State Provider State  Provider Zip Code    County  Provider ID  \\\n",
       "0  Alabama             AL              36701  Autauga         10118   \n",
       "1  Alabama             AL              36701  Autauga         10118   \n",
       "2  Alabama             AL              36701  Autauga         10118   \n",
       "3  Alabama             AL              36701   Dallas         10118   \n",
       "4  Alabama             AL              36701   Dallas         10118   \n",
       "\n",
       "                                  Provider Name_x  \\\n",
       "0  Vaughan Regional Medical Center Parkway Campus   \n",
       "1  Vaughan Regional Medical Center Parkway Campus   \n",
       "2  Vaughan Regional Medical Center Parkway Campus   \n",
       "3  Vaughan Regional Medical Center Parkway Campus   \n",
       "4  Vaughan Regional Medical Center Parkway Campus   \n",
       "\n",
       "       Provider Street Address Provider City     Provider HRR  APC   ...     \\\n",
       "0  1015 Medical Center Parkway         Selma  AL - Birmingham   83   ...      \n",
       "1  1015 Medical Center Parkway         Selma  AL - Birmingham  229   ...      \n",
       "2  1015 Medical Center Parkway         Selma  AL - Birmingham  385   ...      \n",
       "3  1015 Medical Center Parkway         Selma  AL - Birmingham   83   ...      \n",
       "4  1015 Medical Center Parkway         Selma  AL - Birmingham  229   ...      \n",
       "\n",
       "  Outlier Comprehensive APC Services  Average Medicare Outlier Amount  \\\n",
       "0                                NaN                              NaN   \n",
       "1                                0.0                              NaN   \n",
       "2                                0.0                              NaN   \n",
       "3                                NaN                              NaN   \n",
       "4                                0.0                              NaN   \n",
       "\n",
       "   Provider Name_y  Phone Number  Hospital Type  Hospital Ownership  \\\n",
       "0              NaN           NaN            NaN                 NaN   \n",
       "1              NaN           NaN            NaN                 NaN   \n",
       "2              NaN           NaN            NaN                 NaN   \n",
       "3              NaN           NaN            NaN                 NaN   \n",
       "4              NaN           NaN            NaN                 NaN   \n",
       "\n",
       "   Emergency Services Meets criteria for meaningful use of EHRs  \\\n",
       "0                 NaN                                       NaN   \n",
       "1                 NaN                                       NaN   \n",
       "2                 NaN                                       NaN   \n",
       "3                 NaN                                       NaN   \n",
       "4                 NaN                                       NaN   \n",
       "\n",
       "   Hospital overall rating Location  \n",
       "0                      NaN      NaN  \n",
       "1                      NaN      NaN  \n",
       "2                      NaN      NaN  \n",
       "3                      NaN      NaN  \n",
       "4                      NaN      NaN  \n",
       "\n",
       "[5 rows x 25 columns]"
      ]
     },
     "execution_count": 274,
     "metadata": {},
     "output_type": "execute_result"
    }
   ],
   "source": [
    "Merged_df2.head()"
   ]
  },
  {
   "cell_type": "code",
   "execution_count": 275,
   "metadata": {},
   "outputs": [
    {
     "name": "stdout",
     "output_type": "stream",
     "text": [
      "<class 'pandas.core.frame.DataFrame'>\n",
      "Int64Index: 16827 entries, 0 to 16826\n",
      "Data columns (total 17 columns):\n",
      "State                                        16827 non-null object\n",
      "Provider State                               16827 non-null object\n",
      "Provider Zip Code                            16827 non-null int64\n",
      "County                                       16827 non-null object\n",
      "Provider ID                                  16827 non-null int64\n",
      "Provider Name                                16827 non-null object\n",
      "Provider Street Address                      16827 non-null object\n",
      "Provider City                                16827 non-null object\n",
      "Provider HRR                                 16827 non-null object\n",
      "APC                                          16827 non-null int64\n",
      "APC Description                              16827 non-null object\n",
      "Comprehensive APC Services                   16827 non-null int64\n",
      "Average Estimated Total Submitted Charges    16827 non-null float64\n",
      "Average Medicare Allowed Amount              16827 non-null float64\n",
      "Average Medicare Payment Amount              16827 non-null float64\n",
      "Outlier Comprehensive APC Services           11055 non-null float64\n",
      "Average Medicare Outlier Amount              1406 non-null float64\n",
      "dtypes: float64(5), int64(4), object(8)\n",
      "memory usage: 2.3+ MB\n"
     ]
    }
   ],
   "source": [
    "merged_df.info()"
   ]
  },
  {
   "cell_type": "code",
   "execution_count": 276,
   "metadata": {},
   "outputs": [],
   "source": [
    "# replace level  and level numbers\n",
    "# replace text level with blank\n",
    "merged_df['ProcedureName']=merged_df['APC Description'].str.replace('Level','')\n",
    "\n",
    "# create a new column called level, to control the complexity of treatments\n",
    "merged_df['Level'] = merged_df['APC Description'].str.extract('(\\d)', expand=True)\n"
   ]
  },
  {
   "cell_type": "code",
   "execution_count": 277,
   "metadata": {},
   "outputs": [
    {
     "data": {
      "text/plain": [
       "array([' I Endovascular Procedures', ' II Endovascular Procedures',\n",
       "       ' I Urogenital Procedures',\n",
       "       ' III Pacemaker and Similar Procedures',\n",
       "       ' V Gynecologic Procedures', ' III Endovascular Procedures',\n",
       "       ' II Electrophysiologic Procedures',\n",
       "       ' III Electrophysiologic Procedures',\n",
       "       ' II Pacemaker and Similar Procedures',\n",
       "       ' I ICD and Similar Procedures', ' II ICD and Similar Procedures',\n",
       "       ' V Musculoskeletal Procedures Except Hand and Foot',\n",
       "       ' IV Neurostimulator & Related Procedures', ' VII ENT Procedures',\n",
       "       ' II Urogenital Procedures',\n",
       "       ' II Neurostimulator & Related Procedures',\n",
       "       'Single Session Cranial Stereotactic Radiosurgery',\n",
       "       'GI Procedures with Stents', ' IV Breast and Skin Surgery',\n",
       "       'Implantation of Drug Infusion Device',\n",
       "       ' III Neurostimulator & Related Procedures',\n",
       "       ' IV Pacemaker and Similar Procedures',\n",
       "       ' I Electrophysiologic Procedures', ' IV Intraocular Procedures'],\n",
       "      dtype=object)"
      ]
     },
     "execution_count": 277,
     "metadata": {},
     "output_type": "execute_result"
    }
   ],
   "source": [
    "# replace numbers with blank\n",
    "merged_df['ProcedureName']=merged_df['ProcedureName'].replace('\\d+','',regex=True)\n",
    "\n",
    "# check spaces and then we will trim them \n",
    "\n",
    "merged_df['ProcedureName'].unique()"
   ]
  },
  {
   "cell_type": "code",
   "execution_count": 278,
   "metadata": {},
   "outputs": [
    {
     "data": {
      "text/plain": [
       "array(['I Endovascular Procedures', 'II Endovascular Procedures',\n",
       "       'I Urogenital Procedures', 'III Pacemaker and Similar Procedures',\n",
       "       'V Gynecologic Procedures', 'III Endovascular Procedures',\n",
       "       'II Electrophysiologic Procedures',\n",
       "       'III Electrophysiologic Procedures',\n",
       "       'II Pacemaker and Similar Procedures',\n",
       "       'I ICD and Similar Procedures', 'II ICD and Similar Procedures',\n",
       "       'V Musculoskeletal Procedures Except Hand and Foot',\n",
       "       'IV Neurostimulator & Related Procedures', 'VII ENT Procedures',\n",
       "       'II Urogenital Procedures',\n",
       "       'II Neurostimulator & Related Procedures',\n",
       "       'Single Session Cranial Stereotactic Radiosurgery',\n",
       "       'GI Procedures with Stents', 'IV Breast and Skin Surgery',\n",
       "       'Implantation of Drug Infusion Device',\n",
       "       'III Neurostimulator & Related Procedures',\n",
       "       'IV Pacemaker and Similar Procedures',\n",
       "       'I Electrophysiologic Procedures', 'IV Intraocular Procedures'],\n",
       "      dtype=object)"
      ]
     },
     "execution_count": 278,
     "metadata": {},
     "output_type": "execute_result"
    }
   ],
   "source": [
    "# remove space at beginning from colum values using str.strip\n",
    "merged_df['ProcedureName']=merged_df['ProcedureName'].str.strip()\n",
    "merged_df['ProcedureName'].unique()"
   ]
  },
  {
   "cell_type": "code",
   "execution_count": 279,
   "metadata": {},
   "outputs": [
    {
     "name": "stdout",
     "output_type": "stream",
     "text": [
      "<class 'pandas.core.frame.DataFrame'>\n",
      "Int64Index: 16827 entries, 0 to 16826\n",
      "Data columns (total 19 columns):\n",
      "State                                        16827 non-null object\n",
      "Provider State                               16827 non-null object\n",
      "Provider Zip Code                            16827 non-null int64\n",
      "County                                       16827 non-null object\n",
      "Provider ID                                  16827 non-null int64\n",
      "Provider Name                                16827 non-null object\n",
      "Provider Street Address                      16827 non-null object\n",
      "Provider City                                16827 non-null object\n",
      "Provider HRR                                 16827 non-null object\n",
      "APC                                          16827 non-null int64\n",
      "APC Description                              16827 non-null object\n",
      "Comprehensive APC Services                   16827 non-null int64\n",
      "Average Estimated Total Submitted Charges    16827 non-null float64\n",
      "Average Medicare Allowed Amount              16827 non-null float64\n",
      "Average Medicare Payment Amount              16827 non-null float64\n",
      "Outlier Comprehensive APC Services           11055 non-null float64\n",
      "Average Medicare Outlier Amount              1406 non-null float64\n",
      "ProcedureName                                16827 non-null object\n",
      "Level                                        0 non-null object\n",
      "dtypes: float64(5), int64(4), object(10)\n",
      "memory usage: 2.6+ MB\n"
     ]
    }
   ],
   "source": [
    "merged_df.info()"
   ]
  },
  {
   "cell_type": "code",
   "execution_count": 280,
   "metadata": {},
   "outputs": [],
   "source": [
    "# convert level to nmeric data type\n",
    "merged_df['Level']=pd.to_numeric(merged_df.Level)"
   ]
  },
  {
   "cell_type": "code",
   "execution_count": 281,
   "metadata": {},
   "outputs": [
    {
     "data": {
      "text/plain": [
       "dtype('float64')"
      ]
     },
     "execution_count": 281,
     "metadata": {},
     "output_type": "execute_result"
    }
   ],
   "source": [
    "merged_df.Level.dtype"
   ]
  },
  {
   "cell_type": "code",
   "execution_count": 282,
   "metadata": {},
   "outputs": [
    {
     "data": {
      "text/html": [
       "<div>\n",
       "<style scoped>\n",
       "    .dataframe tbody tr th:only-of-type {\n",
       "        vertical-align: middle;\n",
       "    }\n",
       "\n",
       "    .dataframe tbody tr th {\n",
       "        vertical-align: top;\n",
       "    }\n",
       "\n",
       "    .dataframe thead th {\n",
       "        text-align: right;\n",
       "    }\n",
       "</style>\n",
       "<table border=\"1\" class=\"dataframe\">\n",
       "  <thead>\n",
       "    <tr style=\"text-align: right;\">\n",
       "      <th></th>\n",
       "      <th>Average Estimated Total Submitted Charges</th>\n",
       "    </tr>\n",
       "    <tr>\n",
       "      <th>State</th>\n",
       "      <th></th>\n",
       "    </tr>\n",
       "  </thead>\n",
       "  <tbody>\n",
       "    <tr>\n",
       "      <th>Alabama</th>\n",
       "      <td>48017.903006</td>\n",
       "    </tr>\n",
       "    <tr>\n",
       "      <th>Alaska</th>\n",
       "      <td>36597.843727</td>\n",
       "    </tr>\n",
       "    <tr>\n",
       "      <th>Arizona</th>\n",
       "      <td>52738.671642</td>\n",
       "    </tr>\n",
       "    <tr>\n",
       "      <th>Arkansas</th>\n",
       "      <td>36293.010654</td>\n",
       "    </tr>\n",
       "    <tr>\n",
       "      <th>California</th>\n",
       "      <td>61173.836424</td>\n",
       "    </tr>\n",
       "  </tbody>\n",
       "</table>\n",
       "</div>"
      ],
      "text/plain": [
       "            Average Estimated Total Submitted Charges\n",
       "State                                                \n",
       "Alabama                                  48017.903006\n",
       "Alaska                                   36597.843727\n",
       "Arizona                                  52738.671642\n",
       "Arkansas                                 36293.010654\n",
       "California                               61173.836424"
      ]
     },
     "execution_count": 282,
     "metadata": {},
     "output_type": "execute_result"
    }
   ],
   "source": [
    "merged_df[['State','Average Estimated Total Submitted Charges']].groupby('State').median().head()"
   ]
  },
  {
   "cell_type": "code",
   "execution_count": 283,
   "metadata": {},
   "outputs": [
    {
     "data": {
      "text/plain": [
       "Text(0.5,1,'Median Average Estimated Tot Charges By States')"
      ]
     },
     "execution_count": 283,
     "metadata": {},
     "output_type": "execute_result"
    },
    {
     "data": {
      "image/png": "[encoded data removed]",
      "text/plain": [
       "<Figure size 864x720 with 1 Axes>"
      ]
     },
     "metadata": {
      "needs_background": "light"
     },
     "output_type": "display_data"
    }
   ],
   "source": [
    "# median Average charge by State\n",
    "merged_df[['State','Average Estimated Total Submitted Charges']].groupby('State').median().sort_values('Average Estimated Total Submitted Charges',ascending=False).plot(kind='bar')\n",
    "plt.ylabel('Average Estimated Tot Charge in US $')\n",
    "plt.title('Median Average Estimated Tot Charges By States')"
   ]
  },
  {
   "cell_type": "code",
   "execution_count": 284,
   "metadata": {},
   "outputs": [],
   "source": [
    "import geopandas as gpd\n",
    "import folium"
   ]
  },
  {
   "cell_type": "code",
   "execution_count": 285,
   "metadata": {},
   "outputs": [
    {
     "data": {
      "text/html": [
       "<div>\n",
       "<style scoped>\n",
       "    .dataframe tbody tr th:only-of-type {\n",
       "        vertical-align: middle;\n",
       "    }\n",
       "\n",
       "    .dataframe tbody tr th {\n",
       "        vertical-align: top;\n",
       "    }\n",
       "\n",
       "    .dataframe thead th {\n",
       "        text-align: right;\n",
       "    }\n",
       "</style>\n",
       "<table border=\"1\" class=\"dataframe\">\n",
       "  <thead>\n",
       "    <tr style=\"text-align: right;\">\n",
       "      <th></th>\n",
       "      <th>State</th>\n",
       "      <th>Latitude</th>\n",
       "      <th>Longitude</th>\n",
       "      <th>City</th>\n",
       "    </tr>\n",
       "  </thead>\n",
       "  <tbody>\n",
       "    <tr>\n",
       "      <th>0</th>\n",
       "      <td>AL</td>\n",
       "      <td>32.601011</td>\n",
       "      <td>-86.680736</td>\n",
       "      <td>Alabama</td>\n",
       "    </tr>\n",
       "    <tr>\n",
       "      <th>1</th>\n",
       "      <td>AK</td>\n",
       "      <td>61.302501</td>\n",
       "      <td>-158.775020</td>\n",
       "      <td>Alaska</td>\n",
       "    </tr>\n",
       "    <tr>\n",
       "      <th>2</th>\n",
       "      <td>AZ</td>\n",
       "      <td>34.168219</td>\n",
       "      <td>-111.930907</td>\n",
       "      <td>Arizona</td>\n",
       "    </tr>\n",
       "    <tr>\n",
       "      <th>3</th>\n",
       "      <td>AR</td>\n",
       "      <td>34.751928</td>\n",
       "      <td>-92.131378</td>\n",
       "      <td>Arkansas</td>\n",
       "    </tr>\n",
       "    <tr>\n",
       "      <th>4</th>\n",
       "      <td>CA</td>\n",
       "      <td>37.271875</td>\n",
       "      <td>-119.270415</td>\n",
       "      <td>California</td>\n",
       "    </tr>\n",
       "  </tbody>\n",
       "</table>\n",
       "</div>"
      ],
      "text/plain": [
       "  State   Latitude   Longitude        City\n",
       "0    AL  32.601011  -86.680736     Alabama\n",
       "1    AK  61.302501 -158.775020      Alaska\n",
       "2    AZ  34.168219 -111.930907     Arizona\n",
       "3    AR  34.751928  -92.131378    Arkansas\n",
       "4    CA  37.271875 -119.270415  California"
      ]
     },
     "execution_count": 285,
     "metadata": {},
     "output_type": "execute_result"
    }
   ],
   "source": [
    "location=pd.read_csv('data/statelatlong.csv')\n",
    "location.head()"
   ]
  },
  {
   "cell_type": "code",
   "execution_count": 286,
   "metadata": {},
   "outputs": [],
   "source": [
    "# remove space at beginning from colum values using regex\n",
    "#merged_df['ProcedureName']=merged_df['ProcedureName'].replace('^\\s+','',regex=True)\n",
    "#merged_df['ProcedureName'].unique()"
   ]
  },
  {
   "cell_type": "code",
   "execution_count": 287,
   "metadata": {},
   "outputs": [],
   "source": [
    "# remove space at end from colum values\n",
    "#merged_df['ProcedureName']=merged_df['ProcedureName'].replace('\\s+$','',regex=True)\n",
    "#merged_df['ProcedureName'].unique()"
   ]
  },
  {
   "cell_type": "code",
   "execution_count": 288,
   "metadata": {},
   "outputs": [],
   "source": [
    "# calculate the difference between the average estimated total sumbitted charges and \n",
    "#merged_df['submitted_allowed_diff']=(merged_df['Average Estimated Total Submitted Charges']-merged_df['Average Medicare Allowed Amount'])"
   ]
  },
  {
   "cell_type": "code",
   "execution_count": 289,
   "metadata": {},
   "outputs": [],
   "source": [
    "#merged_df['submitted_allowed_diff'].sum()\n"
   ]
  },
  {
   "cell_type": "code",
   "execution_count": 290,
   "metadata": {},
   "outputs": [
    {
     "data": {
      "text/plain": [
       "Text(0,0.5,'amount in US $')"
      ]
     },
     "execution_count": 290,
     "metadata": {},
     "output_type": "execute_result"
    },
    {
     "data": {
      "image/png": "[encoded data removed]",
      "text/plain": [
       "<Figure size 864x720 with 1 Axes>"
      ]
     },
     "metadata": {
      "needs_background": "light"
     },
     "output_type": "display_data"
    }
   ],
   "source": [
    "# plot hospital charges, medicare allowed amount, and medicare payments\n",
    "OutPatmedicarecharge.iloc[:,10:13].describe().iloc[1,0:4].plot(kind='bar')\n",
    "plt.title('Outpatient Hospital Charges  ')\n",
    "plt.ylabel(\"amount in US $\")"
   ]
  },
  {
   "cell_type": "code",
   "execution_count": 291,
   "metadata": {},
   "outputs": [],
   "source": [
    "# create Tennessee and FLorida\n",
    "OutPatmedicarecharge_TN=merged_df[merged_df['Provider State'].str.contains('TN')]\n",
    "OutPatmedicarecharge_FL=merged_df[merged_df['Provider State'].str.contains('FL')]"
   ]
  },
  {
   "cell_type": "code",
   "execution_count": 292,
   "metadata": {},
   "outputs": [
    {
     "data": {
      "text/plain": [
       "Index(['State', 'Provider State', 'Provider Zip Code', 'County', 'Provider ID',\n",
       "       'Provider Name', 'Provider Street Address', 'Provider City',\n",
       "       'Provider HRR', 'APC', 'APC Description', 'Comprehensive APC Services',\n",
       "       'Average Estimated Total Submitted Charges',\n",
       "       'Average Medicare Allowed Amount', 'Average Medicare Payment Amount',\n",
       "       'Outlier Comprehensive APC Services', 'Average Medicare Outlier Amount',\n",
       "       'ProcedureName', 'Level'],\n",
       "      dtype='object')"
      ]
     },
     "execution_count": 292,
     "metadata": {},
     "output_type": "execute_result"
    }
   ],
   "source": [
    "OutPatmedicarecharge_TN.columns"
   ]
  },
  {
   "cell_type": "code",
   "execution_count": 293,
   "metadata": {},
   "outputs": [
    {
     "ename": "TypeError",
     "evalue": "Empty 'DataFrame': no numeric data to plot",
     "output_type": "error",
     "traceback": [
      "\u001b[1;31m---------------------------------------------------------------------------\u001b[0m",
      "\u001b[1;31mTypeError\u001b[0m                                 Traceback (most recent call last)",
      "\u001b[1;32m<ipython-input-293-c086a35693d6>\u001b[0m in \u001b[0;36m<module>\u001b[1;34m()\u001b[0m\n\u001b[0;32m      1\u001b[0m \u001b[1;31m# distribution\u001b[0m\u001b[1;33m\u001b[0m\u001b[1;33m\u001b[0m\u001b[0m\n\u001b[0;32m      2\u001b[0m \u001b[0mOutPatmedicarecharge_heartProc\u001b[0m\u001b[1;33m=\u001b[0m\u001b[0mOutPatmedicarecharge_TN\u001b[0m\u001b[1;33m[\u001b[0m\u001b[0mOutPatmedicarecharge_TN\u001b[0m\u001b[1;33m[\u001b[0m\u001b[1;34m'APC Description'\u001b[0m\u001b[1;33m]\u001b[0m\u001b[1;33m==\u001b[0m\u001b[1;34m'Level 3 Endovascular Procedures'\u001b[0m\u001b[1;33m]\u001b[0m\u001b[1;33m\u001b[0m\u001b[0m\n\u001b[1;32m----> 3\u001b[1;33m \u001b[0mOutPatmedicarecharge_heartProc\u001b[0m\u001b[1;33m.\u001b[0m\u001b[0miloc\u001b[0m\u001b[1;33m[\u001b[0m\u001b[1;33m:\u001b[0m\u001b[1;33m,\u001b[0m\u001b[1;36m12\u001b[0m\u001b[1;33m:\u001b[0m\u001b[1;36m15\u001b[0m\u001b[1;33m]\u001b[0m\u001b[1;33m.\u001b[0m\u001b[0mplot\u001b[0m\u001b[1;33m(\u001b[0m\u001b[0mkind\u001b[0m\u001b[1;33m=\u001b[0m\u001b[1;34m'box'\u001b[0m\u001b[1;33m)\u001b[0m\u001b[1;33m\u001b[0m\u001b[0m\n\u001b[0m\u001b[0;32m      4\u001b[0m \u001b[0mplt\u001b[0m\u001b[1;33m.\u001b[0m\u001b[0mtitle\u001b[0m\u001b[1;33m(\u001b[0m\u001b[1;34m'Distribution of Outpatient Charges by Hospitals for Level 3 Endovascular Procedures in Tennessee'\u001b[0m\u001b[1;33m)\u001b[0m\u001b[1;33m\u001b[0m\u001b[0m\n\u001b[0;32m      5\u001b[0m \u001b[0mplt\u001b[0m\u001b[1;33m.\u001b[0m\u001b[0mylabel\u001b[0m\u001b[1;33m(\u001b[0m\u001b[1;34m\"amount in US $\"\u001b[0m\u001b[1;33m)\u001b[0m\u001b[1;33m\u001b[0m\u001b[0m\n",
      "\u001b[1;32m~\\Anaconda3\\lib\\site-packages\\pandas\\plotting\\_core.py\u001b[0m in \u001b[0;36m__call__\u001b[1;34m(self, x, y, kind, ax, subplots, sharex, sharey, layout, figsize, use_index, title, grid, legend, style, logx, logy, loglog, xticks, yticks, xlim, ylim, rot, fontsize, colormap, table, yerr, xerr, secondary_y, sort_columns, **kwds)\u001b[0m\n\u001b[0;32m   2939\u001b[0m                           \u001b[0mfontsize\u001b[0m\u001b[1;33m=\u001b[0m\u001b[0mfontsize\u001b[0m\u001b[1;33m,\u001b[0m \u001b[0mcolormap\u001b[0m\u001b[1;33m=\u001b[0m\u001b[0mcolormap\u001b[0m\u001b[1;33m,\u001b[0m \u001b[0mtable\u001b[0m\u001b[1;33m=\u001b[0m\u001b[0mtable\u001b[0m\u001b[1;33m,\u001b[0m\u001b[1;33m\u001b[0m\u001b[0m\n\u001b[0;32m   2940\u001b[0m                           \u001b[0myerr\u001b[0m\u001b[1;33m=\u001b[0m\u001b[0myerr\u001b[0m\u001b[1;33m,\u001b[0m \u001b[0mxerr\u001b[0m\u001b[1;33m=\u001b[0m\u001b[0mxerr\u001b[0m\u001b[1;33m,\u001b[0m \u001b[0msecondary_y\u001b[0m\u001b[1;33m=\u001b[0m\u001b[0msecondary_y\u001b[0m\u001b[1;33m,\u001b[0m\u001b[1;33m\u001b[0m\u001b[0m\n\u001b[1;32m-> 2941\u001b[1;33m                           sort_columns=sort_columns, **kwds)\n\u001b[0m\u001b[0;32m   2942\u001b[0m     \u001b[0m__call__\u001b[0m\u001b[1;33m.\u001b[0m\u001b[0m__doc__\u001b[0m \u001b[1;33m=\u001b[0m \u001b[0mplot_frame\u001b[0m\u001b[1;33m.\u001b[0m\u001b[0m__doc__\u001b[0m\u001b[1;33m\u001b[0m\u001b[0m\n\u001b[0;32m   2943\u001b[0m \u001b[1;33m\u001b[0m\u001b[0m\n",
      "\u001b[1;32m~\\Anaconda3\\lib\\site-packages\\pandas\\plotting\\_core.py\u001b[0m in \u001b[0;36mplot_frame\u001b[1;34m(data, x, y, kind, ax, subplots, sharex, sharey, layout, figsize, use_index, title, grid, legend, style, logx, logy, loglog, xticks, yticks, xlim, ylim, rot, fontsize, colormap, table, yerr, xerr, secondary_y, sort_columns, **kwds)\u001b[0m\n\u001b[0;32m   1975\u001b[0m                  \u001b[0myerr\u001b[0m\u001b[1;33m=\u001b[0m\u001b[0myerr\u001b[0m\u001b[1;33m,\u001b[0m \u001b[0mxerr\u001b[0m\u001b[1;33m=\u001b[0m\u001b[0mxerr\u001b[0m\u001b[1;33m,\u001b[0m\u001b[1;33m\u001b[0m\u001b[0m\n\u001b[0;32m   1976\u001b[0m                  \u001b[0msecondary_y\u001b[0m\u001b[1;33m=\u001b[0m\u001b[0msecondary_y\u001b[0m\u001b[1;33m,\u001b[0m \u001b[0msort_columns\u001b[0m\u001b[1;33m=\u001b[0m\u001b[0msort_columns\u001b[0m\u001b[1;33m,\u001b[0m\u001b[1;33m\u001b[0m\u001b[0m\n\u001b[1;32m-> 1977\u001b[1;33m                  **kwds)\n\u001b[0m\u001b[0;32m   1978\u001b[0m \u001b[1;33m\u001b[0m\u001b[0m\n\u001b[0;32m   1979\u001b[0m \u001b[1;33m\u001b[0m\u001b[0m\n",
      "\u001b[1;32m~\\Anaconda3\\lib\\site-packages\\pandas\\plotting\\_core.py\u001b[0m in \u001b[0;36m_plot\u001b[1;34m(data, x, y, subplots, ax, kind, **kwds)\u001b[0m\n\u001b[0;32m   1802\u001b[0m         \u001b[0mplot_obj\u001b[0m \u001b[1;33m=\u001b[0m \u001b[0mklass\u001b[0m\u001b[1;33m(\u001b[0m\u001b[0mdata\u001b[0m\u001b[1;33m,\u001b[0m \u001b[0msubplots\u001b[0m\u001b[1;33m=\u001b[0m\u001b[0msubplots\u001b[0m\u001b[1;33m,\u001b[0m \u001b[0max\u001b[0m\u001b[1;33m=\u001b[0m\u001b[0max\u001b[0m\u001b[1;33m,\u001b[0m \u001b[0mkind\u001b[0m\u001b[1;33m=\u001b[0m\u001b[0mkind\u001b[0m\u001b[1;33m,\u001b[0m \u001b[1;33m**\u001b[0m\u001b[0mkwds\u001b[0m\u001b[1;33m)\u001b[0m\u001b[1;33m\u001b[0m\u001b[0m\n\u001b[0;32m   1803\u001b[0m \u001b[1;33m\u001b[0m\u001b[0m\n\u001b[1;32m-> 1804\u001b[1;33m     \u001b[0mplot_obj\u001b[0m\u001b[1;33m.\u001b[0m\u001b[0mgenerate\u001b[0m\u001b[1;33m(\u001b[0m\u001b[1;33m)\u001b[0m\u001b[1;33m\u001b[0m\u001b[0m\n\u001b[0m\u001b[0;32m   1805\u001b[0m     \u001b[0mplot_obj\u001b[0m\u001b[1;33m.\u001b[0m\u001b[0mdraw\u001b[0m\u001b[1;33m(\u001b[0m\u001b[1;33m)\u001b[0m\u001b[1;33m\u001b[0m\u001b[0m\n\u001b[0;32m   1806\u001b[0m     \u001b[1;32mreturn\u001b[0m \u001b[0mplot_obj\u001b[0m\u001b[1;33m.\u001b[0m\u001b[0mresult\u001b[0m\u001b[1;33m\u001b[0m\u001b[0m\n",
      "\u001b[1;32m~\\Anaconda3\\lib\\site-packages\\pandas\\plotting\\_core.py\u001b[0m in \u001b[0;36mgenerate\u001b[1;34m(self)\u001b[0m\n\u001b[0;32m    256\u001b[0m     \u001b[1;32mdef\u001b[0m \u001b[0mgenerate\u001b[0m\u001b[1;33m(\u001b[0m\u001b[0mself\u001b[0m\u001b[1;33m)\u001b[0m\u001b[1;33m:\u001b[0m\u001b[1;33m\u001b[0m\u001b[0m\n\u001b[0;32m    257\u001b[0m         \u001b[0mself\u001b[0m\u001b[1;33m.\u001b[0m\u001b[0m_args_adjust\u001b[0m\u001b[1;33m(\u001b[0m\u001b[1;33m)\u001b[0m\u001b[1;33m\u001b[0m\u001b[0m\n\u001b[1;32m--> 258\u001b[1;33m         \u001b[0mself\u001b[0m\u001b[1;33m.\u001b[0m\u001b[0m_compute_plot_data\u001b[0m\u001b[1;33m(\u001b[0m\u001b[1;33m)\u001b[0m\u001b[1;33m\u001b[0m\u001b[0m\n\u001b[0m\u001b[0;32m    259\u001b[0m         \u001b[0mself\u001b[0m\u001b[1;33m.\u001b[0m\u001b[0m_setup_subplots\u001b[0m\u001b[1;33m(\u001b[0m\u001b[1;33m)\u001b[0m\u001b[1;33m\u001b[0m\u001b[0m\n\u001b[0;32m    260\u001b[0m         \u001b[0mself\u001b[0m\u001b[1;33m.\u001b[0m\u001b[0m_make_plot\u001b[0m\u001b[1;33m(\u001b[0m\u001b[1;33m)\u001b[0m\u001b[1;33m\u001b[0m\u001b[0m\n",
      "\u001b[1;32m~\\Anaconda3\\lib\\site-packages\\pandas\\plotting\\_core.py\u001b[0m in \u001b[0;36m_compute_plot_data\u001b[1;34m(self)\u001b[0m\n\u001b[0;32m    371\u001b[0m         \u001b[1;32mif\u001b[0m \u001b[0mis_empty\u001b[0m\u001b[1;33m:\u001b[0m\u001b[1;33m\u001b[0m\u001b[0m\n\u001b[0;32m    372\u001b[0m             raise TypeError('Empty {0!r}: no numeric data to '\n\u001b[1;32m--> 373\u001b[1;33m                             'plot'.format(numeric_data.__class__.__name__))\n\u001b[0m\u001b[0;32m    374\u001b[0m \u001b[1;33m\u001b[0m\u001b[0m\n\u001b[0;32m    375\u001b[0m         \u001b[0mself\u001b[0m\u001b[1;33m.\u001b[0m\u001b[0mdata\u001b[0m \u001b[1;33m=\u001b[0m \u001b[0mnumeric_data\u001b[0m\u001b[1;33m\u001b[0m\u001b[0m\n",
      "\u001b[1;31mTypeError\u001b[0m: Empty 'DataFrame': no numeric data to plot"
     ]
    }
   ],
   "source": [
    "# distribution\n",
    "OutPatmedicarecharge_heartProc=OutPatmedicarecharge_TN[OutPatmedicarecharge_TN['APC Description']=='Level 3 Endovascular Procedures']\n",
    "OutPatmedicarecharge_heartProc.iloc[:,12:15].plot(kind='box')\n",
    "plt.title('Distribution of Outpatient Charges by Hospitals for Level 3 Endovascular Procedures in Tennessee')\n",
    "plt.ylabel(\"amount in US $\")"
   ]
  },
  {
   "cell_type": "code",
   "execution_count": null,
   "metadata": {},
   "outputs": [],
   "source": [
    "OutPatmedicarecharge_heartProc=merged_df[merged_df['APC Description']=='Level 3 Endovascular Procedures']\n",
    "OutPatmedicarecharge_heartProc.iloc[:,12:15].plot(kind='box')\n",
    "plt.title('Distribution of Outpatient Charges by Hospitals for Level 3 Endovascular Procedures in USA')\n",
    "plt.ylabel(\"amount in US $\")"
   ]
  },
  {
   "cell_type": "code",
   "execution_count": null,
   "metadata": {},
   "outputs": [],
   "source": [
    "# Tennessee charges \n",
    "# take neccesary columns\n",
    "OutPatmedcharge_TN=OutPatmedicarecharge_TN.iloc[:,9:17]\n",
    "OutPatmedcharge_descStat_TN= OutPatmedcharge_TN.describe()\n",
    "# plot variation in Medicare payments\n",
    "OutPatmedcharge_descStat_TN.iloc[1,2:5].plot(kind='bar')\n",
    "plt.xlabel('Charges and Medicare Payments Categories')\n",
    "plt.ylabel('amount in US dollars ')\n",
    "plt.title(\"Variations in Average Providers Sumbitted Charges and Medicare Payments in Tennessee\")\n"
   ]
  },
  {
   "cell_type": "code",
   "execution_count": null,
   "metadata": {},
   "outputs": [],
   "source": [
    "OutPatmedicarecharge_heartProc=OutPatmedicarecharge_FL[OutPatmedicarecharge_FL['APC Description']=='Level 3 Endovascular Procedures']\n",
    "OutPatmedicarecharge_heartProc.iloc[:,12:15].plot(kind='box')\n",
    "plt.title('Distribution of Outpatient Charges by Hospitals for Level 3 Endovascular Procedures in Florida')\n",
    "plt.ylabel(\"amount in US $\")"
   ]
  },
  {
   "cell_type": "code",
   "execution_count": null,
   "metadata": {},
   "outputs": [],
   "source": [
    "# plot Florida Medicare charges\n",
    "\n",
    "OutPatmedicarecharge_FL=OutPatmedicarecharge_FL.iloc[:,9:17]\n",
    "OutPatmedcharge_descStat_FL= OutPatmedicarecharge_FL.describe()\n",
    "# plot variation in Medicare payments\n",
    "OutPatmedcharge_descStat_FL.iloc[1,2:5].plot(kind='bar')\n",
    "plt.xlabel('Charges and Medicare Payments Categories')\n",
    "plt.ylabel('amount in US dollars ')\n",
    "plt.title(\"Variations in Average Providers Sumbitted Charges and Medicare Payments in FLorida\")"
   ]
  },
  {
   "cell_type": "code",
   "execution_count": null,
   "metadata": {},
   "outputs": [],
   "source": [
    "# charges variation in Tennesse for Endovascular Procedures\n",
    "\n",
    "OutPatmedicarecharge_TN_sorted=OutPatmedicarecharge_TN.sort_values('Average Estimated Total Submitted Charges',ascending= False)\n",
    "OutPatmedicarecharge_TN_sorted= OutPatmedicarecharge_TN_sorted[OutPatmedicarecharge_TN_sorted.ProcedureName=='Endovascular Procedures']\n",
    "OutPatmedicarecharge_TN_sorted.head()\n"
   ]
  },
  {
   "cell_type": "code",
   "execution_count": null,
   "metadata": {},
   "outputs": [],
   "source": [
    "\n",
    "plt.bar(x=OutPatmedicarecharge_TN_sorted['Provider Name'],height= OutPatmedicarecharge_TN_sorted['Average Estimated Total Submitted Charges'])\n",
    "plt.xticks(rotation='vertical')\n",
    "\n",
    "plt.show()\n",
    "\n",
    "# also try to control level, by creating level column. "
   ]
  },
  {
   "cell_type": "code",
   "execution_count": null,
   "metadata": {},
   "outputs": [],
   "source": [
    "# check variation by levels\n",
    "OutPatmedicarecharge_TN_complex=OutPatmedicarecharge_TN_sorted[OutPatmedicarecharge_TN_sorted.Level>=3]\n",
    "OutPatmedicarecharge_TN_Normal=OutPatmedicarecharge_TN_sorted[OutPatmedicarecharge_TN_sorted.Level<3]"
   ]
  },
  {
   "cell_type": "code",
   "execution_count": null,
   "metadata": {},
   "outputs": [],
   "source": [
    "plt.bar(x=OutPatmedicarecharge_TN_complex['Provider Name'],height= OutPatmedicarecharge_TN_complex['Average Estimated Total Submitted Charges'])\n",
    "plt.xticks(rotation='vertical')\n",
    "\n",
    "plt.show()"
   ]
  },
  {
   "cell_type": "code",
   "execution_count": null,
   "metadata": {},
   "outputs": [],
   "source": [
    "# calculate median number of Procedures and Average tot sumbitted charges\n",
    "OutPatmedcharge_median=merged_df[['State','Comprehensive APC Services','Average Estimated Total Submitted Charges']].groupby('State').median().sort_values('Average Estimated Total Submitted Charges',ascending=False)"
   ]
  },
  {
   "cell_type": "code",
   "execution_count": null,
   "metadata": {},
   "outputs": [],
   "source": [
    "OutPatmedcharge_median.head()"
   ]
  },
  {
   "cell_type": "code",
   "execution_count": null,
   "metadata": {},
   "outputs": [],
   "source": [
    "#plt.scatter(OutPatmedcharge_median['Comprehensive APC Services'],OutPatmedcharge_median['submitted_allowed_diff'])\n",
    "OutPatmedcharge_median.plot(x='Comprehensive APC Services',y='Average Estimated Total Submitted Charges',kind=\"scatter\")\n",
    "plt.xlabel('# of Comprehensive APC Services')"
   ]
  },
  {
   "cell_type": "code",
   "execution_count": null,
   "metadata": {},
   "outputs": [],
   "source": [
    "OutPatmedicarecharge['APC Description'].unique()"
   ]
  },
  {
   "cell_type": "code",
   "execution_count": null,
   "metadata": {},
   "outputs": [],
   "source": [
    "# Median differences in submitted and allowed charges by states\n",
    "#OutPatmedicarecharge[['Provider State' ,'submitted_allowed_diff']].groupby('Provider State').median().sort_values('submitted_allowed_diff',ascending=False)"
   ]
  },
  {
   "cell_type": "code",
   "execution_count": null,
   "metadata": {},
   "outputs": [],
   "source": [
    "# total differences in submitted and allowed charges by APC categories\n",
    "#(OutPatmedicarecharge[['APC Description' ,'submitted_allowed_diff']].groupby('APC Description').sum()/1000000).sort_values('submitted_allowed_diff',ascending=False)"
   ]
  },
  {
   "cell_type": "code",
   "execution_count": null,
   "metadata": {},
   "outputs": [],
   "source": [
    "#OutPatmedicarecharge[['Provider City' ,'submitted_allowed_diff']].groupby('Provider City').sum().sort_values('submitted_allowed_diff',ascending=False)"
   ]
  },
  {
   "cell_type": "code",
   "execution_count": null,
   "metadata": {},
   "outputs": [],
   "source": [
    "OutPatmedicarecharge.columns"
   ]
  },
  {
   "cell_type": "code",
   "execution_count": null,
   "metadata": {},
   "outputs": [],
   "source": [
    "# plot charges by category of procedurs \n",
    "OutPatmedcharge_Proc=merged_df[['Provider State','ProcedureName','Average Estimated Total Submitted Charges',\n",
    "       'Average Medicare Allowed Amount', 'Average Medicare Payment Amount']]\n",
    "OutPatmedcharge_byProcedure=OutPatmedcharge_Proc.groupby('ProcedureName').median().sort_values('Average Estimated Total Submitted Charges', ascending=False)\n",
    "OutPatmedcharge_byProcedure.head(10)\n",
    "\n",
    "OutPatmedcharge_byProcedure.plot(kind='bar')\n",
    "plt.title('Charges by Type of Procedures')\n",
    "plt.xlabel('Procedure Type')\n",
    "plt.ylabel('amount in US $')"
   ]
  },
  {
   "cell_type": "code",
   "execution_count": null,
   "metadata": {},
   "outputs": [],
   "source": [
    "31,833,937,266,851"
   ]
  },
  {
   "cell_type": "code",
   "execution_count": null,
   "metadata": {},
   "outputs": [],
   "source": [
    "inpatPatmedicarecharge=pd.read_csv('data/State_Summary_of_Inpatient_Charge_Data_by_Medicare_Severity_Diagnosis_Related_Group__MS-DRG___FY2015.csv')"
   ]
  },
  {
   "cell_type": "code",
   "execution_count": null,
   "metadata": {},
   "outputs": [],
   "source": [
    "#inpatPatmedicarecharge.info()"
   ]
  },
  {
   "cell_type": "code",
   "execution_count": null,
   "metadata": {},
   "outputs": [],
   "source": [
    "#inpatPatmedicarecharge.columns"
   ]
  },
  {
   "cell_type": "code",
   "execution_count": null,
   "metadata": {},
   "outputs": [],
   "source": [
    "#inpatPatmedicarecharge['charges_totpayment_diff']=(inpatPatmedicarecharge['Average Covered Charges']-inpatPatmedicarecharge['Average Total Payments'])\n",
    "#inpatPatmedicarecharge.head()"
   ]
  },
  {
   "cell_type": "code",
   "execution_count": null,
   "metadata": {},
   "outputs": [],
   "source": [
    "#inpatPatmedicarecharge.columns"
   ]
  },
  {
   "cell_type": "code",
   "execution_count": null,
   "metadata": {},
   "outputs": [],
   "source": [
    "#inPatmedcharge=inpatPatmedicarecharge.iloc[:,3:6]\n",
    "#inPatmedcharge_descStat= inPatmedcharge.describe()\n",
    "#inPatmedcharge_descStat.iloc[1,:].plot(kind='bar')\n",
    "\n"
   ]
  },
  {
   "cell_type": "code",
   "execution_count": null,
   "metadata": {},
   "outputs": [],
   "source": [
    "#inPatmedcharge.plot(kind='box')\n",
    "#plt.xticks(rotation='vertical')\n",
    "#plt.show()"
   ]
  },
  {
   "cell_type": "code",
   "execution_count": null,
   "metadata": {},
   "outputs": [],
   "source": [
    "#inpatPatmedicarecharge[[' Total Discharges ','charges_totpayment_diff']].corr()"
   ]
  },
  {
   "cell_type": "code",
   "execution_count": null,
   "metadata": {},
   "outputs": [],
   "source": [
    "#inpatPatmedicarecharge.plot(x=' Total Discharges ',y='charges_totpayment_diff',kind='scatter',logx=True)\n"
   ]
  },
  {
   "cell_type": "code",
   "execution_count": null,
   "metadata": {},
   "outputs": [],
   "source": [
    "#inpatPatmedicarecharge.plot(x=' Total Discharges ',y='Average Covered Charges',kind='scatter',logx=True)\n"
   ]
  },
  {
   "cell_type": "code",
   "execution_count": null,
   "metadata": {},
   "outputs": [],
   "source": [
    "#inpatPatmedicarecharge['charges_totpayment_diff'].plot(kind='hist',bins=20)"
   ]
  },
  {
   "cell_type": "markdown",
   "metadata": {},
   "source": [
    "### compare mean variation in medicare payments and hospital charges by State \n",
    "### compare mean variation in medicare payments and hospital charges by State and DRG"
   ]
  },
  {
   "cell_type": "code",
   "execution_count": null,
   "metadata": {},
   "outputs": [],
   "source": [
    "#OutpatPatientByState_df=(OutPatmedicarecharge[['Provider State' ,'submitted_allowed_diff']].groupby('Provider State').mean()/1000).sort_values('submitted_allowed_diff',ascending=False)\n",
    "\n",
    "# group by State\n",
    "#OutpatPatientByState_df.plot(kind='bar')"
   ]
  },
  {
   "cell_type": "code",
   "execution_count": null,
   "metadata": {
    "scrolled": false
   },
   "outputs": [],
   "source": [
    "# group by State\n",
    "#inpatPatientByState_df=(inpatPatmedicarecharge[['Provider State','charges_totpayment_diff']].groupby('Provider State').mean()/1000).sort_values('charges_totpayment_diff',ascending=False)\n",
    "# group by State\n",
    "# inpatPatientByState_df.plot(kind='bar')"
   ]
  },
  {
   "cell_type": "code",
   "execution_count": null,
   "metadata": {},
   "outputs": [],
   "source": [
    "#inpatPatientByState_boxdf=inpatPatmedicarecharge[['Provider State','charges_totpayment_diff']]\n",
    "#inpatPatientByState_boxdf.groupby('Provider State').mean().plot(kind='box')\n"
   ]
  },
  {
   "cell_type": "code",
   "execution_count": null,
   "metadata": {},
   "outputs": [],
   "source": [
    "#inpatPatientCharge_boxdf=inpatPatmedicarecharge[['Provider State','charges_totpayment_diff']]\n",
    "#inpatPatientCharge_boxdf.plot(kind='box')"
   ]
  },
  {
   "cell_type": "code",
   "execution_count": null,
   "metadata": {},
   "outputs": [],
   "source": [
    "#inpatPatientByState_df.head(20)"
   ]
  },
  {
   "cell_type": "code",
   "execution_count": null,
   "metadata": {},
   "outputs": [],
   "source": [
    "#inpatPatientByState_boxdf.describe()"
   ]
  },
  {
   "cell_type": "code",
   "execution_count": null,
   "metadata": {},
   "outputs": [],
   "source": [
    "# group by DRG\n",
    "\n",
    "# inpatPatientByDRG_df=inpatPatmedicarecharge[['DRG Definition','charges_totpayment_diff']].groupby('DRG Definition').mean().sort_values('charges_totpayment_diff',ascending=False)\n",
    "# group by State\n",
    "# inpatPatientByDRG_df.head(10).plot(kind='bar')"
   ]
  },
  {
   "cell_type": "code",
   "execution_count": null,
   "metadata": {},
   "outputs": [],
   "source": [
    "# inpatPatmedicarecharge_bxdf=inpatPatmedicarecharge[['DRG Definition','charges_totpayment_diff']].groupby('DRG Definition').head(20)\n",
    "# inpatPatmedicarecharge_bxdf.plot(kind='box')"
   ]
  },
  {
   "cell_type": "code",
   "execution_count": null,
   "metadata": {},
   "outputs": [],
   "source": [
    "# find top 10 DRG\n",
    "#inpatPatientTop10_DRG=inpatPatientByDRG_df.head(10)\n",
    "#inpatPatientTop10_DRG=inpatPatientTop10_DRG.reset_index('DRG Definition')\n",
    "#Top10_DRG=inpatPatientTop10_DRG['DRG Definition'].unique()"
   ]
  },
  {
   "cell_type": "code",
   "execution_count": null,
   "metadata": {},
   "outputs": [],
   "source": [
    "# find top 10 state\n",
    "#inpatPatientTop10_state=inpatPatientByState_df.head(10)\n",
    "#inpatPatientTop10_state=inpatPatientTop10_state.reset_index('Provider State')\n",
    "#Top10_state=inpatPatientTop10_state['Provider State'].unique()"
   ]
  },
  {
   "cell_type": "code",
   "execution_count": null,
   "metadata": {},
   "outputs": [],
   "source": [
    "#Top10_state"
   ]
  },
  {
   "cell_type": "code",
   "execution_count": null,
   "metadata": {},
   "outputs": [],
   "source": [
    "# group by state and DRG \n",
    "\n",
    "#inpatPatient_State_DRG=inpatPatmedicarecharge[['Provider State','DRG Definition' ,'charges_totpayment_diff']].groupby(['Provider State','DRG Definition']).sum().sort_values(by=['Provider State','charges_totpayment_diff'],ascending=False)\n",
    "\n",
    "# reset index \n",
    "\n",
    "#inpatPatient_State_DRG=inpatPatient_State_DRG.reset_index()"
   ]
  },
  {
   "cell_type": "code",
   "execution_count": null,
   "metadata": {},
   "outputs": [],
   "source": [
    "#Top10_state_DRG=inpatPatient_State_DRG[(inpatPatient_State_DRG['Provider State'].isin(Top10_state)) & (inpatPatient_State_DRG['DRG Definition'].isin(Top10_DRG))]\n",
    "\n",
    "#Top10_state_DRG[Top10_state_DRG['Provider State']=='FL'].reset_index()"
   ]
  },
  {
   "cell_type": "code",
   "execution_count": null,
   "metadata": {},
   "outputs": [],
   "source": [
    "#Top10_state_DRG"
   ]
  },
  {
   "cell_type": "code",
   "execution_count": null,
   "metadata": {},
   "outputs": [],
   "source": [
    "# import county health ranking data \n",
    "\n",
    "countyhealthrank_df=pd.read_excel('data/2016 County Health Rankings Data - v3.xls',sheet_name='Additional Measure Data', index_col=0,skiprows=1)"
   ]
  },
  {
   "cell_type": "code",
   "execution_count": null,
   "metadata": {},
   "outputs": [],
   "source": [
    "countyhealthrank_df.columns"
   ]
  },
  {
   "cell_type": "markdown",
   "metadata": {},
   "source": [
    "### my variables= ['State','County','Age-Adjusted Mortality','% 65 and over','Child Mortality Rate','% African American', '% Non-Hispanic White','Household Income','Other PCP Rate','% Uninsured','# Motor Vehicle Deaths','# Drug Overdose Deaths','Drug Overdose Mortality Rate','MV Mortality Rate','% Limited Access','% Diabetic','% Frequent Mental Distress']\n"
   ]
  },
  {
   "cell_type": "code",
   "execution_count": null,
   "metadata": {},
   "outputs": [],
   "source": [
    "healthranking_df=countyhealthrank_df[['State','County','Age-Adjusted Mortality','% 65 and over','Child Mortality Rate','% African American', '% Non-Hispanic White','Household Income','Other PCP Rate','% Uninsured adults','% Uninsured children','# Motor Vehicle Deaths','# Drug Overdose Deaths','Drug Overdose Mortality Rate','MV Mortality Rate','% Limited Access to Healthy Foods','% Diabetic','% Frequent Mental Distress','% Rural']]\n"
   ]
  },
  {
   "cell_type": "code",
   "execution_count": null,
   "metadata": {},
   "outputs": [],
   "source": [
    "healthranking_df.columns"
   ]
  },
  {
   "cell_type": "code",
   "execution_count": null,
   "metadata": {},
   "outputs": [],
   "source": [
    "healthranking_df.shape"
   ]
  },
  {
   "cell_type": "code",
   "execution_count": null,
   "metadata": {},
   "outputs": [],
   "source": [
    "# keep only desired columns\n",
    "merged_df.head()\n"
   ]
  },
  {
   "cell_type": "code",
   "execution_count": null,
   "metadata": {},
   "outputs": [],
   "source": [
    "# group by State and County \n",
    "hospitalCharge=merged_df[['State','County','Average Estimated Total Submitted Charges']].groupby(['State','County']).mean()\n",
    "hospitalCharge.head()"
   ]
  },
  {
   "cell_type": "code",
   "execution_count": null,
   "metadata": {},
   "outputs": [],
   "source": [
    "# reset index \n",
    "hospitalCharge=hospitalCharge.reset_index()\n",
    "hospitalCharge.head()"
   ]
  },
  {
   "cell_type": "code",
   "execution_count": null,
   "metadata": {},
   "outputs": [],
   "source": [
    "healthranking_df.groupby('County')['County'].count().to_dict()"
   ]
  },
  {
   "cell_type": "code",
   "execution_count": null,
   "metadata": {},
   "outputs": [],
   "source": [
    "hospitalCharge['County']=hospitalCharge.County.str.strip()"
   ]
  },
  {
   "cell_type": "code",
   "execution_count": null,
   "metadata": {},
   "outputs": [],
   "source": [
    "combined_df=pd.merge(hospitalCharge,healthranking_df,how='left',on=['State','County'])\n",
    "combined_df.head()"
   ]
  },
  {
   "cell_type": "code",
   "execution_count": null,
   "metadata": {},
   "outputs": [],
   "source": [
    "# plot relationship between rural  % of communities and hospital charges"
   ]
  },
  {
   "cell_type": "code",
   "execution_count": null,
   "metadata": {},
   "outputs": [],
   "source": [
    "plt.scatter(combined_df['% Rural'],combined_df['Average Estimated Total Submitted Charges'])\n",
    "plt.title('Relationship between Hospital Charges and Percentage of Rural Communities in a County')\n",
    "plt.ylabel('hospital charges in US $')\n",
    "plt.xlabel('percentage of Rural communities')"
   ]
  },
  {
   "cell_type": "code",
   "execution_count": null,
   "metadata": {},
   "outputs": [],
   "source": [
    "plt.scatter(combined_df['% 65 and over'],combined_df['Average Estimated Total Submitted Charges'])\n",
    "plt.title('Relationship between Hospital Charges and Percentage of Over 65 Population')\n",
    "plt.ylabel('hospital charges in US $')\n",
    "plt.xlabel('percentage of Over 65 Population')"
   ]
  },
  {
   "cell_type": "code",
   "execution_count": null,
   "metadata": {},
   "outputs": [],
   "source": [
    "plt.scatter(combined_df['Other PCP Rate'],combined_df['Average Estimated Total Submitted Charges'])\n",
    "plt.title('Relationship between Hospital Charges and Other PCP Rate')\n",
    "plt.ylabel('hospital charges in US $')\n",
    "plt.xlabel('Other PCP Rate')"
   ]
  },
  {
   "cell_type": "code",
   "execution_count": null,
   "metadata": {},
   "outputs": [],
   "source": [
    "plt.scatter(combined_df['% Uninsured adults'],combined_df['Average Estimated Total Submitted Charges'])\n",
    "plt.title('Relationship between Hospital Charges and Percentage of Uninsured adults')\n",
    "plt.ylabel('hospital charges in US $')\n",
    "plt.xlabel('percentage of Uninsured adults')"
   ]
  },
  {
   "cell_type": "code",
   "execution_count": null,
   "metadata": {},
   "outputs": [],
   "source": [
    "plt.scatter(combined_df['% Limited Access to Healthy Foods'],combined_df['Average Estimated Total Submitted Charges'])\n",
    "plt.title('Relationship between Hospital Charges and Percentage of Limited Access to Healthy Foods')\n",
    "plt.ylabel('hospital charges in US $')\n",
    "plt.xlabel('% of Population With Limited Access to Healthy Foods')"
   ]
  },
  {
   "cell_type": "code",
   "execution_count": null,
   "metadata": {},
   "outputs": [],
   "source": [
    "combined_df.columns"
   ]
  },
  {
   "cell_type": "code",
   "execution_count": null,
   "metadata": {},
   "outputs": [],
   "source": [
    "hospitalCharge['County'].to_dict()"
   ]
  },
  {
   "cell_type": "code",
   "execution_count": null,
   "metadata": {},
   "outputs": [],
   "source": [
    "salary=pd.read_excel(\"data/state_M2016_dl.xlsx\")\n",
    "\n",
    "salary.head()"
   ]
  },
  {
   "cell_type": "code",
   "execution_count": null,
   "metadata": {},
   "outputs": [],
   "source": [
    "salary=salary[salary.OCC_TITLE=='Physicians and Surgeons, All Other']"
   ]
  },
  {
   "cell_type": "code",
   "execution_count": null,
   "metadata": {},
   "outputs": [],
   "source": [
    "salary=salary[['STATE','OCC_TITLE','A_MEAN']]\n",
    "salary.columns=['State','OCC_TITLE','AveYearlySalary']"
   ]
  },
  {
   "cell_type": "code",
   "execution_count": null,
   "metadata": {},
   "outputs": [],
   "source": [
    "salary.sort_values('AveYearlySalary',ascending=False).plot(kind='bar',x='State',y='AveYearlySalary')"
   ]
  },
  {
   "cell_type": "code",
   "execution_count": null,
   "metadata": {},
   "outputs": [],
   "source": [
    "# merge salary data\n",
    "#combined_data=pd.merge(combined_df,salary, how='left',on='State')\n",
    "#combined_data.columns"
   ]
  },
  {
   "cell_type": "code",
   "execution_count": null,
   "metadata": {},
   "outputs": [],
   "source": [
    "# import linear regression model\n",
    "import scipy.stats as stats\n",
    "import sklearn\n",
    "from sklearn.model_selection import train_test_split\n",
    "from sklearn import preprocessing  # helps for reshaping X and y\n",
    "from sklearn.linear_model import LinearRegression\n",
    "from sklearn.metrics import mean_squared_error, r2_score\n",
    "import statsmodels.api as sm\n",
    "from scipy import stats"
   ]
  },
  {
   "cell_type": "code",
   "execution_count": null,
   "metadata": {},
   "outputs": [],
   "source": [
    "combined_df.shape"
   ]
  },
  {
   "cell_type": "code",
   "execution_count": null,
   "metadata": {},
   "outputs": [],
   "source": [
    "combined_df=combined_df.dropna(axis=0)"
   ]
  },
  {
   "cell_type": "code",
   "execution_count": null,
   "metadata": {},
   "outputs": [],
   "source": [
    "combined_df['Other PCP Rate']=pd.to_numeric(combined_df['Other PCP Rate'])"
   ]
  },
  {
   "cell_type": "code",
   "execution_count": null,
   "metadata": {},
   "outputs": [],
   "source": [
    "combined_df.info()"
   ]
  },
  {
   "cell_type": "code",
   "execution_count": null,
   "metadata": {},
   "outputs": [],
   "source": [
    "# define X and y variables\n",
    "y=combined_df.iloc[:,2]\n",
    "#X=combined_df.iloc[:,3:21]\n",
    "# \n",
    "#X=combined_df.iloc[:,-1]abs\n",
    "X=combined_df[['% Uninsured adults','% Rural','% 65 and over']]\n"
   ]
  },
  {
   "cell_type": "code",
   "execution_count": null,
   "metadata": {},
   "outputs": [],
   "source": [
    "X.head()"
   ]
  },
  {
   "cell_type": "code",
   "execution_count": null,
   "metadata": {},
   "outputs": [],
   "source": [
    "# reshape it becuase it is only one feature\n",
    "#X=X.values.reshape(-1,1)\n"
   ]
  },
  {
   "cell_type": "markdown",
   "metadata": {},
   "source": [
    "#X=combined_df[['% 65 and over','Child Mortality Rate',\n",
    "       '% African American','Household Income',\n",
    "       'Other PCP Rate', '% Uninsured adults', '% Uninsured children',\n",
    "       '# Motor Vehicle Deaths', '# Drug Overdose Deaths',\n",
    "       'Drug Overdose Mortality Rate', 'MV Mortality Rate',\n",
    "       '% Limited Access to Healthy Foods', '% Diabetic',\n",
    "       '% Frequent Mental Distress']]"
   ]
  },
  {
   "cell_type": "code",
   "execution_count": null,
   "metadata": {},
   "outputs": [],
   "source": [
    "y.head()"
   ]
  },
  {
   "cell_type": "code",
   "execution_count": null,
   "metadata": {},
   "outputs": [],
   "source": [
    "# split the data into train and test, 33% test\n",
    "X_train, X_test, y_train, y_test = train_test_split(X, y, test_size=0.33, random_state=42)\n"
   ]
  },
  {
   "cell_type": "code",
   "execution_count": null,
   "metadata": {},
   "outputs": [],
   "source": [
    "# define the model\n",
    "lmodel=LinearRegression()\n",
    "lmodel.fit(X_train,y_train)\n",
    "# predict the model\n",
    "y_pred=lmodel.predict(X_test)\n"
   ]
  },
  {
   "cell_type": "code",
   "execution_count": null,
   "metadata": {},
   "outputs": [],
   "source": [
    "print('R score: %.2f' % r2_score(y_test, y_pred))\n",
    "print ('Mean Square Error:%.2f' % mean_squared_error(y_test,y_pred))"
   ]
  },
  {
   "cell_type": "code",
   "execution_count": null,
   "metadata": {},
   "outputs": [],
   "source": [
    "lmodel.coef_"
   ]
  },
  {
   "cell_type": "markdown",
   "metadata": {},
   "source": [
    "### % of Uninsured population in the counties has positively  related with hospital charges\n",
    "### 1 % increase in % of uninsured increases  charge increses hospital charges by $588\n",
    "\n",
    "\n",
    "### 1% increase in proportion of Rural communities in the counties decreases hospital charges by $346"
   ]
  },
  {
   "cell_type": "code",
   "execution_count": null,
   "metadata": {},
   "outputs": [],
   "source": [
    "X2 = sm.add_constant(X)\n",
    "est = sm.OLS(y, X2)\n",
    "est2 = est.fit()\n",
    "print(est2.summary())"
   ]
  },
  {
   "cell_type": "code",
   "execution_count": null,
   "metadata": {},
   "outputs": [],
   "source": [
    "# tried  OLS model  selected variables by county level\n",
    "\n",
    "# define y\n",
    "# define X and y variables\n",
    "y=combined_df.iloc[:,2]\n",
    "\n",
    "X=  combined_df[['% 65 and over','% Non-Hispanic White', 'Household Income',\n",
    "       '% Uninsured adults', '% Uninsured children', '# Motor Vehicle Deaths','# Drug Overdose Deaths', '% Limited Access to Healthy Foods', '% Diabetic','Other PCP Rate','% Rural']]"
   ]
  },
  {
   "cell_type": "code",
   "execution_count": null,
   "metadata": {},
   "outputs": [],
   "source": [
    "X.info()"
   ]
  },
  {
   "cell_type": "code",
   "execution_count": null,
   "metadata": {},
   "outputs": [],
   "source": [
    "X_train, X_test, y_train, y_test = train_test_split(X, y, test_size=0.33, random_state=42)\n",
    "# define the model\n",
    "lmodel_st=LinearRegression()\n",
    "lmodel_st.fit(X_train,y_train)\n",
    "# predict the model\n",
    "y_pred=lmodel_st.predict(X_test)\n",
    "print('R score: %.2f' % r2_score(y_test, y_pred))\n",
    "print ('Mean Square Error:%.2f' % mean_squared_error(y_test,y_pred))\n",
    "lmodel_st.coef_"
   ]
  },
  {
   "cell_type": "markdown",
   "metadata": {},
   "source": [
    "### - Limited access to healthy food is highly associated particularly with  those living in low-income neighborhoods,communities of color, and rural areas\n",
    "### - This could be a possible explanation why it has negative effect on hospital charges. "
   ]
  },
  {
   "cell_type": "code",
   "execution_count": null,
   "metadata": {},
   "outputs": [],
   "source": [
    "X2 = sm.add_constant(X)\n",
    "\n",
    "est = sm.OLS(y, X2)\n",
    "est2 = est.fit()\n",
    "print(est2.summary())"
   ]
  },
  {
   "cell_type": "code",
   "execution_count": null,
   "metadata": {},
   "outputs": [],
   "source": [
    "combined_df[combined_df['% Rural']>60.00].shape"
   ]
  },
  {
   "cell_type": "code",
   "execution_count": null,
   "metadata": {},
   "outputs": [],
   "source": [
    "# group the data by state\n",
    "combined_State_df=combined_df.drop('County',axis=1).groupby('State').mean()\n",
    "combined_State_df.head()\n"
   ]
  },
  {
   "cell_type": "code",
   "execution_count": null,
   "metadata": {},
   "outputs": [],
   "source": [
    "# keep only Salary amoount column\n",
    "salary_amt=salary.drop('OCC_TITLE',axis=1)\n",
    "# combined State data with Salary data\n",
    "\n",
    "combined_State_all=pd.merge(combined_State_df,salary_amt, how='left', on='State')\n",
    "combined_State_all.head()"
   ]
  },
  {
   "cell_type": "code",
   "execution_count": null,
   "metadata": {},
   "outputs": [],
   "source": [
    "combined_State_all=combined_State_all.dropna(axis=0)"
   ]
  },
  {
   "cell_type": "markdown",
   "metadata": {},
   "source": [
    "### - I tried a model including Salary for physicians and surgeons, but the salary has negative sign , but not significant effect.\n",
    "### - Logically Physicians  can move from State to can minimize the variations in Salary, so this cannot be real explaining factor for variations in hospital charges."
   ]
  },
  {
   "cell_type": "code",
   "execution_count": null,
   "metadata": {},
   "outputs": [],
   "source": [
    "# define y\n",
    "y=combined_State_all.iloc[:,1]\n",
    "# define X \n",
    "# only % uninsured and %Rural, both are have statistically significant effect.\n",
    "\n",
    "#X=combined_State_all[['% Uninsured adults','% Rural']]\n",
    "\n",
    "# added average Physicians and surgeons salary by state, Salary is not statistically significant\n",
    "\n",
    "#X=combined_State_all[['% 65 and over','% Uninsured adults','% Rural','AveYearlySalary']]\n",
    "# tried will all variables, except salary\n",
    "X=combined_State_all.iloc[:,2:18]"
   ]
  },
  {
   "cell_type": "code",
   "execution_count": null,
   "metadata": {},
   "outputs": [],
   "source": [
    "#X['AveYearlySalary']=pd.to_numeric(X.AveYearlySalary)"
   ]
  },
  {
   "cell_type": "code",
   "execution_count": null,
   "metadata": {},
   "outputs": [],
   "source": [
    "X.info()"
   ]
  },
  {
   "cell_type": "code",
   "execution_count": null,
   "metadata": {},
   "outputs": [],
   "source": [
    "y.head()"
   ]
  },
  {
   "cell_type": "code",
   "execution_count": null,
   "metadata": {},
   "outputs": [],
   "source": [
    "# split the data into train and test, 33% test\n",
    "X_train, X_test, y_train, y_test = train_test_split(X, y, test_size=0.33, random_state=42)"
   ]
  },
  {
   "cell_type": "code",
   "execution_count": null,
   "metadata": {},
   "outputs": [],
   "source": [
    "# define the model\n",
    "lmodel_st=LinearRegression()\n",
    "lmodel_st.fit(X_train,y_train)\n",
    "# predict the model\n",
    "y_pred=lmodel_st.predict(X_test)"
   ]
  },
  {
   "cell_type": "code",
   "execution_count": null,
   "metadata": {},
   "outputs": [],
   "source": [
    "print('R score: %.2f' % r2_score(y_test, y_pred))\n",
    "print ('Mean Square Error:%.2f' % mean_squared_error(y_test,y_pred))\n",
    "lmodel_st.coef_"
   ]
  },
  {
   "cell_type": "code",
   "execution_count": null,
   "metadata": {},
   "outputs": [],
   "source": [
    "# USE OLS Linear Regression \n",
    "X2 = sm.add_constant(X)\n",
    "est = sm.OLS(y, X2)\n",
    "est2 = est.fit()\n",
    "\n",
    "print(est2.summary())\n"
   ]
  },
  {
   "cell_type": "code",
   "execution_count": null,
   "metadata": {},
   "outputs": [],
   "source": [
    "# tried  OLS model  selected variables\n",
    "\n",
    "# define y\n",
    "y=combined_State_all.iloc[:,1]\n",
    "\n",
    "X=  combined_State_all[['Child Mortality Rate', '% Non-Hispanic White', 'Household Income',\n",
    "       '% Uninsured adults', '% Uninsured children', '# Motor Vehicle Deaths','# Drug Overdose Deaths', '% Limited Access to Healthy Foods', '% Diabetic','% Frequent Mental Distress', '% Rural']]"
   ]
  },
  {
   "cell_type": "code",
   "execution_count": null,
   "metadata": {},
   "outputs": [],
   "source": [
    "X.columns"
   ]
  },
  {
   "cell_type": "code",
   "execution_count": null,
   "metadata": {},
   "outputs": [],
   "source": [
    "X_train, X_test, y_train, y_test = train_test_split(X, y, test_size=0.33, random_state=42)\n",
    "# define the model\n",
    "lmodel_st=LinearRegression()\n",
    "lmodel_st.fit(X_train,y_train)\n",
    "# predict the model\n",
    "y_pred=lmodel_st.predict(X_test)\n",
    "print('R score: %.2f' % r2_score(y_test, y_pred))\n",
    "print ('Mean Square Error:%.2f' % mean_squared_error(y_test,y_pred))\n",
    "lmodel_st.coef_"
   ]
  },
  {
   "cell_type": "code",
   "execution_count": null,
   "metadata": {},
   "outputs": [],
   "source": [
    "# OlS for selected variables\n",
    "X2 = sm.add_constant(X)\n",
    "est = sm.OLS(y, X2)\n",
    "est2 = est.fit()\n",
    "\n",
    "print(est2.summary())\n"
   ]
  },
  {
   "cell_type": "code",
   "execution_count": null,
   "metadata": {},
   "outputs": [],
   "source": [
    "combined_State_O65=combined_State_all.sort_values('% 65 and over',ascending=False)\n",
    "plt.bar(x=combined_State_O65.State,height=combined_State_O65['% 65 and over'])\n",
    "plt.xticks(rotation='vertical')\n",
    "plt.show()"
   ]
  },
  {
   "cell_type": "markdown",
   "metadata": {},
   "source": [
    "### To do Today\n",
    "\n",
    "- Try create Rural Urben Data\n",
    "- create system non system\n",
    "\n",
    "- run only rural or urban data "
   ]
  },
  {
   "cell_type": "markdown",
   "metadata": {},
   "source": [
    "### combibe Hospital Information data with combined_df"
   ]
  },
  {
   "cell_type": "code",
   "execution_count": null,
   "metadata": {},
   "outputs": [],
   "source": [
    "state_median_charge=combined_State_all.iloc[:,0:2]\n",
    "state_median_charge.head()"
   ]
  },
  {
   "cell_type": "code",
   "execution_count": null,
   "metadata": {},
   "outputs": [],
   "source": [
    "import csv"
   ]
  },
  {
   "cell_type": "code",
   "execution_count": null,
   "metadata": {},
   "outputs": [],
   "source": [
    "state_median_charge.to_csv('data/state_median_charge.csv',index=False)"
   ]
  }
 ],
 "metadata": {
  "kernelspec": {
   "display_name": "Python 3",
   "language": "python",
   "name": "python3"
  },
  "language_info": {
   "codemirror_mode": {
    "name": "ipython",
    "version": 3
   },
   "file_extension": ".py",
   "mimetype": "text/x-python",
   "name": "python",
   "nbconvert_exporter": "python",
   "pygments_lexer": "ipython3",
   "version": "3.6.4"
  }
 },
 "nbformat": 4,
 "nbformat_minor": 2
}
