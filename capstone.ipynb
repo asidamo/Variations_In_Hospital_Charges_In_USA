{
 "cells": [
  {
   "cell_type": "markdown",
   "metadata": {},
   "source": [
    "## Variations in Hospital Charge and Determinants in USA\n",
    "### Monopolistic Competition in Healthcare Sector\n",
    "\n",
    "Generally speaking, USA healthcare sector behaves as monopolistic competition that allows the providers to set their own prices for same or similar services. The monopolistic power to the providers comes from either real or perceived differences in quality of medical and related services. In health sector new technologies can also be used to signal quality even when their clinical usefulness is not proven."
   ]
  },
  {
   "cell_type": "code",
   "execution_count": null,
   "metadata": {},
   "outputs": [],
   "source": [
    "import pandas as pd\n",
    "import numpy as np\n",
    "import matplotlib.pyplot as plt\n",
    "from pylab import rcParams\n",
    "from pandas import ExcelWriter\n",
    "from pandas import ExcelFile\n",
    "import geopandas as gpd\n",
    "import json\n",
    "import folium\n",
    "from collections import Counter\n",
    "import seaborn as sns\n",
    "rcParams['figure.figsize'] = 10.5, 8.5"
   ]
  },
  {
   "cell_type": "markdown",
   "metadata": {},
   "source": [
    "## About the Data\n",
    "\n",
    "####  - 49 States and DC, excluding Maryland\n",
    "####  - 35 Procedures(Ambulatory Payment Classifications)\n",
    "####  -The data represents 15.9% (428 million) of Outpatient Prospective Payment System(OPPS) hospital services and  23.3% ($14.3        billion) of the total  Medicare allowed amount charges.\n",
    "####  - Only One year Data is used because of differences in data structure for previous years.\n",
    "####  - All inferences and conclusions are based on and for 2016 Only."
   ]
  },
  {
   "cell_type": "code",
   "execution_count": null,
   "metadata": {},
   "outputs": [],
   "source": [
    "# This is hospital information data, is not charge data.\n",
    "# This data is obtained from CMS website\n",
    "Hospital_Information=pd.read_csv('data/Hospital_General_Information.csv')\n",
    "Hospital_Information.head()"
   ]
  },
  {
   "cell_type": "code",
   "execution_count": null,
   "metadata": {},
   "outputs": [],
   "source": [
    "Counter(Hospital_Information['Patient experience national comparison'])"
   ]
  },
  {
   "cell_type": "code",
   "execution_count": null,
   "metadata": {},
   "outputs": [],
   "source": [
    "Hospital_Information.columns"
   ]
  },
  {
   "cell_type": "code",
   "execution_count": null,
   "metadata": {},
   "outputs": [],
   "source": [
    "# Keep only columns we want to use\n",
    "Hospital_Information=Hospital_Information[['Provider ID', 'Hospital Name', 'Address', 'City', 'State', 'ZIP Code',\n",
    "       'County Name','Hospital Type', 'Hospital Ownership','Patient experience national comparison',\n",
    "       'Emergency Services','Effectiveness of care national comparison','Efficient use of medical imaging national comparison','Readmission national comparison',\n",
    "       'Hospital overall rating','Location']]"
   ]
  },
  {
   "cell_type": "code",
   "execution_count": null,
   "metadata": {},
   "outputs": [],
   "source": [
    "# Import 2016 Medicare Outpatient Hospital charge data \n",
    "\n",
    "OutPatmedicarecharge=pd.read_csv('data/Provider_Outpatient_Hospital_Charge_Data_by_APC__CY2016.csv')\n",
    "OutPatmedicarecharge.head()\n",
    "#OutPatmedicarecharge=pd.read_csv('data/Provider_Outpatient_Hospital_Charge_Data_by_APC__CY2015.csv')\n",
    "#OutPatmedicarecharge.head()\n",
    "# to join charge data with hospital information data, we take upper cases of string columns \n",
    "\n",
    "OutPatmedicarecharge['Provider Name']=OutPatmedicarecharge['Provider Name'].apply(lambda x: x.upper())\n",
    "OutPatmedicarecharge['Provider Street Address']=OutPatmedicarecharge['Provider Street Address'].apply(lambda x: x.upper())\n",
    "OutPatmedicarecharge['Provider City']=OutPatmedicarecharge['Provider City'].apply(lambda x: x.upper())\n",
    "OutPatmedicarecharge['Provider State']=OutPatmedicarecharge['Provider State'].apply(lambda x: x.upper())\n"
   ]
  },
  {
   "cell_type": "markdown",
   "metadata": {},
   "source": [
    "### Average Estimated Submitted Charges\n",
    "The provider's average estimated submitted charge for services covered by Medicare for the APC. The average charges submitted vary from hospital to hospital because of differences in hospital charge structures.\n",
    "### Average Total Payments\n",
    "The average of total payments to the provider for the APC including the Medicare Payments for APCs. Average Total Payments also include co-payment and deductible amounts that the patient is responsible for.\n",
    "### Average Medicare Payment Amount\n",
    "The amount Medicare Paid to the hospitals or providers."
   ]
  },
  {
   "cell_type": "markdown",
   "metadata": {},
   "source": [
    "### Total Observations: the data has total of 27652 APC services at different hospitals participating in OPPS.\n",
    "### The overall Average charge submitted by hospitals is $41,633.24 (It is average of average charges)"
   ]
  },
  {
   "cell_type": "code",
   "execution_count": null,
   "metadata": {},
   "outputs": [],
   "source": [
    "# Check desctriptiptive statistics\n",
    "OutPatmedicarecharge.drop(['Provider ID','Provider Zip Code','APC'],axis=1).describe().round(2)"
   ]
  },
  {
   "cell_type": "code",
   "execution_count": null,
   "metadata": {},
   "outputs": [],
   "source": [
    "# check state incuded in the data\n",
    "OutPatmedicarecharge['Provider State'].unique()"
   ]
  },
  {
   "cell_type": "code",
   "execution_count": null,
   "metadata": {},
   "outputs": [],
   "source": [
    "# create State Dictionary\n",
    "us_state_abbrev = {\n",
    "    'Alabama': 'AL',\n",
    "    'Alaska': 'AK',\n",
    "    'Arizona': 'AZ',\n",
    "    'Arkansas': 'AR',\n",
    "    'California': 'CA',\n",
    "    'Colorado': 'CO',\n",
    "    'Connecticut': 'CT',\n",
    "    'Delaware': 'DE',\n",
    "    'District of Columbia': 'DC',\n",
    "    'Florida': 'FL',\n",
    "    'Georgia': 'GA',\n",
    "    'Hawaii': 'HI',\n",
    "    'Idaho': 'ID',\n",
    "    'Illinois': 'IL',\n",
    "    'Indiana': 'IN',\n",
    "    'Iowa': 'IA',\n",
    "    'Kansas': 'KS',\n",
    "    'Kentucky': 'KY',\n",
    "    'Louisiana': 'LA',\n",
    "    'Maine': 'ME',\n",
    "    'Maryland': 'MD',\n",
    "    'Massachusetts': 'MA',\n",
    "    'Michigan': 'MI',\n",
    "    'Minnesota': 'MN',\n",
    "    'Mississippi': 'MS',\n",
    "    'Missouri': 'MO',\n",
    "    'Montana': 'MT',\n",
    "    'Nebraska': 'NE',\n",
    "    'Nevada': 'NV',\n",
    "    'New Hampshire': 'NH',\n",
    "    'New Jersey': 'NJ',\n",
    "    'New Mexico': 'NM',\n",
    "    'New York': 'NY',\n",
    "    'North Carolina': 'NC',\n",
    "    'North Dakota': 'ND',\n",
    "    'Ohio': 'OH',\n",
    "    'Oklahoma': 'OK',\n",
    "    'Oregon': 'OR',\n",
    "    'Pennsylvania': 'PA',\n",
    "    'Rhode Island': 'RI',\n",
    "    'South Carolina': 'SC',\n",
    "    'South Dakota': 'SD',\n",
    "    'Tennessee': 'TN',\n",
    "    'Texas': 'TX',\n",
    "    'Utah': 'UT',\n",
    "    'Vermont': 'VT',\n",
    "    'Virginia': 'VA',\n",
    "    'Washington': 'WA',\n",
    "    'West Virginia': 'WV',\n",
    "    'Wisconsin': 'WI',\n",
    "    'Wyoming': 'WY',\n",
    "}"
   ]
  },
  {
   "cell_type": "code",
   "execution_count": null,
   "metadata": {},
   "outputs": [],
   "source": [
    "# convert from State dictionary to data frame \n",
    "state_df=pd.DataFrame.from_dict(us_state_abbrev, orient='index')\\\n",
    "         .reset_index()\n",
    "# rename columns   \n",
    "state_df.columns=['State','Provider State']\n",
    "state_df.head()"
   ]
  },
  {
   "cell_type": "code",
   "execution_count": null,
   "metadata": {},
   "outputs": [],
   "source": [
    "# import zipcodes by state and county data\n",
    "#zipcodes=pd.read_csv('data/ZIP-COUNTY-FIPS_2017-06.csv')\n",
    "#print(zipcodes.head())\n",
    "\n",
    "# create a county column by replace County from COUNTYNAME column\n",
    "#zipcodes['County']=zipcodes.COUNTYNAME.str.replace('(County)','',regex=True)\n",
    "# keep only three columns listed\n",
    "#zipcodes=zipcodes[['ZIP','County','STATE']]\n",
    "\n",
    "# rename the columns\n",
    "#zipcodes.columns=['Provider Zip Code','County','Provider State']\n",
    "# merge zipcode data with state_df\n",
    "#state_data=pd.merge(state_df,zipcodes, how= 'inner', on='Provider State' )\n",
    "#state_data.head()"
   ]
  },
  {
   "cell_type": "code",
   "execution_count": null,
   "metadata": {},
   "outputs": [],
   "source": [
    "## merge State data with Outpatient charge data\n",
    "#merged_df=pd.merge(state_data,OutPatmedicarecharge, how='inner', on=['Provider State','Provider Zip Code'])\n",
    "#merged_df.head()"
   ]
  },
  {
   "cell_type": "markdown",
   "metadata": {},
   "source": [
    "### Large gap between Medicare Allowed charges and what the Providers charge"
   ]
  },
  {
   "cell_type": "code",
   "execution_count": null,
   "metadata": {},
   "outputs": [],
   "source": [
    "# plot hospital charges, medicare allowed amount, and medicare payments\n",
    "OutPatmedicarecharge.iloc[:,10:13].describe().iloc[1,0:4].plot(kind='bar')\n",
    "plt.title('Outpatient Hospital Charges')\n",
    "plt.ylabel(\"amount in US $\")"
   ]
  },
  {
   "cell_type": "markdown",
   "metadata": {},
   "source": [
    "#### We can also see State Level Average State By State for the three types of charges"
   ]
  },
  {
   "cell_type": "code",
   "execution_count": null,
   "metadata": {},
   "outputs": [],
   "source": [
    "OutPatmedicarecharge.head()"
   ]
  },
  {
   "cell_type": "code",
   "execution_count": null,
   "metadata": {},
   "outputs": [],
   "source": [
    "charge_data=pd.merge(state_df,OutPatmedicarecharge,how='inner',on='Provider State')\n",
    "charge_data.shape"
   ]
  },
  {
   "cell_type": "code",
   "execution_count": null,
   "metadata": {},
   "outputs": [],
   "source": [
    "# create state list\n",
    "state_list=state_df['State'].unique().tolist()"
   ]
  },
  {
   "cell_type": "markdown",
   "metadata": {},
   "source": [
    "### This function creates interactive tools"
   ]
  },
  {
   "cell_type": "code",
   "execution_count": null,
   "metadata": {},
   "outputs": [],
   "source": [
    "### This function creates interactive analysis\n",
    "from __future__ import print_function\n",
    "from ipywidgets import interact, interactive, fixed, interact_manual\n",
    "import ipywidgets as widgets"
   ]
  },
  {
   "cell_type": "code",
   "execution_count": null,
   "metadata": {},
   "outputs": [],
   "source": [
    "def f(x):\n",
    "    OutPatmedicarecharge_df=charge_data\n",
    "    OutPatmedicarecharge_df=OutPatmedicarecharge_df[OutPatmedicarecharge_df['State']==x]\n",
    "    by_state_desc = OutPatmedicarecharge_df.iloc[:,11:14].describe()\n",
    "    by_state_desc.iloc[1,0:4].plot(kind='bar')\n",
    "    state_plot=plt.title('Outpatient Hospital Charges')\n",
    "    plt.ylabel(\"amount in US $\")\n",
    "    return state_plot"
   ]
  },
  {
   "cell_type": "code",
   "execution_count": null,
   "metadata": {},
   "outputs": [],
   "source": [
    "interactive(f,x=state_list)"
   ]
  },
  {
   "cell_type": "code",
   "execution_count": null,
   "metadata": {},
   "outputs": [],
   "source": [
    "Hospital_Information.columns"
   ]
  },
  {
   "cell_type": "code",
   "execution_count": null,
   "metadata": {},
   "outputs": [],
   "source": [
    "# rename hospital information data to match with charge data(hospital charge data)\n",
    "Hospital_Information.columns=['Provider ID', 'Provider Name', 'Provider Street Address', \n",
    "                              'Provider City', 'Provider State', 'Provider Zip Code',\n",
    "                              'County','Hospital Type', 'Hospital Ownership',\n",
    "                              'Patient experience national comparison','Emergency Services',\n",
    "                              'Effectiveness of care national comparison',\n",
    "                              'Efficient use of medical imaging national comparison',\n",
    "                              'Readmission national comparison', 'Hospital overall rating',\n",
    "                              'Location']"
   ]
  },
  {
   "cell_type": "code",
   "execution_count": null,
   "metadata": {},
   "outputs": [],
   "source": [
    "# merge charge_data with hospital Informaation data\n",
    "Merged_df2=pd.merge(charge_data,Hospital_Information, how='left',on =['Provider ID', 'Provider Street Address', 'Provider City', 'Provider State', 'Provider Zip Code'])\n",
    "print('shape :', Merged_df2.shape)\n",
    "Merged_df2.columns\n"
   ]
  },
  {
   "cell_type": "code",
   "execution_count": null,
   "metadata": {},
   "outputs": [],
   "source": [
    "# drop  duplicate columns\n",
    "Merged_df2=Merged_df2.drop('Provider Name_y',axis=1)"
   ]
  },
  {
   "cell_type": "code",
   "execution_count": null,
   "metadata": {},
   "outputs": [],
   "source": [
    "# rename columns\n",
    "Merged_df2=Merged_df2.rename(columns={'Provider Name_x':'Provider Name'})\n",
    "Merged_df2.info()"
   ]
  },
  {
   "cell_type": "code",
   "execution_count": null,
   "metadata": {},
   "outputs": [],
   "source": [
    "# extract lat and Long data from parethesis\n",
    "Merged_df2['lat_Long']=Merged_df2.Location.str.extract('\\(([^)]+)\\)',expand=True)\n",
    "# break lat_long column into lat and long columns\n",
    "Merged_df2[['Lat','Long']]=Merged_df2.lat_Long.str.split(',',expand=True)\n",
    "Merged_df2.head()"
   ]
  },
  {
   "cell_type": "markdown",
   "metadata": {},
   "source": [
    "### Majority of the services are provided by  'Voluntary non-profit - Private': total of 13,188"
   ]
  },
  {
   "cell_type": "code",
   "execution_count": null,
   "metadata": {},
   "outputs": [],
   "source": [
    "# Count of hospital by ownership type\n",
    "Counter(Merged_df2['Hospital Ownership'])"
   ]
  },
  {
   "cell_type": "code",
   "execution_count": null,
   "metadata": {},
   "outputs": [],
   "source": [
    "# count of services taken places by hospitals ownership type\n",
    "Merged_df2[['Hospital Ownership','Provider Name']]\\\n",
    ".groupby('Hospital Ownership').count().sort_values('Provider Name',ascending=False)"
   ]
  },
  {
   "cell_type": "code",
   "execution_count": null,
   "metadata": {},
   "outputs": [],
   "source": [
    "# count of Voluntary non-profit - Private Hospitals\n",
    "len(Merged_df2[Merged_df2['Hospital Ownership']=='Voluntary non-profit - Private']['Provider Name'].unique())"
   ]
  },
  {
   "cell_type": "markdown",
   "metadata": {},
   "source": [
    "## Ten unique Federal Government Hospitals data are incuded"
   ]
  },
  {
   "cell_type": "code",
   "execution_count": null,
   "metadata": {},
   "outputs": [],
   "source": [
    "# Check list of Goverment Hospitals\n",
    "Counter(Merged_df2[Merged_df2['Hospital Ownership']=='Government - Federal']['Provider Name'])"
   ]
  },
  {
   "cell_type": "markdown",
   "metadata": {},
   "source": [
    "### Hospital charge by ownership type shows proprietary hospitals charged the highest \n",
    "### Local Government hospitals charged lowest amount\n",
    "### Tribal is the lowest but there is one Tribal provider in the data."
   ]
  },
  {
   "cell_type": "code",
   "execution_count": null,
   "metadata": {},
   "outputs": [],
   "source": [
    "# plot hospital charges by Ownership Type\n",
    "\n",
    "Merged_df2[['Hospital Ownership','Average Estimated Total Submitted Charges']]\\\n",
    ".groupby('Hospital Ownership').median().sort_values('Average Estimated Total Submitted Charges',ascending=False)\\\n",
    ".plot(kind='bar',color='firebrick')\n",
    "\n",
    "plt.ylabel(\"Hospital charges in US $\")\n",
    "plt.xlabel(\"Ownership Type\")\n",
    "plt.title(\"Median Hospital Charges by Ownership Type\")"
   ]
  },
  {
   "cell_type": "code",
   "execution_count": null,
   "metadata": {},
   "outputs": [],
   "source": [
    "Counter(Merged_df2['Patient experience national comparison'])"
   ]
  },
  {
   "cell_type": "markdown",
   "metadata": {},
   "source": [
    "### Hopsitals rated below national average in terms of Patient experience national comparison have highest average charge\n",
    "### Hospitals rated above national average has lowest charge compared with both below and same as national average.\n",
    "### 1162 providers are missing the information, 228 providers Have no Rating Available."
   ]
  },
  {
   "cell_type": "code",
   "execution_count": null,
   "metadata": {},
   "outputs": [],
   "source": [
    "# plot average submitted charges by rating based on customer expriences\n",
    "Merged_df2[['Patient experience national comparison','Average Estimated Total Submitted Charges']]\\\n",
    ".groupby('Patient experience national comparison').mean().plot(kind='bar')"
   ]
  },
  {
   "cell_type": "code",
   "execution_count": null,
   "metadata": {},
   "outputs": [],
   "source": [
    "Merged_df2.columns"
   ]
  },
  {
   "cell_type": "code",
   "execution_count": null,
   "metadata": {},
   "outputs": [],
   "source": [
    "# plot average submitted charges by rating based on customer expriences\n",
    "Merged_df2[['Efficient use of medical imaging national comparison','Average Estimated Total Submitted Charges']]\\\n",
    ".groupby('Efficient use of medical imaging national comparison').mean().plot(kind='bar')\n",
    "plt.ylabel(\"in USD\")\n",
    "plt.xlabel(\"Efficient use of medical imaging national comparison\")\n",
    "plt.title('Hospital Charges by Efficieny of Hospital in Using Medical Imaging')\n"
   ]
  },
  {
   "cell_type": "code",
   "execution_count": null,
   "metadata": {},
   "outputs": [],
   "source": [
    "Merged_df2.isna().sum()"
   ]
  },
  {
   "cell_type": "code",
   "execution_count": null,
   "metadata": {},
   "outputs": [],
   "source": [
    "### Drop the columns with most missing values \n",
    "\n",
    "Merged_df2=Merged_df2.drop(['Outlier Comprehensive APC Services','Average Medicare Outlier Amount'],axis=1)            "
   ]
  },
  {
   "cell_type": "code",
   "execution_count": null,
   "metadata": {},
   "outputs": [],
   "source": [
    "Merged_df2.head()"
   ]
  },
  {
   "cell_type": "code",
   "execution_count": null,
   "metadata": {},
   "outputs": [],
   "source": [
    "# Split Ownership into Goverment, Voluntary-non-profit and Proprietary\n",
    "#Merged_df2['Hospital Ownership'].str.contains('Voluntary',regex=True)\n",
    "#Merged_df2[['Ownership_type','ignore1','ignore2']]=Merged_df2['Hospital Ownership'].str.split('-',expand=True)\n",
    "#Merged_df2.columns"
   ]
  },
  {
   "cell_type": "code",
   "execution_count": null,
   "metadata": {},
   "outputs": [],
   "source": [
    "#Merged_df2=Merged_df2.drop(['ignore1','ignore2'],axis=1)"
   ]
  },
  {
   "cell_type": "code",
   "execution_count": null,
   "metadata": {},
   "outputs": [],
   "source": [
    "Merged_df2[['Government - Federal', 'Government - Hospital District or Authority',\n",
    "       'Government - Local', 'Government - State', 'Physician', 'Proprietary',\n",
    "       'Tribal', 'Voluntary non-profit - Church',\n",
    "       'Voluntary non-profit - Other', 'Voluntary non-profit - Private']]=pd.get_dummies(Merged_df2['Hospital Ownership'])"
   ]
  },
  {
   "cell_type": "code",
   "execution_count": null,
   "metadata": {},
   "outputs": [],
   "source": [
    "# create dummy variables for ownership type\n",
    "\n",
    "#Merged_df2[['Government','Physician','Proprietary','Tribal','Voluntary non-profit']]=pd.get_dummies(Merged_df2.Ownership_type)"
   ]
  },
  {
   "cell_type": "code",
   "execution_count": null,
   "metadata": {},
   "outputs": [],
   "source": [
    "Merged_df2.columns"
   ]
  },
  {
   "cell_type": "code",
   "execution_count": null,
   "metadata": {},
   "outputs": [],
   "source": [
    "# create dummy variables for ownership type\n",
    "Merged_df2[['Above the national average','Below the national average',\n",
    "            'Not Available','Same as the national average']]=pd.get_dummies(Merged_df2['Effectiveness of care national comparison'])\n",
    "\n",
    "Qaulity_ownership_4=Merged_df2[['Hospital Ownership','Above the national average','Below the national average',\n",
    "                              'Not Available','Same as the national average']].groupby('Hospital Ownership').sum()\n",
    "\n",
    "Qaulity_ownership_4['Total_Ownership_category']=Qaulity_ownership_4[Qaulity_ownership_4.columns].sum(axis=1)\n",
    "# Effectiveness of care by Ownership type\n",
    "Qaulity_in_percent_4=Qaulity_ownership_4.iloc[:,0:-1].div(Qaulity_ownership_4.iloc[:,4], axis=0).round(2)*100\n",
    "# drop Tribal and display\n",
    "Qaulity_in_percent_4=Qaulity_in_percent_4.drop('Tribal',axis=0)\n",
    "Qaulity_in_percent_4['Same or Above National Average']=Qaulity_in_percent_4.iloc[:,0]+Qaulity_in_percent_4.iloc[:,3]\n",
    "Qaulity_in_percent_4"
   ]
  },
  {
   "cell_type": "code",
   "execution_count": null,
   "metadata": {},
   "outputs": [],
   "source": [
    "# readmission  by types of ownership\n",
    "Qaulity_in_percent_4[['Above the national average','Below the national average','Same as the national average']].plot(kind='bar')\n",
    "plt.ylabel(\"Effectiveness of Care in percentage\")\n",
    "plt.xlabel(\"Hospital Ownership Type\")\n",
    "plt.title(\"Effectiveness of Care national comparison By Hospital Ownership Type\")"
   ]
  },
  {
   "cell_type": "markdown",
   "metadata": {},
   "source": [
    "### State Government Hospitals have least readmission rate, followed by Federal Government Hospitals\n",
    "### Physicians services the highest readmission rate, followed by Voluntary non-profit - Church hospitals"
   ]
  },
  {
   "cell_type": "code",
   "execution_count": null,
   "metadata": {},
   "outputs": [],
   "source": [
    "# create dummy variables for ownership type\n",
    "Merged_df2[['Above the national average','Below the national average',\n",
    "            'Not Available','Same as the national average']]=pd.get_dummies(Merged_df2['Readmission national comparison'])\n",
    "\n",
    "Qaulity_ownership_3=Merged_df2[['Hospital Ownership','Above the national average','Below the national average',\n",
    "                              'Not Available','Same as the national average']].groupby('Hospital Ownership').sum()\n",
    "\n",
    "Qaulity_ownership_3['Total_Ownership_category']=Qaulity_ownership_3[Qaulity_ownership_3.columns].sum(axis=1)\n",
    "# Readmision by Ownership type\n",
    "Qaulity_in_percent_3=Qaulity_ownership_3.iloc[:,0:-1].div(Qaulity_ownership_3.iloc[:,4], axis=0).round(2)*100\n",
    "# drop Tribal and display\n",
    "Qaulity_in_percent_3=Qaulity_in_percent_3.drop('Tribal',axis=0)\n",
    "Qaulity_in_percent_3['Same or Below National Average']=Qaulity_in_percent_3.iloc[:,1]+Qaulity_in_percent_3.iloc[:,3]\n",
    "Qaulity_in_percent_3"
   ]
  },
  {
   "cell_type": "code",
   "execution_count": null,
   "metadata": {},
   "outputs": [],
   "source": [
    "# readmission  by types of ownership\n",
    "Qaulity_in_percent_3[['Above the national average','Below the national average','Same as the national average']].plot(kind='bar')\n",
    "plt.ylabel(\"Readmission national comparison in percentage\")\n",
    "plt.xlabel(\"Hospital Ownership Type\")\n",
    "plt.title(\"Readmission national comparison By Hospital Ownership Type\")"
   ]
  },
  {
   "cell_type": "markdown",
   "metadata": {},
   "source": [
    "### Propreitary Hospitals Tends to use Medical Imaging More than other categories(Less efficient) \n",
    "### Federal Government is least user of Medical Imaging(Most Efficient)"
   ]
  },
  {
   "cell_type": "code",
   "execution_count": null,
   "metadata": {},
   "outputs": [],
   "source": [
    "# create dummy variables for ownership type\n",
    "Merged_df2[['Above the national average','Below the national average',\n",
    "            'Not Available','Same as the national average']]=pd.get_dummies(Merged_df2['Efficient use of medical imaging national comparison'])\n",
    "\n",
    "Qaulity_ownership_2=Merged_df2[['Hospital Ownership','Above the national average','Below the national average',\n",
    "                              'Not Available','Same as the national average']].groupby('Hospital Ownership').sum()\n",
    "\n",
    "Qaulity_ownership_2['Total_Ownership_category']=Qaulity_ownership_2[Qaulity_ownership_2.columns].sum(axis=1)\n",
    "# Medical Imaging rating by Ownership type\n",
    "Qaulity_in_percent_2=Qaulity_ownership_2.iloc[:,0:-1].div(Qaulity_ownership_2.iloc[:,4], axis=0).round(2)*100\n",
    "# drop Tribal and display\n",
    "Qaulity_in_percent_2=Qaulity_in_percent_2.drop('Tribal',axis=0)\n",
    "Qaulity_in_percent_2"
   ]
  },
  {
   "cell_type": "code",
   "execution_count": null,
   "metadata": {},
   "outputs": [],
   "source": [
    "# Medical Imaging by types of ownership\n",
    "Qaulity_in_percent_2[['Above the national average','Below the national average','Same as the national average']].plot(kind='bar')\n",
    "plt.ylabel(\"Medical Imaging Efficieny in percentage\")\n",
    "plt.xlabel(\"Hospital Ownership Type\")\n",
    "plt.title(\"Efficiency of Medical Imaging By Hospital Ownership Type\")"
   ]
  },
  {
   "cell_type": "code",
   "execution_count": null,
   "metadata": {},
   "outputs": [],
   "source": [
    "# create dummy variables for ownership type\n",
    "Merged_df2[['Above the national average','Below the national average',\n",
    "            'Not Available','Same as the national average']]=pd.get_dummies(Merged_df2['Patient experience national comparison'])"
   ]
  },
  {
   "cell_type": "code",
   "execution_count": null,
   "metadata": {},
   "outputs": [],
   "source": [
    "Qaulity_ownership=Merged_df2[['Hospital Ownership','Above the national average','Below the national average',\n",
    "                              'Not Available','Same as the national average']].groupby('Hospital Ownership').sum()"
   ]
  },
  {
   "cell_type": "markdown",
   "metadata": {},
   "source": [
    "### The patient expreince by percentage  "
   ]
  },
  {
   "cell_type": "code",
   "execution_count": null,
   "metadata": {},
   "outputs": [],
   "source": [
    "Qaulity_ownership['Total_Ownership_category']=Qaulity_ownership[Qaulity_ownership.columns].sum(axis=1)\n",
    "# Patient Expreince rating by Ownership type\n",
    "Qaulity_in_percent=Qaulity_ownership.iloc[:,0:-1].div(Qaulity_ownership.iloc[:,4], axis=0).round(2)*100\n",
    "# drop Tribal and display\n",
    "Qaulity_in_percent=Qaulity_in_percent.drop('Tribal',axis=0)\n",
    "Qaulity_in_percent"
   ]
  },
  {
   "cell_type": "markdown",
   "metadata": {},
   "source": [
    "### Highest Level of Satisfactions of Patient with Physicians and State Hospitals \n",
    "### This may imply, it would make sense for the Federal government to give more discretion on healthcare investment and administration to States"
   ]
  },
  {
   "cell_type": "code",
   "execution_count": null,
   "metadata": {},
   "outputs": [],
   "source": [
    "# patient Experience by types of ownership\n",
    "Qaulity_in_percent[['Above the national average','Below the national average','Same as the national average']].plot(kind='bar')\n",
    "plt.ylabel(\"Patient Satisfaction in Percentage\")\n",
    "plt.title(\"Patient Satisfaction By Hospital Ownership Type\")"
   ]
  },
  {
   "cell_type": "markdown",
   "metadata": {},
   "source": [
    "### Implantable Cardioverter Defibrillator (ICD) Procedures is at the top of charges : median charge is about $116372.42\n",
    "### ICD is used to monitor and control heart in patients that had critical heart attacks \n",
    "### The next high charge was for Level6 ENT procedures(Ear ,Nose and Throat surgery)\n",
    "### Procedures related to comprehensive general obsevations, lower level electrophycological procedures , gynocology and urology are at bottom of charges. "
   ]
  },
  {
   "cell_type": "code",
   "execution_count": null,
   "metadata": {},
   "outputs": [],
   "source": [
    "# plot median charge by APC Procedures\n",
    "Merged_df2[['APC Description','Average Estimated Total Submitted Charges']]\\\n",
    ".groupby('APC Description').median().sort_values('Average Estimated Total Submitted Charges',ascending=False)\\\n",
    ".plot(kind='bar')"
   ]
  },
  {
   "cell_type": "markdown",
   "metadata": {},
   "source": [
    "###  map Hospital charge and Informations\n",
    "\n",
    "### - map all hospitals against overall median charges for outpatient charges in 2016\n",
    "       used choropleth for this.\n",
    "### - map for ICD procedures map using against ICD median charges\n",
    "### - map for comprehensive obseervation services"
   ]
  },
  {
   "cell_type": "code",
   "execution_count": null,
   "metadata": {},
   "outputs": [],
   "source": [
    "Merged_df2[['Average Estimated Total Submitted Charges']].median()"
   ]
  },
  {
   "cell_type": "code",
   "execution_count": null,
   "metadata": {},
   "outputs": [],
   "source": [
    "Merged_df2.columns"
   ]
  },
  {
   "cell_type": "code",
   "execution_count": null,
   "metadata": {},
   "outputs": [],
   "source": [
    "Counter(Merged_df2['APC Description'])"
   ]
  },
  {
   "cell_type": "code",
   "execution_count": null,
   "metadata": {},
   "outputs": [],
   "source": [
    "# filter Comprehensive Observation Services Procedures from the data\n",
    "Merged_df3=Merged_df2[Merged_df2['APC Description']=='Comprehensive Observation Services']\n",
    "# keep only columns wanted be popped up in the map and group by Provider Name and County, Lat  and Long and calculate median\n",
    "Merged_df3=Merged_df3[['State','Provider HRR','Hospital Ownership','Average Estimated Total Submitted Charges','Lat','Long']]\\\n",
    "        .groupby(['State','Provider HRR','Hospital Ownership','Lat','Long']).median()\\\n",
    "        .reset_index()"
   ]
  },
  {
   "cell_type": "code",
   "execution_count": null,
   "metadata": {},
   "outputs": [],
   "source": [
    "# find overall median charge for ICD and Similar Procedures\n",
    "median_chargeCompObs=Merged_df2[Merged_df2['APC Description']=='Comprehensive Observation Services']\\\n",
    "                                                              ['Average Estimated Total Submitted Charges'].median()\n",
    "median_chargeCompObs=pd.to_numeric(median_chargeCompObs)\n",
    "median_chargeCompObs=round(median_chargeCompObs,2)"
   ]
  },
  {
   "cell_type": "code",
   "execution_count": null,
   "metadata": {},
   "outputs": [],
   "source": [
    "115525.388519813"
   ]
  },
  {
   "cell_type": "code",
   "execution_count": null,
   "metadata": {},
   "outputs": [],
   "source": [
    "# Filter only Implantable Cardioverter Defibrillator (ICD) Procedures\n",
    "# It is used to monitor and control heart in patients that had critical heart attacks \n",
    "Merged_df4=Merged_df2[Merged_df2['APC Description']=='Level 2 ICD and Similar Procedures']\n",
    "\n",
    "# keep only columns wanted be popped up in the map and group by Provider Name and County, Lat  and Long and calculate median\n",
    "Merged_df4=Merged_df4[['State','Provider HRR','Hospital Ownership','Average Estimated Total Submitted Charges','Lat','Long']]\\\n",
    "        .groupby(['State','Provider HRR','Hospital Ownership','Lat','Long']).median()\\\n",
    "        .reset_index()"
   ]
  },
  {
   "cell_type": "code",
   "execution_count": null,
   "metadata": {},
   "outputs": [],
   "source": [
    "# find overall median charge for ICD and Similar Procedures\n",
    "median_chargeICD=Merged_df2[Merged_df2['APC Description']=='Level 2 ICD and Similar Procedures']['Average Estimated Total Submitted Charges'].median()\n",
    "median_chargeICD=pd.to_numeric(median_chargeICD)\n",
    "round(median_chargeICD,2)"
   ]
  },
  {
   "cell_type": "code",
   "execution_count": null,
   "metadata": {},
   "outputs": [],
   "source": [
    "Merged_df4.head()"
   ]
  },
  {
   "cell_type": "code",
   "execution_count": null,
   "metadata": {},
   "outputs": [],
   "source": [
    "### reassing Merged_df3 to mapCompObs_df and drop missing, and convert Lat and Long to numeric\n",
    "mapCompObs_df=Merged_df3\n",
    "mapCompObs_df=mapCompObs_df.dropna(axis=0)\n",
    "mapCompObs_df['Lat']=pd.to_numeric(mapCompObs_df.Lat)\n",
    "mapCompObs_df['Long']=pd.to_numeric(mapCompObs_df.Long)"
   ]
  },
  {
   "cell_type": "code",
   "execution_count": null,
   "metadata": {},
   "outputs": [],
   "source": [
    "### reassing Merged_df4 to Merged_df_map and drop missing, and convert Lat and Long to numeric\n",
    "Merged_df_map=Merged_df4\n",
    "Merged_df_map=Merged_df_map.dropna(axis=0)\n",
    "Merged_df_map['Lat']=pd.to_numeric(Merged_df_map.Lat)\n",
    "Merged_df_map['Long']=pd.to_numeric(Merged_df_map.Long)\n",
    "Merged_df_map['Average Estimated Total Submitted Charges']= Merged_df_map['Average Estimated Total Submitted Charges'].round(2)\n",
    "Merged_df_map.head()"
   ]
  },
  {
   "cell_type": "code",
   "execution_count": null,
   "metadata": {},
   "outputs": [],
   "source": [
    "import plotly\n",
    "import plotly.plotly as py\n",
    "import plotly.graph_objs as go\n",
    "\n",
    "plotly.tools.set_credentials_file(username='asidamo', api_key='mKLD0mhVoFbiAx3Z0qZW')"
   ]
  },
  {
   "cell_type": "code",
   "execution_count": null,
   "metadata": {},
   "outputs": [],
   "source": [
    "state_loc=pd.read_csv('data/statelatlong.csv')\n",
    "\n",
    "state_loc.shape"
   ]
  },
  {
   "cell_type": "code",
   "execution_count": null,
   "metadata": {},
   "outputs": [],
   "source": [
    "state_loc.head()"
   ]
  },
  {
   "cell_type": "code",
   "execution_count": null,
   "metadata": {},
   "outputs": [],
   "source": [
    "state_loc.columns=['State_abbr','Lat,','Long','State']"
   ]
  },
  {
   "cell_type": "code",
   "execution_count": null,
   "metadata": {},
   "outputs": [],
   "source": [
    "#group the data by State\n",
    "State_median= Merged_df2[['State','Average Estimated Total Submitted Charges']].groupby(['State']).mean()"
   ]
  },
  {
   "cell_type": "code",
   "execution_count": null,
   "metadata": {},
   "outputs": [],
   "source": [
    "Median_State_charge=pd.merge(State_median,state_loc,how='left',on='State')\n",
    "Median_State_charge.head()"
   ]
  },
  {
   "cell_type": "code",
   "execution_count": null,
   "metadata": {},
   "outputs": [],
   "source": [
    "df = Median_State_charge ## pd.read_csv('https://raw.githubusercontent.com/plotly/datasets/master/2011_us_ag_exports.csv')\n",
    "\n",
    "for col in df.columns:\n",
    "    df[col] = df[col].astype(str)\n",
    "\n",
    "scl = [[0.0, 'rgb(242,240,247)'],[0.2, 'rgb(218,218,235)'],[0.4, 'rgb(188,189,220)'],\\\n",
    "            [0.6, 'rgb(158,154,200)'],[0.8, 'rgb(117,107,177)'],[1.0, 'rgb(84,39,143)']]\n",
    "\n",
    "df['text'] = df['State'] \n",
    "\n",
    "data = [ dict(\n",
    "        type='choropleth',\n",
    "        colorscale = scl,\n",
    "        autocolorscale = False,\n",
    "        locations = df['State_abbr'],\n",
    "        z = df['Average Estimated Total Submitted Charges'].astype(float),\n",
    "        locationmode = 'USA-states',\n",
    "        text = df['text'],\n",
    "        marker = dict(\n",
    "            line = dict (\n",
    "                color = 'rgb(255,255,255)',\n",
    "                width = 2\n",
    "            )\n",
    "        ),\n",
    "        colorbar = dict(\n",
    "            title = \" Average Hospital Charge in USD\"\n",
    "        )\n",
    "    ) ]\n",
    "\n",
    "layout = dict(\n",
    "        title = 'Average Hospital Charge for Medicare Outpatient in 2016',\n",
    "        geo = dict(\n",
    "            scope='usa',\n",
    "            projection=dict( type='albers usa' ),\n",
    "            showlakes = True,\n",
    "            lakecolor = 'rgb(255, 255, 255)',\n",
    "        ),\n",
    "    )\n",
    "\n",
    "fig = dict(data=data, layout=layout)\n",
    "\n",
    "url = py.plot(fig, filename='d3-cloropleth-map')"
   ]
  },
  {
   "cell_type": "code",
   "execution_count": null,
   "metadata": {},
   "outputs": [],
   "source": [
    "   # Full derates to map\n",
    "map_df = Merged_df_map# Merged_df_map.State=='Tennessee']\n",
    "    #create our map of the world and show it\n",
    "map_world = folium.Map(location = [36.1627,-86.78], zoom_start = 5)\n",
    "\n",
    "# draw our plate boundaries: plate_bounds\n",
    "# folium.GeoJson(plate_bounds).add_to(map_world)\n",
    "\n",
    "#iterate through map_df to create locations and markers for each piece\n",
    "\n",
    "for row in map_df.iterrows():\n",
    "    row_values = row[1] \n",
    "    location = [row_values['Lat'], row_values['Long']]\n",
    "    popup ='Referral Region: ' + str(row_values['Provider HRR']) + '<br/>' + 'Ownership: ' + str(row_values['Hospital Ownership']) + '<br/>'+ 'APC Procedure: ' + 'Level2 ICD and Similar Procedures' + '<br/>'+'Median Hospital Charge: ' + str(row_values['Average Estimated Total Submitted Charges'])\n",
    "\n",
    "#marker = folium.Marker(location = location, popup = popup)\n",
    "#         marker = folium.Circle(location=location, popup=popup, radius=mag_radius, color='crimson', fill=False, fill_color='crimson').add_to(map_world)\n",
    "#         marker.add_to(map_world)\n",
    "\n",
    "    charge = row_values['Average Estimated Total Submitted Charges']\n",
    "    if charge >150000:\n",
    "        color = 'red'\n",
    "    elif charge > median_chargeICD:# median hospital charge for Implantable Cardioverter Defibrillator (ICD) is $116525\n",
    "\n",
    "        color = 'yellow'\n",
    "    else:\n",
    "        color = 'green'\n",
    "    marker = folium.Circle(location=location, popup=popup, radius=20000, color=color, fill=False, fill_color=color)# .add_to(map_world)\n",
    "    marker.add_to(map_world)\n",
    "\n",
    "# Show map\n",
    "map_world"
   ]
  },
  {
   "cell_type": "code",
   "execution_count": null,
   "metadata": {},
   "outputs": [],
   "source": [
    "#Merged_df_map[~Merged_df_map.Lat.str.contains(\"...\") == True]"
   ]
  },
  {
   "cell_type": "markdown",
   "metadata": {},
   "source": [
    "## Below functions helps us to map state by state"
   ]
  },
  {
   "cell_type": "code",
   "execution_count": null,
   "metadata": {},
   "outputs": [],
   "source": [
    "# create state list\n",
    "state_list=Merged_df_map['State'].unique().tolist()"
   ]
  },
  {
   "cell_type": "code",
   "execution_count": null,
   "metadata": {},
   "outputs": [],
   "source": [
    "def f(x):\n",
    "    \n",
    "    # Full derates to map\n",
    "    map_df = Merged_df_map[Merged_df_map.State==x]\n",
    "  \n",
    "    #create our map of the world and show it\n",
    "    map_world = folium.Map(location = [36.1627,-86.78], zoom_start = 5)\n",
    "\n",
    "    # draw our plate boundaries: plate_bounds\n",
    "    # folium.GeoJson(plate_bounds).add_to(map_world)\n",
    "        \n",
    "    for row in map_df.iterrows():\n",
    "        row_values = row[1] \n",
    "        location = [row_values['Lat'], row_values['Long']]\n",
    "        popup ='Referral Region: ' + str(row_values['Provider HRR']) + '<br/>' + 'Ownership: ' + str(row_values['Hospital Ownership']) + '<br/>'+ 'APC Procedure: ' + 'Level2 ICD and Similar Procedures' + '<br/>'+'Median Hospital Charge: ' + str(row_values['Average Estimated Total Submitted Charges'])\n",
    "    \n",
    "    #for row in map_df.iterrows():\n",
    "    #    row_values = row[1] \n",
    "    #    location = [row_values['Lat'], row_values['Long']]\n",
    "    #    popup ='State: ' + x + '<br/>' + 'APC Procedure: ' + 'Level 2 ICD and Similar Procedures' + '<br/>' +  'Median Hospital Charge: ' + str(row_values['Average Estimated Total Submitted Charges'])\n",
    "             \n",
    "        #marker = folium.Marker(location = location, popup = popup)\n",
    "    \n",
    "    #         marker = folium.Circle(location=location, popup=popup, radius=mag_radius, color='crimson', fill=False, fill_color='crimson').add_to(map_world)\n",
    "    #         marker.add_to(map_world)\n",
    "   \n",
    "        charge = row_values['Average Estimated Total Submitted Charges']\n",
    "        if charge >150000:\n",
    "            color = 'red'\n",
    "        elif charge > median_chargeICD:# median hospital charge for Implantable Cardioverter Defibrillator (ICD) is $115525.39\n",
    "            color = 'yellow'\n",
    "        else:\n",
    "            color = 'green'\n",
    "        marker = folium.Circle(location=location, popup=popup, radius=20000, color=color, fill=False, fill_color=color)# .add_to(map_world)\n",
    "        marker.add_to(map_world)\n",
    "\n",
    "   \n",
    "    return map_world"
   ]
  },
  {
   "cell_type": "code",
   "execution_count": null,
   "metadata": {},
   "outputs": [],
   "source": [
    "# this part interacts and filters only one State\n",
    "\n",
    "interact(f, x=state_list);"
   ]
  },
  {
   "cell_type": "code",
   "execution_count": null,
   "metadata": {},
   "outputs": [],
   "source": [
    "procedures=Merged_df2['APC Description'].unique().tolist()"
   ]
  },
  {
   "cell_type": "markdown",
   "metadata": {},
   "source": [
    "# this part interacts and filters only one State\n",
    "\n",
    "interact(f, x=state_list,y=procedures);"
   ]
  },
  {
   "cell_type": "code",
   "execution_count": null,
   "metadata": {},
   "outputs": [],
   "source": [
    "# replace level  and level numbers\n",
    "# replace text level with blank\n",
    "Merged_df2['ProcedureName']=Merged_df2['APC Description'].str.replace('Level','')\n",
    "\n",
    "# create a new column called level, to control the complexity of treatments\n",
    "Merged_df2['Level'] = Merged_df2['APC Description'].str.extract('(\\d)', expand=True)\n"
   ]
  },
  {
   "cell_type": "code",
   "execution_count": null,
   "metadata": {},
   "outputs": [],
   "source": [
    "# replace numbers with blank\n",
    "Merged_df2['ProcedureName']=Merged_df2['ProcedureName'].replace('\\d+','',regex=True)\n",
    "\n",
    "# check spaces and then we will trim them \n",
    "\n",
    "Merged_df2['ProcedureName'].unique()"
   ]
  },
  {
   "cell_type": "code",
   "execution_count": null,
   "metadata": {},
   "outputs": [],
   "source": [
    "# remove space at beginning from colum values using str.strip\n",
    "Merged_df2['ProcedureName']=Merged_df2['ProcedureName'].str.strip()\n",
    "Merged_df2['ProcedureName'].unique()"
   ]
  },
  {
   "cell_type": "code",
   "execution_count": null,
   "metadata": {},
   "outputs": [],
   "source": [
    "Merged_df2.info()"
   ]
  },
  {
   "cell_type": "code",
   "execution_count": null,
   "metadata": {},
   "outputs": [],
   "source": [
    "# convert level to nmeric data type\n",
    "Merged_df2['Level']=pd.to_numeric(Merged_df2.Level)"
   ]
  },
  {
   "cell_type": "code",
   "execution_count": null,
   "metadata": {},
   "outputs": [],
   "source": [
    "Merged_df2.Level.dtype"
   ]
  },
  {
   "cell_type": "markdown",
   "metadata": {},
   "source": [
    "### Nevada is at top in terms of  median hospital charge: median hospital charge $48532.31\n",
    "\n",
    "### Followed by Florida ,median charge ($46254.79)"
   ]
  },
  {
   "cell_type": "code",
   "execution_count": null,
   "metadata": {},
   "outputs": [],
   "source": [
    "# calculate median average charges by States\n",
    "Merged_df2[['State','Average Estimated Total Submitted Charges']]\\\n",
    ".groupby('State').median().sort_values('Average Estimated Total Submitted Charges',ascending=False).round(2).head(5)"
   ]
  },
  {
   "cell_type": "code",
   "execution_count": null,
   "metadata": {},
   "outputs": [],
   "source": [
    "# median Average charge by State\n",
    "Merged_df2[['State','Average Estimated Total Submitted Charges']]\\\n",
    ".groupby('State').median().sort_values('Average Estimated Total Submitted Charges',ascending=False).round(2).plot(kind='bar')\n",
    "plt.ylabel('Average Estimated Tot Charge in US $')\n",
    "plt.title('Median Average Estimated Tot Charges By States')"
   ]
  },
  {
   "cell_type": "code",
   "execution_count": null,
   "metadata": {},
   "outputs": [],
   "source": [
    "#plot number of services provided vs average hospital charge by provider\n",
    "Merged_df2.plot(x='Comprehensive APC Services',y='Average Estimated Total Submitted Charges',kind=\"scatter\")\n",
    "plt.xlabel('# of Comprehensive APC Services')"
   ]
  },
  {
   "cell_type": "code",
   "execution_count": null,
   "metadata": {},
   "outputs": [],
   "source": [
    "# remove space at beginning from colum values using regex\n",
    "#merged_df['ProcedureName']=merged_df['ProcedureName'].replace('^\\s+','',regex=True)\n",
    "#merged_df['ProcedureName'].unique()"
   ]
  },
  {
   "cell_type": "code",
   "execution_count": null,
   "metadata": {},
   "outputs": [],
   "source": [
    "# remove space at end from colum values\n",
    "#merged_df['ProcedureName']=merged_df['ProcedureName'].replace('\\s+$','',regex=True)\n",
    "#merged_df['ProcedureName'].unique()"
   ]
  },
  {
   "cell_type": "code",
   "execution_count": null,
   "metadata": {},
   "outputs": [],
   "source": [
    "# calculate the difference between the average estimated total sumbitted charges and \n",
    "#merged_df['submitted_allowed_diff']=(merged_df['Average Estimated Total Submitted Charges']-merged_df['Average Medicare Allowed Amount'])"
   ]
  },
  {
   "cell_type": "code",
   "execution_count": null,
   "metadata": {},
   "outputs": [],
   "source": [
    "#merged_df['submitted_allowed_diff'].sum()\n"
   ]
  },
  {
   "cell_type": "code",
   "execution_count": null,
   "metadata": {},
   "outputs": [],
   "source": [
    "# create Tennessee and FLorida\n",
    "#OutPatmedicarecharge_TN=merged_df[merged_df['Provider State'].str.contains('TN')]\n",
    "#OutPatmedicarecharge_FL=merged_df[merged_df['Provider State'].str.contains('FL')]\n",
    "\n",
    "# distribution\n",
    "#OutPatmedicarecharge_heartProc=OutPatmedicarecharge_TN[OutPatmedicarecharge_TN['APC Description']=='Level 3 Endovascular Procedures']\n",
    "#OutPatmedicarecharge_heartProc.iloc[:,12:15].plot(kind='box')\n",
    "#plt.title('Distribution of Outpatient Charges by Hospitals for Level 3 Endovascular Procedures in Tennessee')\n",
    "#plt.ylabel(\"amount in US $\")\n"
   ]
  },
  {
   "cell_type": "code",
   "execution_count": null,
   "metadata": {},
   "outputs": [],
   "source": [
    "# show distribution of charges by each APC procedures\n",
    "\n",
    "def f(x):\n",
    "    OutPatmedicarecharge_heartProc=Merged_df2[Merged_df2['APC Description']==x]\n",
    "    OutPatmedicarecharge_heartProc.iloc[:,11:14].plot(kind='box')\n",
    "    plot_proc=plt.title('Distribution of Outpatient Charges by Hospitals for Level 3 Endovascular Procedures in USA')\n",
    "    plt.ylabel(\"amount in US $\")\n",
    "    \n",
    "    return plot_proc"
   ]
  },
  {
   "cell_type": "code",
   "execution_count": null,
   "metadata": {},
   "outputs": [],
   "source": [
    "interact(f, x=procedures);"
   ]
  },
  {
   "cell_type": "code",
   "execution_count": null,
   "metadata": {},
   "outputs": [],
   "source": [
    "# show distribution of charges by each APC procedures\n",
    "\n",
    "def f(x,y):\n",
    "    OutPatmedicarecharge_heartProc=Merged_df2[(Merged_df2['State']==x) &(Merged_df2['APC Description']==y)]\n",
    "    OutPatmedicarecharge_heartProc.iloc[:,11:14].plot(kind='box')\n",
    "    plot_proc_by_state=plt.title('Distribution of Outpatient Charges by State and Procedure Type')\n",
    "    plt.ylabel(\"amount in US $\")\n",
    "    \n",
    "    return plot_proc_by_state"
   ]
  },
  {
   "cell_type": "code",
   "execution_count": null,
   "metadata": {},
   "outputs": [],
   "source": [
    "interact(f,x=state_list, y=procedures);"
   ]
  },
  {
   "cell_type": "code",
   "execution_count": null,
   "metadata": {},
   "outputs": [],
   "source": [
    "# plot by Providers Name\n",
    "def f(x):\n",
    "    Merged_df_Provider=Merged_df2[Merged_df2['State']==x].reset_index()\n",
    "    Merged_df_Provider=Merged_df_Provider[['State','Provider Name','Average Estimated Total Submitted Charges']].groupby(['Provider Name','State']).median().sort_values('Average Estimated Total Submitted Charges',ascending=False)\n",
    "    Merged_df_Provider=Merged_df_Provider.head(20).reset_index()\n",
    "    plot_provider=plt.bar(x=Merged_df_Provider['Provider Name'],height= Merged_df_Provider['Average Estimated Total Submitted Charges'])\n",
    "    plt.xticks(rotation='vertical')\n",
    "\n",
    "    return plot_provider"
   ]
  },
  {
   "cell_type": "code",
   "execution_count": null,
   "metadata": {},
   "outputs": [],
   "source": [
    "interact(f,x=state_list);"
   ]
  },
  {
   "cell_type": "code",
   "execution_count": null,
   "metadata": {},
   "outputs": [],
   "source": [
    "Merged_df2.columns"
   ]
  },
  {
   "cell_type": "markdown",
   "metadata": {},
   "source": [
    "# plot charges by Providers and Procedures\n",
    "def f(x):\n",
    "    Merged_df_Provider=Merged_df2[Merged_df2['State']==x]\n",
    "    Merged_df_Provider_1=Merged_df_Provider[['State','ProcedureName','Average Estimated Total Submitted Charges']]\\\n",
    "                         .groupby(['State','ProcedureName']).median().sort_values('Average Estimated Total Submitted Charges',ascending=False)\\\n",
    "                         .reset_index()\n",
    "            \n",
    "    plot_provider=plt.bar(x=Merged_df_Provider_1['ProcedureName'],height= Merged_df_Provider_1['Average Estimated Total Submitted Charges'])\n",
    "    plt.xticks(rotation='vertical')\n",
    "    \n",
    "    return plot_provider\n",
    "    "
   ]
  },
  {
   "cell_type": "markdown",
   "metadata": {},
   "source": [
    "interact(f,x=state_list);"
   ]
  },
  {
   "cell_type": "code",
   "execution_count": null,
   "metadata": {},
   "outputs": [],
   "source": [
    "# plot charges by category of procedurs \n",
    "OutPatmedcharge_Proc=Merged_df2[['Provider State','ProcedureName','Average Estimated Total Submitted Charges',\n",
    "       'Average Medicare Allowed Amount', 'Average Medicare Payment Amount']]\n",
    "OutPatmedcharge_byProcedure=OutPatmedcharge_Proc.groupby('ProcedureName').median().sort_values('Average Estimated Total Submitted Charges', ascending=False)\n",
    "OutPatmedcharge_byProcedure.head(10)\n",
    "\n",
    "OutPatmedcharge_byProcedure.plot(kind='bar')\n",
    "plt.title('Charges by Type of Procedures')\n",
    "plt.xlabel('Procedure Type')\n",
    "plt.ylabel('amount in US $')"
   ]
  },
  {
   "cell_type": "markdown",
   "metadata": {},
   "source": [
    "### In Most States the charge is distributed per complexity of the procedures\n",
    "### comperhensive observation lies at the bottom and ICD lies at the top"
   ]
  },
  {
   "cell_type": "code",
   "execution_count": null,
   "metadata": {},
   "outputs": [],
   "source": [
    "def f(x):\n",
    "    # plot charges by category of procedurs \n",
    "    OutPatmedcharge_Proc=Merged_df2[['State','ProcedureName','Average Estimated Total Submitted Charges',\n",
    "           'Average Medicare Allowed Amount', 'Average Medicare Payment Amount']]\n",
    "    # filter state\n",
    "    OutPatmedcharge_Proc=OutPatmedcharge_Proc[OutPatmedcharge_Proc.State==x]\n",
    "    # sort ascending order by charge amount\n",
    "    OutPatmedcharge_byProcedure=OutPatmedcharge_Proc.groupby('ProcedureName').median()\\\n",
    "                               .sort_values('Average Estimated Total Submitted Charges', ascending=False)\n",
    "   \n",
    "\n",
    "    plot_proc=OutPatmedcharge_byProcedure.plot(kind='bar')\n",
    "    plt.title('Charges by Type of Procedures')\n",
    "    plt.xlabel('Procedure Type')\n",
    "    plt.ylabel('amount in US $')\n",
    "\n",
    "    return plot_proc\n"
   ]
  },
  {
   "cell_type": "code",
   "execution_count": null,
   "metadata": {},
   "outputs": [],
   "source": [
    "interact(f,x=state_list);"
   ]
  },
  {
   "cell_type": "code",
   "execution_count": null,
   "metadata": {},
   "outputs": [],
   "source": [
    "OutPatmedicarecharge['APC Description'].unique()"
   ]
  },
  {
   "cell_type": "code",
   "execution_count": null,
   "metadata": {},
   "outputs": [],
   "source": [
    "# Median differences in submitted and allowed charges by states\n",
    "#OutPatmedicarecharge[['Provider State' ,'submitted_allowed_diff']].groupby('Provider State').median().sort_values('submitted_allowed_diff',ascending=False)"
   ]
  },
  {
   "cell_type": "code",
   "execution_count": null,
   "metadata": {},
   "outputs": [],
   "source": [
    "# total differences in submitted and allowed charges by APC categories\n",
    "#(OutPatmedicarecharge[['APC Description' ,'submitted_allowed_diff']].groupby('APC Description').sum()/1000000).sort_values('submitted_allowed_diff',ascending=False)"
   ]
  },
  {
   "cell_type": "code",
   "execution_count": null,
   "metadata": {},
   "outputs": [],
   "source": [
    "#OutPatmedicarecharge[['Provider City' ,'submitted_allowed_diff']].groupby('Provider City').sum().sort_values('submitted_allowed_diff',ascending=False)"
   ]
  },
  {
   "cell_type": "code",
   "execution_count": null,
   "metadata": {},
   "outputs": [],
   "source": [
    "# inpatPatmedicarecharge=pd.read_csv('data/State_Summary_of_Inpatient_Charge_Data_by_Medicare_Severity_Diagnosis_Related_Group__MS-DRG___FY2015.csv')"
   ]
  },
  {
   "cell_type": "code",
   "execution_count": null,
   "metadata": {},
   "outputs": [],
   "source": [
    "#inpatPatmedicarecharge.info()"
   ]
  },
  {
   "cell_type": "code",
   "execution_count": null,
   "metadata": {},
   "outputs": [],
   "source": [
    "### compare mean variation in medicare payments and hospital charges by State \n",
    "### compare mean variation in medicare payments and hospital charges by State and DRG"
   ]
  },
  {
   "cell_type": "markdown",
   "metadata": {},
   "source": [
    "## import county health ranking data "
   ]
  },
  {
   "cell_type": "code",
   "execution_count": null,
   "metadata": {},
   "outputs": [],
   "source": [
    "# import county health ranking data \n",
    "\n",
    "countyhealthrank_df=pd.read_excel('data/2016 County Health Rankings Data - v3.xls',sheet_name='Additional Measure Data', index_col=0,skiprows=1)"
   ]
  },
  {
   "cell_type": "code",
   "execution_count": null,
   "metadata": {},
   "outputs": [],
   "source": [
    "countyhealthrank_df.columns"
   ]
  },
  {
   "cell_type": "markdown",
   "metadata": {},
   "source": [
    "### my variables= ['State','County','Age-Adjusted Mortality','% 65 and over','Child Mortality Rate','% African American', '% Non-Hispanic White','Household Income','Other PCP Rate','% Uninsured','# Motor Vehicle Deaths','# Drug Overdose Deaths','Drug Overdose Mortality Rate','MV Mortality Rate','% Limited Access','% Diabetic','% Frequent Mental Distress']\n"
   ]
  },
  {
   "cell_type": "code",
   "execution_count": null,
   "metadata": {},
   "outputs": [],
   "source": [
    "# keep only needed columns\n",
    "healthranking_df=countyhealthrank_df[['State','County','Age-Adjusted Mortality','% 65 and over',\n",
    "                                      'Child Mortality Rate','% African American', '% Non-Hispanic White',\n",
    "                                      'Household Income','Other PCP Rate','% Uninsured adults','% Uninsured children',\n",
    "                                      '# Motor Vehicle Deaths','# Drug Overdose Deaths','Drug Overdose Mortality Rate',\n",
    "                                      'MV Mortality Rate','% Limited Access to Healthy Foods','% Diabetic',\n",
    "                                      '% Frequent Mental Distress','% Rural']].reset_index()"
   ]
  },
  {
   "cell_type": "code",
   "execution_count": null,
   "metadata": {},
   "outputs": [],
   "source": [
    "healthranking_df.columns"
   ]
  },
  {
   "cell_type": "code",
   "execution_count": null,
   "metadata": {},
   "outputs": [],
   "source": [
    "healthranking_df.head()"
   ]
  },
  {
   "cell_type": "code",
   "execution_count": null,
   "metadata": {},
   "outputs": [],
   "source": [
    "# capitalize County to match with hospital charge data, str(x) will convert the State column to string.\n",
    "# without doing that in this particular data I got this error \"AttributeError: 'float' object has no attribute 'upper\"\n",
    "healthranking_df['County']=healthranking_df.County.apply(lambda x: str(x).upper())"
   ]
  },
  {
   "cell_type": "code",
   "execution_count": null,
   "metadata": {},
   "outputs": [],
   "source": [
    "# group by State and County \n",
    "hospitalCharge=Merged_df2[['State','County','Comprehensive APC Services','Average Estimated Total Submitted Charges']]\\\n",
    "                   .groupby(['State','County']).mean().reset_index()"
   ]
  },
  {
   "cell_type": "code",
   "execution_count": null,
   "metadata": {},
   "outputs": [],
   "source": [
    "hospitalCharge.head()"
   ]
  },
  {
   "cell_type": "code",
   "execution_count": null,
   "metadata": {},
   "outputs": [],
   "source": [
    "# strip  county column\n",
    "hospitalCharge['County']=hospitalCharge.County.str.strip()"
   ]
  },
  {
   "cell_type": "code",
   "execution_count": null,
   "metadata": {},
   "outputs": [],
   "source": [
    "combined_df=pd.merge(hospitalCharge,healthranking_df,how='left',on=['State','County'])\n",
    "combined_df.head()"
   ]
  },
  {
   "cell_type": "code",
   "execution_count": null,
   "metadata": {},
   "outputs": [],
   "source": [
    "combined_df.shape"
   ]
  },
  {
   "cell_type": "code",
   "execution_count": null,
   "metadata": {},
   "outputs": [],
   "source": [
    "# plot relationship between rural  % of communities and hospital charges"
   ]
  },
  {
   "cell_type": "code",
   "execution_count": null,
   "metadata": {},
   "outputs": [],
   "source": [
    "plt.scatter(combined_df['% Rural'],combined_df['Average Estimated Total Submitted Charges'])\n",
    "plt.title('Relationship between Hospital Charges and Percentage of Rural Communities in a County')\n",
    "plt.ylabel('hospital charges in US $')\n",
    "plt.xlabel('percentage of Rural communities')"
   ]
  },
  {
   "cell_type": "code",
   "execution_count": null,
   "metadata": {},
   "outputs": [],
   "source": [
    "plt.scatter(combined_df['% 65 and over'],combined_df['Average Estimated Total Submitted Charges'])\n",
    "plt.title('Relationship between Hospital Charges and Percentage of Over 65 Population')\n",
    "plt.ylabel('hospital charges in US $')\n",
    "plt.xlabel('percentage of Over 65 Population')"
   ]
  },
  {
   "cell_type": "code",
   "execution_count": null,
   "metadata": {},
   "outputs": [],
   "source": [
    "plt.scatter(combined_df['Other PCP Rate'],combined_df['Average Estimated Total Submitted Charges'])\n",
    "plt.title('Relationship between Hospital Charges and Other PCP Rate')\n",
    "plt.ylabel('hospital charges in US $')\n",
    "plt.xlabel('Other PCP Rate')"
   ]
  },
  {
   "cell_type": "code",
   "execution_count": null,
   "metadata": {},
   "outputs": [],
   "source": [
    "from sklearn.cluster import KMeans\n",
    "X=combined_df[['Average Estimated Total Submitted Charges']]\n",
    "Kmean = KMeans(n_clusters=4)\n",
    "Kmean.fit(X)"
   ]
  },
  {
   "cell_type": "code",
   "execution_count": null,
   "metadata": {},
   "outputs": [],
   "source": [
    "Kmean.cluster_centers_"
   ]
  },
  {
   "cell_type": "code",
   "execution_count": null,
   "metadata": {},
   "outputs": [],
   "source": [
    "plt.scatter(combined_df['% Uninsured adults'],combined_df['Average Estimated Total Submitted Charges'])\n",
    "plt.title('Relationship between Hospital Charges and Percentage of Uninsured adults')\n",
    "plt.ylabel('hospital charges in US $')\n",
    "plt.xlabel('percentage of Uninsured adults')"
   ]
  },
  {
   "cell_type": "code",
   "execution_count": null,
   "metadata": {},
   "outputs": [],
   "source": [
    "plt.scatter(combined_df['% Limited Access to Healthy Foods'],combined_df['Average Estimated Total Submitted Charges'])\n",
    "plt.title('Relationship between Hospital Charges and Percentage of Limited Access to Healthy Foods')\n",
    "plt.ylabel('hospital charges in US $')\n",
    "plt.xlabel('% of Population With Limited Access to Healthy Foods')"
   ]
  },
  {
   "cell_type": "code",
   "execution_count": null,
   "metadata": {},
   "outputs": [],
   "source": [
    "#salary=pd.read_excel(\"data/state_M2016_dl.xlsx\")\n",
    "\n",
    "#salary.head()"
   ]
  },
  {
   "cell_type": "code",
   "execution_count": null,
   "metadata": {},
   "outputs": [],
   "source": [
    "#salary=salary[salary.OCC_TITLE=='Physicians and Surgeons, All Other']\n",
    "#salary=salary[['STATE','OCC_TITLE','A_MEAN']]\n",
    "#salary.columns=['State','OCC_TITLE','AveYearlySalary']\n",
    "#salary.sort_values('AveYearlySalary',ascending=False).plot(kind='bar',x='State',y='AveYearlySalary')"
   ]
  },
  {
   "cell_type": "code",
   "execution_count": null,
   "metadata": {},
   "outputs": [],
   "source": [
    "# merge salary data\n",
    "#combined_data=pd.merge(combined_df,salary, how='left',on='State')\n",
    "#combined_data.columns"
   ]
  },
  {
   "cell_type": "code",
   "execution_count": null,
   "metadata": {},
   "outputs": [],
   "source": [
    "# import linear regression model\n",
    "import scipy.stats as stats\n",
    "import sklearn\n",
    "from sklearn.model_selection import train_test_split\n",
    "from sklearn import preprocessing  # helps for reshaping X and y\n",
    "from sklearn.linear_model import LinearRegression\n",
    "from sklearn import linear_model\n",
    "from sklearn.metrics import mean_squared_error, r2_score\n",
    "import statsmodels.api as sm\n",
    "from scipy import stats\n"
   ]
  },
  {
   "cell_type": "markdown",
   "metadata": {},
   "source": [
    "### Use Lassso Regression it will filters out less important variables"
   ]
  },
  {
   "cell_type": "code",
   "execution_count": null,
   "metadata": {},
   "outputs": [],
   "source": [
    "combined_df=combined_df.dropna(axis=0)"
   ]
  },
  {
   "cell_type": "code",
   "execution_count": null,
   "metadata": {},
   "outputs": [],
   "source": [
    "# shape of the data after dropping na horizontally \n",
    "combined_df.shape"
   ]
  },
  {
   "cell_type": "code",
   "execution_count": null,
   "metadata": {},
   "outputs": [],
   "source": [
    "# convert Other PCP rate to numeric\n",
    "combined_df['Other PCP Rate']=pd.to_numeric(combined_df['Other PCP Rate'])\n",
    "# print data info\n",
    "combined_df.info()"
   ]
  },
  {
   "cell_type": "code",
   "execution_count": null,
   "metadata": {},
   "outputs": [],
   "source": [
    "# drop FIPS\n",
    "combined_df=combined_df.drop(['FIPS'],axis=1)"
   ]
  },
  {
   "cell_type": "code",
   "execution_count": null,
   "metadata": {},
   "outputs": [],
   "source": [
    "combined_df['Comprehensive APC Services']=combined_df['Comprehensive APC Services']"
   ]
  },
  {
   "cell_type": "code",
   "execution_count": null,
   "metadata": {},
   "outputs": [],
   "source": [
    "combined_df.columns"
   ]
  },
  {
   "cell_type": "code",
   "execution_count": null,
   "metadata": {},
   "outputs": [],
   "source": [
    "# re-order the data frame so that hospital charge comes on 3rd column\n",
    "combined_df=combined_df[['State', 'County',\n",
    "       'Average Estimated Total Submitted Charges','Comprehensive APC Services',\n",
    "       '% 65 and over', '% African American',\n",
    "       '% Non-Hispanic White', 'Household Income', 'Other PCP Rate',\n",
    "       '% Uninsured adults', '% Uninsured children', '# Motor Vehicle Deaths',\n",
    "       '# Drug Overdose Deaths', 'Drug Overdose Mortality Rate','% Limited Access to Healthy Foods', '% Diabetic','% Rural','Age-Adjusted Mortality','Child Mortality Rate','MV Mortality Rate','% Frequent Mental Distress']]"
   ]
  },
  {
   "cell_type": "code",
   "execution_count": null,
   "metadata": {},
   "outputs": [],
   "source": [
    "combined_df.head()"
   ]
  },
  {
   "cell_type": "code",
   "execution_count": null,
   "metadata": {},
   "outputs": [],
   "source": [
    "combined_df.shape"
   ]
  },
  {
   "cell_type": "code",
   "execution_count": null,
   "metadata": {},
   "outputs": [],
   "source": [
    "# plot correlation between variables\n",
    "combined_corr_df=combined_df.iloc[:,2:21]\n",
    "sns.set(rc={'figure.figsize':(11.7,8.27)})\n",
    "sns.heatmap(combined_corr_df.corr(),cmap='coolwarm',annot=True);"
   ]
  },
  {
   "cell_type": "code",
   "execution_count": null,
   "metadata": {},
   "outputs": [],
   "source": [
    "# drop mortality rates and '% Frequent Mental Distress data because they have strong correlation with other variables\n",
    "combined_df=combined_df.drop(['Age-Adjusted Mortality','Child Mortality Rate','MV Mortality Rate','% Frequent Mental Distress'],axis=1)\n"
   ]
  },
  {
   "cell_type": "markdown",
   "metadata": {},
   "source": [
    "combined_corr_df=combined_df.iloc[:,2:21]\n",
    "corr = combined_corr_df.corr()\n",
    "fig = plt.figure()\n",
    "ax = fig.add_subplot(111)\n",
    "cax = ax.matshow(corr,cmap='coolwarm',vmin=-1, vmax=1)\n",
    "fig.colorbar(cax)\n",
    "ticks = np.arange(0,len(combined_corr_df.columns),1)\n",
    "ax.set_xticks(ticks)\n",
    "plt.xticks(rotation=90)\n",
    "ax.set_yticks(ticks)\n",
    "ax.set_xticklabels(combined_corr_df.columns)\n",
    "ax.set_yticklabels(combined_corr_df.columns)\n",
    "plt.show()\n"
   ]
  },
  {
   "cell_type": "code",
   "execution_count": null,
   "metadata": {},
   "outputs": [],
   "source": [
    "# plot correlation between variables after dropping strongly correlated variables\n",
    "combined_corr_df=combined_df.iloc[:,2:21]\n",
    "sns.set(rc={'figure.figsize':(11.7,8.27)})\n",
    "sns.heatmap(combined_corr_df.corr(),cmap='coolwarm',annot=False);"
   ]
  },
  {
   "cell_type": "code",
   "execution_count": null,
   "metadata": {},
   "outputs": [],
   "source": [
    "# define X and y variables\n",
    "y=combined_df.iloc[:,2]\n",
    "#X=combined_df.iloc[:,3:21]\n",
    "# \n",
    "#X=combined_df.iloc[:,-1]abs\n",
    "X=combined_df[['% Uninsured adults','% Rural','% 65 and over']]\n"
   ]
  },
  {
   "cell_type": "code",
   "execution_count": null,
   "metadata": {},
   "outputs": [],
   "source": [
    "y.head()"
   ]
  },
  {
   "cell_type": "code",
   "execution_count": null,
   "metadata": {},
   "outputs": [],
   "source": [
    "X.head()"
   ]
  },
  {
   "cell_type": "code",
   "execution_count": null,
   "metadata": {},
   "outputs": [],
   "source": [
    "# reshape it becuase it is only one feature\n",
    "#X=X.values.reshape(-1,1)"
   ]
  },
  {
   "cell_type": "markdown",
   "metadata": {},
   "source": [
    "#X=combined_df[['% 65 and over','Child Mortality Rate',\n",
    "       '% African American','Household Income',\n",
    "       'Other PCP Rate', '% Uninsured adults', '% Uninsured children',\n",
    "       '# Motor Vehicle Deaths', '# Drug Overdose Deaths',\n",
    "       'Drug Overdose Mortality Rate', 'MV Mortality Rate',\n",
    "       '% Limited Access to Healthy Foods', '% Diabetic',\n",
    "       '% Frequent Mental Distress']]"
   ]
  },
  {
   "cell_type": "code",
   "execution_count": null,
   "metadata": {},
   "outputs": [],
   "source": [
    "# split the data into train and test, 33% test\n",
    "X_train, X_test, y_train, y_test = train_test_split(X, y, test_size=0.33, random_state=42)\n"
   ]
  },
  {
   "cell_type": "markdown",
   "metadata": {},
   "source": [
    "# define lasso model\n",
    "\n",
    "clf = linear_model.Lasso(alpha=0.1) \n",
    "# fit and predict with lasso model\n",
    "clf.fit(X_train,y_train)\n",
    "train_score=clf.score(X_train,y_train)\n",
    "test_score=clf.score(X_test,y_test)\n",
    "coeff_used = np.sum(clf.coef_!=0)\n",
    "\n",
    "# print scores\n",
    "print(\"training score:\", train_score) \n",
    "print(\"test score: \", test_score)\n",
    "print(\"number of features used: \", coeff_used)\n",
    "\n",
    "print(clf.coef_)"
   ]
  },
  {
   "cell_type": "code",
   "execution_count": null,
   "metadata": {},
   "outputs": [],
   "source": [
    "# define the model\n",
    "lmodel=LinearRegression()\n",
    "lmodel.fit(X_train,y_train)\n",
    "# predict the model\n",
    "y_pred=lmodel.predict(X_test)\n"
   ]
  },
  {
   "cell_type": "code",
   "execution_count": null,
   "metadata": {},
   "outputs": [],
   "source": [
    "print('R score: %.2f' % r2_score(y_test, y_pred))\n",
    "print ('Mean Square Error:%.2f' % mean_squared_error(y_test,y_pred))"
   ]
  },
  {
   "cell_type": "code",
   "execution_count": null,
   "metadata": {},
   "outputs": [],
   "source": [
    "lmodel.coef_"
   ]
  },
  {
   "cell_type": "markdown",
   "metadata": {},
   "source": [
    "### Counties with more  % of Uninsured population are positively  related with hospital charges \n",
    " #### i.e. Hospitals are shifting costs\n",
    "### 1 % increase in % of uninsured increases  charge increses hospital charges by $642.0305\n",
    "\n",
    "\n",
    "### 1% increase in proportion of Rural communities in the counties decreases hospital charges by $433.7657"
   ]
  },
  {
   "cell_type": "code",
   "execution_count": null,
   "metadata": {},
   "outputs": [],
   "source": [
    "X2 = sm.add_constant(X)\n",
    "est = sm.OLS(y, X2)\n",
    "est2 = est.fit()\n",
    "print(est2.summary())"
   ]
  },
  {
   "cell_type": "code",
   "execution_count": null,
   "metadata": {},
   "outputs": [],
   "source": [
    "# tried  OLS model  selected variables by county level\n",
    "\n",
    "# define y\n",
    "# define X and y variables\n",
    "y=combined_df.iloc[:,2]\n",
    "\n",
    "X=  combined_df[['% 65 and over','% Non-Hispanic White', 'Household Income',\n",
    "       '% Uninsured adults', '% Uninsured children', '# Motor Vehicle Deaths','# Drug Overdose Deaths', '% Limited Access to Healthy Foods', '% Diabetic','Other PCP Rate','% Rural']]"
   ]
  },
  {
   "cell_type": "code",
   "execution_count": null,
   "metadata": {},
   "outputs": [],
   "source": [
    "X.shape"
   ]
  },
  {
   "cell_type": "code",
   "execution_count": null,
   "metadata": {},
   "outputs": [],
   "source": [
    "# import lasso\n",
    "from sklearn.linear_model import Lasso"
   ]
  },
  {
   "cell_type": "code",
   "execution_count": null,
   "metadata": {},
   "outputs": [],
   "source": [
    "# split the data into train and test\n",
    "X_train, X_test, y_train, y_test = train_test_split(X, y, test_size=0.33, random_state=42)"
   ]
  },
  {
   "cell_type": "markdown",
   "metadata": {},
   "source": [
    "### Lasso model penalizes large coeffient variables, and removes irrelevant variables by making the coefficient zero.\n",
    "### However, in this case the model didn't droop any variable"
   ]
  },
  {
   "cell_type": "code",
   "execution_count": null,
   "metadata": {},
   "outputs": [],
   "source": [
    "\n",
    "clf = linear_model.Lasso(alpha=1, normalize=True) \n",
    "# fit and predict with lasso model\n",
    "clf.fit(X_train,y_train)\n",
    "train_score=clf.score(X_train,y_train)\n",
    "test_score=clf.score(X_test,y_test)\n",
    "coeff_used = np.sum(clf.coef_!=0)\n",
    "\n",
    "# print scores\n",
    "print(\"training score:\", train_score) \n",
    "print(\"test score: \", test_score)\n",
    "print(\"number of features used: \", coeff_used)\n",
    "\n",
    "print(clf.coef_)\n",
    "\n"
   ]
  },
  {
   "cell_type": "markdown",
   "metadata": {},
   "source": [
    "#### % of % of elrderly population, % of uninsured(both adults and children),\n",
    "#### % of diabetic population, have positive relation with hospitals charge\n",
    "\n",
    "#### Household Income, Motor Vehicle Deaths, Other to Primary Care Physucains ratio  have very small positive relation with hospital charges."
   ]
  },
  {
   "cell_type": "code",
   "execution_count": null,
   "metadata": {},
   "outputs": [],
   "source": [
    "# plot lasso coeficients\n",
    "lasso_coef=clf.fit(X,y).coef_\n",
    "plt.plot(range(len(X.columns)),lasso_coef)\n",
    "plt.xticks(range(len(X.columns)),X.columns,rotation=60)\n",
    "plt.show()"
   ]
  },
  {
   "cell_type": "code",
   "execution_count": null,
   "metadata": {},
   "outputs": [],
   "source": [
    "# define the model\n",
    "lmodel_st=LinearRegression()\n",
    "lmodel_st.fit(X_train,y_train)\n",
    "# predict the model\n",
    "y_pred=lmodel_st.predict(X_test)\n",
    "print('R score: %.2f' % r2_score(y_test, y_pred))\n",
    "print ('Mean Square Error:%.2f' % mean_squared_error(y_test,y_pred))\n",
    "lmodel_st.coef_"
   ]
  },
  {
   "cell_type": "markdown",
   "metadata": {},
   "source": [
    "### - Limited access to healthy food is highly associated particularly with  those living in low-income neighborhoods,communities of color, and rural areas\n",
    "### - This could be a possible explanation why it has negative effect on hospital charges. \n",
    "### - Low R-squared score  and very large constant term imply that hospital charge may not be determined by competition in the market rather it is influenced by the hospitals charge master which is mainly administrative decision. "
   ]
  },
  {
   "cell_type": "code",
   "execution_count": null,
   "metadata": {},
   "outputs": [],
   "source": [
    "X2 = sm.add_constant(X)\n",
    "est = sm.OLS(y, X2)\n",
    "est2 = est.fit()\n",
    "print(est2.summary())"
   ]
  },
  {
   "cell_type": "code",
   "execution_count": null,
   "metadata": {},
   "outputs": [],
   "source": [
    "combined_df[combined_df['% Rural']>60.00].shape"
   ]
  },
  {
   "cell_type": "code",
   "execution_count": null,
   "metadata": {},
   "outputs": [],
   "source": [
    "# group the data by state\n",
    "combined_State_df=combined_df.drop('County',axis=1).groupby('State').mean()\n",
    "combined_State_df.head()\n"
   ]
  },
  {
   "cell_type": "code",
   "execution_count": null,
   "metadata": {},
   "outputs": [],
   "source": [
    "# save file to csv\n",
    "#state_median_charge.to_csv('data/state_median_charge.csv',index=False)"
   ]
  },
  {
   "cell_type": "markdown",
   "metadata": {},
   "source": [
    "### Import 2014 and 2015 data"
   ]
  },
  {
   "cell_type": "code",
   "execution_count": null,
   "metadata": {},
   "outputs": [],
   "source": [
    "outpatientcharge2014=pd.read_csv('data/Outpatient_Prospective_Payment_System__OPPS__Provider_Summary_for_32_Selected_Ambulatory_Payment_Classification__APC__Groups_-_CY2014.csv')\n",
    "outpatientcharge2014.head()"
   ]
  },
  {
   "cell_type": "code",
   "execution_count": null,
   "metadata": {},
   "outputs": [],
   "source": [
    "outpatientcharge2015=pd.read_csv('data/Provider_Outpatient_Hospital_Charge_Data_by_APC__CY2015.csv')\n",
    "outpatientcharge2015.head()"
   ]
  },
  {
   "cell_type": "code",
   "execution_count": null,
   "metadata": {},
   "outputs": [],
   "source": [
    "# 2015 State level median hospital charges\n",
    "state_median_charge2015=outpatientcharge2015[['Provider State','Average Estimated Total Submitted Charges']].groupby('Provider State').median()\n",
    "# reset index\n",
    "state_median_charge2015=state_median_charge2015.reset_index()"
   ]
  },
  {
   "cell_type": "code",
   "execution_count": null,
   "metadata": {},
   "outputs": [],
   "source": [
    "state_median_charge2015=pd.merge(state_df,state_median_charge2015, how='inner', on='Provider State')\n",
    "state_median_charge2015.head()"
   ]
  },
  {
   "cell_type": "code",
   "execution_count": null,
   "metadata": {},
   "outputs": [],
   "source": [
    "stateMedianCharge2015=state_median_charge2015.drop('Provider State',axis=1)"
   ]
  },
  {
   "cell_type": "code",
   "execution_count": null,
   "metadata": {},
   "outputs": [],
   "source": [
    "stateMedianCharge2015.to_csv('data/state_median_charge2015.csv',index=False)"
   ]
  },
  {
   "cell_type": "code",
   "execution_count": null,
   "metadata": {},
   "outputs": [],
   "source": [
    "outpatientcharge2013=pd.read_csv('data/Medicare_Provider_Charge_Outpatient_APC30_CY2013_v2.csv')\n",
    "outpatientcharge2013.head()"
   ]
  },
  {
   "cell_type": "code",
   "execution_count": null,
   "metadata": {},
   "outputs": [],
   "source": [
    "oupatientcharge2012=pd.read_csv('data/Medicare_Provider_Charge_Outpatient_APC30_CY2012.csv')\n",
    "\n",
    "oupatientcharge2012.head()"
   ]
  },
  {
   "cell_type": "code",
   "execution_count": null,
   "metadata": {},
   "outputs": [],
   "source": [
    "print(oupatientcharge2012['Average  Estimated Submitted Charges'].mean())\n",
    "print(Merged_df2['Average Estimated Total Submitted Charges'].mean())"
   ]
  },
  {
   "cell_type": "code",
   "execution_count": null,
   "metadata": {},
   "outputs": [],
   "source": [
    "#county_location=gpd.read_file('data/County_Location.geojson')\n",
    "#county_location.head()"
   ]
  },
  {
   "cell_type": "code",
   "execution_count": null,
   "metadata": {},
   "outputs": [],
   "source": [
    "#county_location=county_location[['COUNTY_NAME','geometry']]\\\n",
    "#.rename(columns={'COUNTY_NAME':'County'})\n",
    "#county_location.head()"
   ]
  },
  {
   "cell_type": "code",
   "execution_count": null,
   "metadata": {},
   "outputs": [],
   "source": [
    "#combined_df['County']=combined_df['County'].apply(lambda x: x.upper())"
   ]
  },
  {
   "cell_type": "markdown",
   "metadata": {},
   "source": [
    "# Things to do on Today\n",
    "\n",
    "- Use Quality Indicators data from hospital information  data\n",
    "- Check national comparison for readmission \n",
    "- Do Every Analysis for one Procedure: Example Level 3 Endovascular Procedure."
   ]
  }
 ],
 "metadata": {
  "kernelspec": {
   "display_name": "Python 3",
   "language": "python",
   "name": "python3"
  },
  "language_info": {
   "codemirror_mode": {
    "name": "ipython",
    "version": 3
   },
   "file_extension": ".py",
   "mimetype": "text/x-python",
   "name": "python",
   "nbconvert_exporter": "python",
   "pygments_lexer": "ipython3",
   "version": "3.6.4"
  }
 },
 "nbformat": 4,
 "nbformat_minor": 2
}
